{
 "cells": [
  {
   "cell_type": "markdown",
   "id": "768fc962",
   "metadata": {},
   "source": [
    "## Library Imports\n",
    "\n",
    "All required libraries are imported below."
   ]
  },
  {
   "cell_type": "code",
   "execution_count": null,
   "id": "8a1babb7",
   "metadata": {
    "heading": "Libraries and Setup",
    "id": "aY_hd4AlEJcQ"
   },
   "outputs": [],
   "source": [
    "# Import necessary libraries\n",
    "#libraries to work with\n",
    "import pandas as pd        #we use pandas to read our data \n",
    "import numpy as np         #we use  numpy to work with mathematical expressions"
   ]
  },
  {
   "cell_type": "code",
   "execution_count": 179,
   "id": "94073549",
   "metadata": {
    "heading": "Data Loading and Exploration",
    "id": "3mEq1mzJGAoH"
   },
   "outputs": [],
   "source": [
    "# Load and explore the dataset\n",
    "df=pd.read_csv(\"C:\\\\Users\\\\sb193\\\\OneDrive\\\\Documents\\\\Pandas.csv\")"
   ]
  },
  {
   "cell_type": "code",
   "execution_count": null,
   "id": "b1eae153",
   "metadata": {
    "colab": {
     "base_uri": "https://localhost:8080/",
     "height": 258
    },
    "heading": "Data Loading and Exploration",
    "id": "hxDCShSgGAku",
    "outputId": "87f903a0-f39a-4942-f3a0-03d3462e8ebf"
   },
   "outputs": [
    {
     "data": {
      "text/html": [
       "<div>\n",
       "<style scoped>\n",
       "    .dataframe tbody tr th:only-of-type {\n",
       "        vertical-align: middle;\n",
       "    }\n",
       "\n",
       "    .dataframe tbody tr th {\n",
       "        vertical-align: top;\n",
       "    }\n",
       "\n",
       "    .dataframe thead th {\n",
       "        text-align: right;\n",
       "    }\n",
       "</style>\n",
       "<table border=\"1\" class=\"dataframe\">\n",
       "  <thead>\n",
       "    <tr style=\"text-align: right;\">\n",
       "      <th></th>\n",
       "      <th>Rank</th>\n",
       "      <th>Title</th>\n",
       "      <th>Employees</th>\n",
       "      <th>Sector</th>\n",
       "      <th>Industry</th>\n",
       "      <th>Hqcity</th>\n",
       "      <th>Ceo</th>\n",
       "      <th>Ceo-title</th>\n",
       "      <th>Revenues</th>\n",
       "      <th>Revchange</th>\n",
       "      <th>Profits</th>\n",
       "      <th>Prftchange</th>\n",
       "      <th>Assets</th>\n",
       "    </tr>\n",
       "  </thead>\n",
       "  <tbody>\n",
       "    <tr>\n",
       "      <th>0</th>\n",
       "      <td>1</td>\n",
       "      <td>Walmart</td>\n",
       "      <td>2300000</td>\n",
       "      <td>Retailing</td>\n",
       "      <td>General Merchandisers</td>\n",
       "      <td>Bentonville</td>\n",
       "      <td>C. Douglas McMillon</td>\n",
       "      <td>President, Chief Executive Officer &amp; Director</td>\n",
       "      <td>485873</td>\n",
       "      <td>0.8</td>\n",
       "      <td>13643.0</td>\n",
       "      <td>-7.2</td>\n",
       "      <td>198825</td>\n",
       "    </tr>\n",
       "    <tr>\n",
       "      <th>1</th>\n",
       "      <td>2</td>\n",
       "      <td>Berkshire Hathaway</td>\n",
       "      <td>367700</td>\n",
       "      <td>Financials</td>\n",
       "      <td>Insurance: Property and Casualty (Stock)</td>\n",
       "      <td>Omaha</td>\n",
       "      <td>Warren E. Buffett</td>\n",
       "      <td>Chairman &amp; Chief Executive Officer</td>\n",
       "      <td>223604</td>\n",
       "      <td>6.1</td>\n",
       "      <td>24074.0</td>\n",
       "      <td>0</td>\n",
       "      <td>620854</td>\n",
       "    </tr>\n",
       "    <tr>\n",
       "      <th>2</th>\n",
       "      <td>3</td>\n",
       "      <td>Apple</td>\n",
       "      <td>116000</td>\n",
       "      <td>Technology</td>\n",
       "      <td>Computers, Office Equipment</td>\n",
       "      <td>Cupertino</td>\n",
       "      <td>Timothy D. Cook</td>\n",
       "      <td>Chief Executive Officer &amp; Director</td>\n",
       "      <td>215639</td>\n",
       "      <td>-7.7</td>\n",
       "      <td>45687.0</td>\n",
       "      <td>-14.4</td>\n",
       "      <td>321686</td>\n",
       "    </tr>\n",
       "    <tr>\n",
       "      <th>3</th>\n",
       "      <td>4</td>\n",
       "      <td>Exxon Mobil</td>\n",
       "      <td>72700</td>\n",
       "      <td>Energy</td>\n",
       "      <td>Petroleum Refining</td>\n",
       "      <td>Irving</td>\n",
       "      <td>Darren W. Woods</td>\n",
       "      <td>Chairman &amp; Chief Executive Officer</td>\n",
       "      <td>205004</td>\n",
       "      <td>-16.7</td>\n",
       "      <td>7840.0</td>\n",
       "      <td>-51.5</td>\n",
       "      <td>330314</td>\n",
       "    </tr>\n",
       "    <tr>\n",
       "      <th>4</th>\n",
       "      <td>5</td>\n",
       "      <td>McKesson</td>\n",
       "      <td>68000</td>\n",
       "      <td>Wholesalers</td>\n",
       "      <td>Wholesalers: Health Care</td>\n",
       "      <td>San Francisco</td>\n",
       "      <td>John H. Hammergren</td>\n",
       "      <td>Chairman, President &amp; Chief Executive Officer</td>\n",
       "      <td>192487</td>\n",
       "      <td>6.2</td>\n",
       "      <td>2258.0</td>\n",
       "      <td>53</td>\n",
       "      <td>56563</td>\n",
       "    </tr>\n",
       "  </tbody>\n",
       "</table>\n",
       "</div>"
      ],
      "text/plain": [
       "   Rank               Title  Employees       Sector  \\\n",
       "0     1             Walmart    2300000    Retailing   \n",
       "1     2  Berkshire Hathaway     367700   Financials   \n",
       "2     3               Apple     116000   Technology   \n",
       "3     4         Exxon Mobil      72700       Energy   \n",
       "4     5            McKesson      68000  Wholesalers   \n",
       "\n",
       "                                   Industry         Hqcity  \\\n",
       "0                     General Merchandisers    Bentonville   \n",
       "1  Insurance: Property and Casualty (Stock)          Omaha   \n",
       "2               Computers, Office Equipment      Cupertino   \n",
       "3                        Petroleum Refining         Irving   \n",
       "4                  Wholesalers: Health Care  San Francisco   \n",
       "\n",
       "                   Ceo                                      Ceo-title  \\\n",
       "0  C. Douglas McMillon  President, Chief Executive Officer & Director   \n",
       "1    Warren E. Buffett             Chairman & Chief Executive Officer   \n",
       "2      Timothy D. Cook             Chief Executive Officer & Director   \n",
       "3      Darren W. Woods             Chairman & Chief Executive Officer   \n",
       "4   John H. Hammergren  Chairman, President & Chief Executive Officer   \n",
       "\n",
       "   Revenues  Revchange  Profits Prftchange  Assets  \n",
       "0    485873        0.8  13643.0       -7.2  198825  \n",
       "1    223604        6.1  24074.0          0  620854  \n",
       "2    215639       -7.7  45687.0      -14.4  321686  \n",
       "3    205004      -16.7   7840.0      -51.5  330314  \n",
       "4    192487        6.2   2258.0         53   56563  "
      ]
     },
     "execution_count": 180,
     "metadata": {},
     "output_type": "execute_result"
    }
   ],
   "source": [
    "# It gives us first five rows of the dataset. \n",
    "df.head()"
   ]
  },
  {
   "cell_type": "code",
   "execution_count": null,
   "id": "62870ccd",
   "metadata": {
    "colab": {
     "base_uri": "https://localhost:8080/",
     "height": 275
    },
    "heading": "Data Loading and Exploration",
    "id": "T1bkAke8GAif",
    "outputId": "01e2bffd-bc56-49d5-bf89-47b30ab7999a"
   },
   "outputs": [
    {
     "data": {
      "text/html": [
       "<div>\n",
       "<style scoped>\n",
       "    .dataframe tbody tr th:only-of-type {\n",
       "        vertical-align: middle;\n",
       "    }\n",
       "\n",
       "    .dataframe tbody tr th {\n",
       "        vertical-align: top;\n",
       "    }\n",
       "\n",
       "    .dataframe thead th {\n",
       "        text-align: right;\n",
       "    }\n",
       "</style>\n",
       "<table border=\"1\" class=\"dataframe\">\n",
       "  <thead>\n",
       "    <tr style=\"text-align: right;\">\n",
       "      <th></th>\n",
       "      <th>Rank</th>\n",
       "      <th>Title</th>\n",
       "      <th>Employees</th>\n",
       "      <th>Sector</th>\n",
       "      <th>Industry</th>\n",
       "      <th>Hqcity</th>\n",
       "      <th>Ceo</th>\n",
       "      <th>Ceo-title</th>\n",
       "      <th>Revenues</th>\n",
       "      <th>Revchange</th>\n",
       "      <th>Profits</th>\n",
       "      <th>Prftchange</th>\n",
       "      <th>Assets</th>\n",
       "    </tr>\n",
       "  </thead>\n",
       "  <tbody>\n",
       "    <tr>\n",
       "      <th>495</th>\n",
       "      <td>496</td>\n",
       "      <td>Michaels Cos.</td>\n",
       "      <td>31000</td>\n",
       "      <td>Retailing</td>\n",
       "      <td>Specialty Retailers: Other</td>\n",
       "      <td>Irving</td>\n",
       "      <td>Carl S. Rubin</td>\n",
       "      <td>Chairman &amp; Chief Executive Officer</td>\n",
       "      <td>5197</td>\n",
       "      <td>5.8</td>\n",
       "      <td>378.2</td>\n",
       "      <td>4.2</td>\n",
       "      <td>2148</td>\n",
       "    </tr>\n",
       "    <tr>\n",
       "      <th>496</th>\n",
       "      <td>497</td>\n",
       "      <td>Toll Brothers</td>\n",
       "      <td>4200</td>\n",
       "      <td>Engineering &amp; Construction</td>\n",
       "      <td>Homebuilders</td>\n",
       "      <td>Horsham</td>\n",
       "      <td>Douglas C. Yearley Jr.</td>\n",
       "      <td>Chief Executive Officer &amp; Director</td>\n",
       "      <td>5170</td>\n",
       "      <td>23.9</td>\n",
       "      <td>382.1</td>\n",
       "      <td>5.2</td>\n",
       "      <td>9737</td>\n",
       "    </tr>\n",
       "    <tr>\n",
       "      <th>497</th>\n",
       "      <td>498</td>\n",
       "      <td>Yahoo</td>\n",
       "      <td>8500</td>\n",
       "      <td>Technology</td>\n",
       "      <td>Internet Services and Retailing</td>\n",
       "      <td>Sunnyvale</td>\n",
       "      <td>Marissa A. Mayer</td>\n",
       "      <td>President, Chief Executive Officer &amp; Director</td>\n",
       "      <td>5169</td>\n",
       "      <td>4.0</td>\n",
       "      <td>-214.3</td>\n",
       "      <td>5.2</td>\n",
       "      <td>48083</td>\n",
       "    </tr>\n",
       "    <tr>\n",
       "      <th>498</th>\n",
       "      <td>499</td>\n",
       "      <td>Vistra Energy</td>\n",
       "      <td>4431</td>\n",
       "      <td>Energy</td>\n",
       "      <td>Energy</td>\n",
       "      <td>Dallas</td>\n",
       "      <td>Curtis A. Morgan</td>\n",
       "      <td>President, Chief Executive Officer &amp; Director</td>\n",
       "      <td>5164</td>\n",
       "      <td>4.0</td>\n",
       "      <td>-214.3</td>\n",
       "      <td>5.2</td>\n",
       "      <td>15167</td>\n",
       "    </tr>\n",
       "    <tr>\n",
       "      <th>499</th>\n",
       "      <td>500</td>\n",
       "      <td>ABM Industries</td>\n",
       "      <td>110000</td>\n",
       "      <td>Business Services</td>\n",
       "      <td>Diversified Outsourcing Services</td>\n",
       "      <td>New York</td>\n",
       "      <td>Scott B. Salmirs</td>\n",
       "      <td>President, Chief Executive Officer &amp; Director</td>\n",
       "      <td>5145</td>\n",
       "      <td>-2.8</td>\n",
       "      <td>57.2</td>\n",
       "      <td>-25</td>\n",
       "      <td>2281</td>\n",
       "    </tr>\n",
       "  </tbody>\n",
       "</table>\n",
       "</div>"
      ],
      "text/plain": [
       "     Rank           Title  Employees                      Sector  \\\n",
       "495   496   Michaels Cos.      31000                   Retailing   \n",
       "496   497   Toll Brothers       4200  Engineering & Construction   \n",
       "497   498           Yahoo       8500                  Technology   \n",
       "498   499   Vistra Energy       4431                      Energy   \n",
       "499   500  ABM Industries     110000           Business Services   \n",
       "\n",
       "                             Industry     Hqcity                     Ceo  \\\n",
       "495        Specialty Retailers: Other     Irving           Carl S. Rubin   \n",
       "496                      Homebuilders    Horsham  Douglas C. Yearley Jr.   \n",
       "497   Internet Services and Retailing  Sunnyvale        Marissa A. Mayer   \n",
       "498                            Energy     Dallas        Curtis A. Morgan   \n",
       "499  Diversified Outsourcing Services   New York        Scott B. Salmirs   \n",
       "\n",
       "                                         Ceo-title  Revenues  Revchange  \\\n",
       "495             Chairman & Chief Executive Officer      5197        5.8   \n",
       "496             Chief Executive Officer & Director      5170       23.9   \n",
       "497  President, Chief Executive Officer & Director      5169        4.0   \n",
       "498  President, Chief Executive Officer & Director      5164        4.0   \n",
       "499  President, Chief Executive Officer & Director      5145       -2.8   \n",
       "\n",
       "     Profits Prftchange  Assets  \n",
       "495    378.2        4.2    2148  \n",
       "496    382.1        5.2    9737  \n",
       "497   -214.3        5.2   48083  \n",
       "498   -214.3        5.2   15167  \n",
       "499     57.2        -25    2281  "
      ]
     },
     "execution_count": 181,
     "metadata": {},
     "output_type": "execute_result"
    }
   ],
   "source": [
    "#It gives last five rows of the dataset. \n",
    "df.tail()"
   ]
  },
  {
   "cell_type": "code",
   "execution_count": 182,
   "id": "384043aa",
   "metadata": {
    "colab": {
     "base_uri": "https://localhost:8080/"
    },
    "id": "rZSp1mF8GAgK",
    "outputId": "0afbf163-2189-4630-a46f-71a21043b65e"
   },
   "outputs": [
    {
     "data": {
      "text/plain": [
       "(500, 13)"
      ]
     },
     "execution_count": 182,
     "metadata": {},
     "output_type": "execute_result"
    }
   ],
   "source": [
    "# To find rows and columns\n",
    "df.shape"
   ]
  },
  {
   "cell_type": "code",
   "execution_count": 183,
   "id": "5b371271",
   "metadata": {
    "colab": {
     "base_uri": "https://localhost:8080/"
    },
    "heading": "Data Loading and Exploration",
    "id": "fAwZoZPOGAdk",
    "outputId": "2352efd0-250c-4432-98a7-49438cf3e820"
   },
   "outputs": [
    {
     "name": "stdout",
     "output_type": "stream",
     "text": [
      "<class 'pandas.core.frame.DataFrame'>\n",
      "RangeIndex: 500 entries, 0 to 499\n",
      "Data columns (total 13 columns):\n",
      " #   Column      Non-Null Count  Dtype  \n",
      "---  ------      --------------  -----  \n",
      " 0   Rank        500 non-null    int64  \n",
      " 1   Title       500 non-null    object \n",
      " 2   Employees   500 non-null    int64  \n",
      " 3   Sector      500 non-null    object \n",
      " 4   Industry    500 non-null    object \n",
      " 5   Hqcity      500 non-null    object \n",
      " 6   Ceo         500 non-null    object \n",
      " 7   Ceo-title   500 non-null    object \n",
      " 8   Revenues    500 non-null    int64  \n",
      " 9   Revchange   500 non-null    float64\n",
      " 10  Profits     500 non-null    float64\n",
      " 11  Prftchange  500 non-null    object \n",
      " 12  Assets      500 non-null    int64  \n",
      "dtypes: float64(2), int64(4), object(7)\n",
      "memory usage: 50.9+ KB\n"
     ]
    }
   ],
   "source": [
    "# For the information about the data\n",
    "df.info()"
   ]
  },
  {
   "cell_type": "code",
   "execution_count": null,
   "id": "3fd042e5",
   "metadata": {
    "id": "aUzMYrRZGAbb"
   },
   "outputs": [],
   "source": [
    "\n",
    "sub_df= df[[\"Rank\",\"Title\",\"Employees\",\"Sector\",\"Revenues\",\"Profits\"]]"
   ]
  },
  {
   "cell_type": "code",
   "execution_count": 185,
   "id": "1f5eb959",
   "metadata": {
    "colab": {
     "base_uri": "https://localhost:8080/",
     "height": 143
    },
    "id": "fb9v35AJGARO",
    "outputId": "f8c35305-a7dd-4d00-8ee0-7508c8bfa0b8"
   },
   "outputs": [
    {
     "data": {
      "text/html": [
       "<div>\n",
       "<style scoped>\n",
       "    .dataframe tbody tr th:only-of-type {\n",
       "        vertical-align: middle;\n",
       "    }\n",
       "\n",
       "    .dataframe tbody tr th {\n",
       "        vertical-align: top;\n",
       "    }\n",
       "\n",
       "    .dataframe thead th {\n",
       "        text-align: right;\n",
       "    }\n",
       "</style>\n",
       "<table border=\"1\" class=\"dataframe\">\n",
       "  <thead>\n",
       "    <tr style=\"text-align: right;\">\n",
       "      <th></th>\n",
       "      <th>Rank</th>\n",
       "      <th>Title</th>\n",
       "      <th>Employees</th>\n",
       "      <th>Sector</th>\n",
       "      <th>Revenues</th>\n",
       "      <th>Profits</th>\n",
       "    </tr>\n",
       "  </thead>\n",
       "  <tbody>\n",
       "    <tr>\n",
       "      <th>0</th>\n",
       "      <td>1</td>\n",
       "      <td>Walmart</td>\n",
       "      <td>2300000</td>\n",
       "      <td>Retailing</td>\n",
       "      <td>485873</td>\n",
       "      <td>13643.0</td>\n",
       "    </tr>\n",
       "    <tr>\n",
       "      <th>1</th>\n",
       "      <td>2</td>\n",
       "      <td>Berkshire Hathaway</td>\n",
       "      <td>367700</td>\n",
       "      <td>Financials</td>\n",
       "      <td>223604</td>\n",
       "      <td>24074.0</td>\n",
       "    </tr>\n",
       "    <tr>\n",
       "      <th>2</th>\n",
       "      <td>3</td>\n",
       "      <td>Apple</td>\n",
       "      <td>116000</td>\n",
       "      <td>Technology</td>\n",
       "      <td>215639</td>\n",
       "      <td>45687.0</td>\n",
       "    </tr>\n",
       "  </tbody>\n",
       "</table>\n",
       "</div>"
      ],
      "text/plain": [
       "   Rank               Title  Employees      Sector  Revenues  Profits\n",
       "0     1             Walmart    2300000   Retailing    485873  13643.0\n",
       "1     2  Berkshire Hathaway     367700  Financials    223604  24074.0\n",
       "2     3               Apple     116000  Technology    215639  45687.0"
      ]
     },
     "execution_count": 185,
     "metadata": {},
     "output_type": "execute_result"
    }
   ],
   "source": [
    "sub_df.head(3)    #this will show only 3 rows"
   ]
  },
  {
   "cell_type": "code",
   "execution_count": 186,
   "id": "bccb8bf6",
   "metadata": {
    "colab": {
     "base_uri": "https://localhost:8080/",
     "height": 300
    },
    "heading": "Data Loading and Exploration",
    "id": "UCSfo5TdI76r",
    "outputId": "ec6ecf49-a6b2-4592-87bf-1aee6fc0ce9e"
   },
   "outputs": [
    {
     "data": {
      "text/html": [
       "<div>\n",
       "<style scoped>\n",
       "    .dataframe tbody tr th:only-of-type {\n",
       "        vertical-align: middle;\n",
       "    }\n",
       "\n",
       "    .dataframe tbody tr th {\n",
       "        vertical-align: top;\n",
       "    }\n",
       "\n",
       "    .dataframe thead th {\n",
       "        text-align: right;\n",
       "    }\n",
       "</style>\n",
       "<table border=\"1\" class=\"dataframe\">\n",
       "  <thead>\n",
       "    <tr style=\"text-align: right;\">\n",
       "      <th></th>\n",
       "      <th>Rank</th>\n",
       "      <th>Employees</th>\n",
       "      <th>Revenues</th>\n",
       "      <th>Profits</th>\n",
       "    </tr>\n",
       "  </thead>\n",
       "  <tbody>\n",
       "    <tr>\n",
       "      <th>count</th>\n",
       "      <td>500.000000</td>\n",
       "      <td>5.000000e+02</td>\n",
       "      <td>500.000000</td>\n",
       "      <td>500.000000</td>\n",
       "    </tr>\n",
       "    <tr>\n",
       "      <th>mean</th>\n",
       "      <td>250.492000</td>\n",
       "      <td>5.635013e+04</td>\n",
       "      <td>24111.748000</td>\n",
       "      <td>1779.479800</td>\n",
       "    </tr>\n",
       "    <tr>\n",
       "      <th>std</th>\n",
       "      <td>144.477366</td>\n",
       "      <td>1.234520e+05</td>\n",
       "      <td>38337.353337</td>\n",
       "      <td>3937.558721</td>\n",
       "    </tr>\n",
       "    <tr>\n",
       "      <th>min</th>\n",
       "      <td>1.000000</td>\n",
       "      <td>8.300000e+01</td>\n",
       "      <td>5145.000000</td>\n",
       "      <td>-6177.000000</td>\n",
       "    </tr>\n",
       "    <tr>\n",
       "      <th>25%</th>\n",
       "      <td>125.750000</td>\n",
       "      <td>1.190000e+04</td>\n",
       "      <td>7245.000000</td>\n",
       "      <td>235.725000</td>\n",
       "    </tr>\n",
       "    <tr>\n",
       "      <th>50%</th>\n",
       "      <td>250.500000</td>\n",
       "      <td>2.500000e+04</td>\n",
       "      <td>11384.000000</td>\n",
       "      <td>683.600000</td>\n",
       "    </tr>\n",
       "    <tr>\n",
       "      <th>75%</th>\n",
       "      <td>375.250000</td>\n",
       "      <td>5.682525e+04</td>\n",
       "      <td>22605.250000</td>\n",
       "      <td>1770.775000</td>\n",
       "    </tr>\n",
       "    <tr>\n",
       "      <th>max</th>\n",
       "      <td>500.000000</td>\n",
       "      <td>2.300000e+06</td>\n",
       "      <td>485873.000000</td>\n",
       "      <td>45687.000000</td>\n",
       "    </tr>\n",
       "  </tbody>\n",
       "</table>\n",
       "</div>"
      ],
      "text/plain": [
       "             Rank     Employees       Revenues       Profits\n",
       "count  500.000000  5.000000e+02     500.000000    500.000000\n",
       "mean   250.492000  5.635013e+04   24111.748000   1779.479800\n",
       "std    144.477366  1.234520e+05   38337.353337   3937.558721\n",
       "min      1.000000  8.300000e+01    5145.000000  -6177.000000\n",
       "25%    125.750000  1.190000e+04    7245.000000    235.725000\n",
       "50%    250.500000  2.500000e+04   11384.000000    683.600000\n",
       "75%    375.250000  5.682525e+04   22605.250000   1770.775000\n",
       "max    500.000000  2.300000e+06  485873.000000  45687.000000"
      ]
     },
     "execution_count": 186,
     "metadata": {},
     "output_type": "execute_result"
    }
   ],
   "source": [
    "sub_df.describe()        #this will describe our data its count,mean,std,min,max etc."
   ]
  },
  {
   "cell_type": "code",
   "execution_count": 187,
   "id": "b0930ef7",
   "metadata": {
    "colab": {
     "base_uri": "https://localhost:8080/"
    },
    "id": "8NMiz-ACI73H",
    "outputId": "c6af3f18-5a6c-4396-f13f-80a39c319736"
   },
   "outputs": [
    {
     "data": {
      "text/plain": [
       "24111.748"
      ]
     },
     "execution_count": 187,
     "metadata": {},
     "output_type": "execute_result"
    }
   ],
   "source": [
    "mean_revenue= sub_df[\"Revenues\"].mean()           #to find mean of any column\n",
    "mean_revenue"
   ]
  },
  {
   "cell_type": "code",
   "execution_count": 188,
   "id": "8e213f90",
   "metadata": {
    "colab": {
     "base_uri": "https://localhost:8080/",
     "height": 115
    },
    "id": "UqpGVt2CI70v",
    "outputId": "b8b8d435-f009-492a-852e-d29b31965b2f"
   },
   "outputs": [
    {
     "data": {
      "text/plain": [
       "0    9061\n",
       "Name: Revenues, dtype: int64"
      ]
     },
     "execution_count": 188,
     "metadata": {},
     "output_type": "execute_result"
    }
   ],
   "source": [
    "mode_revenue= sub_df[\"Revenues\"].mode()           #to find mode of any column\n",
    "mode_revenue"
   ]
  },
  {
   "cell_type": "code",
   "execution_count": 189,
   "id": "a92e63ad",
   "metadata": {
    "colab": {
     "base_uri": "https://localhost:8080/"
    },
    "id": "v0lNN9QMI7yV",
    "outputId": "709165ae-7957-4421-8a9f-35c1f3a49f23"
   },
   "outputs": [
    {
     "data": {
      "text/plain": [
       "11384.0"
      ]
     },
     "execution_count": 189,
     "metadata": {},
     "output_type": "execute_result"
    }
   ],
   "source": [
    "median_revenue= sub_df[\"Revenues\"].median()       #to find median of any column\n",
    "median_revenue"
   ]
  },
  {
   "cell_type": "code",
   "execution_count": 190,
   "id": "93afae85",
   "metadata": {
    "colab": {
     "base_uri": "https://localhost:8080/"
    },
    "id": "bUxiiOAuI7vw",
    "outputId": "fcf8c2e2-df29-4c26-f115-68b3824c00c3"
   },
   "outputs": [
    {
     "data": {
      "text/plain": [
       "5145"
      ]
     },
     "execution_count": 190,
     "metadata": {},
     "output_type": "execute_result"
    }
   ],
   "source": [
    "C_revenue= sub_df[\"Revenues\"].min()              #to find min value in the column\n",
    "C_revenue"
   ]
  },
  {
   "cell_type": "code",
   "execution_count": 191,
   "id": "0202b214",
   "metadata": {
    "colab": {
     "base_uri": "https://localhost:8080/"
    },
    "id": "RyKXzJjaI7tU",
    "outputId": "f776c6da-f512-4d14-8109-bcf6007af3d9"
   },
   "outputs": [
    {
     "data": {
      "text/plain": [
       "485873"
      ]
     },
     "execution_count": 191,
     "metadata": {},
     "output_type": "execute_result"
    }
   ],
   "source": [
    "W_revenue= sub_df[\"Revenues\"].max()               #to find the max value in the column\n",
    "W_revenue"
   ]
  },
  {
   "cell_type": "code",
   "execution_count": 192,
   "id": "c4e2562d",
   "metadata": {
    "colab": {
     "base_uri": "https://localhost:8080/"
    },
    "id": "jlrTOtxNI7pH",
    "outputId": "1d26d485-b197-4ce1-d01b-26e6d66ff33b"
   },
   "outputs": [
    {
     "data": {
      "text/plain": [
       "480728"
      ]
     },
     "execution_count": 192,
     "metadata": {},
     "output_type": "execute_result"
    }
   ],
   "source": [
    "range= W_revenue-C_revenue                      #Find range while subtracting max by min value\n",
    "range"
   ]
  },
  {
   "cell_type": "code",
   "execution_count": 193,
   "id": "6e286bcd",
   "metadata": {
    "colab": {
     "base_uri": "https://localhost:8080/"
    },
    "id": "BgvO39UsI7lv",
    "outputId": "d815273f-76f2-40fd-eae6-e2d8b93e20d3"
   },
   "outputs": [
    {
     "data": {
      "text/plain": [
       "480728"
      ]
     },
     "execution_count": 193,
     "metadata": {},
     "output_type": "execute_result"
    }
   ],
   "source": [
    "range=sub_df[\"Revenues\"].max()-sub_df[\"Revenues\"].min()\n",
    "range"
   ]
  },
  {
   "cell_type": "code",
   "execution_count": 194,
   "id": "ad581fd7",
   "metadata": {
    "colab": {
     "base_uri": "https://localhost:8080/"
    },
    "id": "DkJ85_PPI7iq",
    "outputId": "cbcafd76-edf2-4c47-eaa3-80ac1885b143"
   },
   "outputs": [
    {
     "data": {
      "text/plain": [
       "38337.35333653324"
      ]
     },
     "execution_count": 194,
     "metadata": {},
     "output_type": "execute_result"
    }
   ],
   "source": [
    "st=sub_df[\"Revenues\"].std()               #find standard deviation of any column\n",
    "st"
   ]
  },
  {
   "cell_type": "code",
   "execution_count": 195,
   "id": "a432e64c",
   "metadata": {
    "colab": {
     "base_uri": "https://localhost:8080/"
    },
    "id": "3TFBreRr7URx",
    "outputId": "995781c5-3a01-402f-9a2f-892f0bb2745a"
   },
   "outputs": [
    {
     "data": {
      "text/plain": [
       "1469752660.8501961"
      ]
     },
     "execution_count": 195,
     "metadata": {},
     "output_type": "execute_result"
    }
   ],
   "source": [
    "sd=sub_df[\"Revenues\"].var()           #to find the variance of column\n",
    "sd"
   ]
  },
  {
   "cell_type": "markdown",
   "id": "b1e87b62",
   "metadata": {
    "id": "ruZLB2X08Vrz"
   },
   "source": [
    "#IQR"
   ]
  },
  {
   "cell_type": "code",
   "execution_count": 197,
   "id": "e2c63c4d",
   "metadata": {
    "colab": {
     "base_uri": "https://localhost:8080/"
    },
    "id": "zeb0TaNZ8ZvZ",
    "outputId": "95709706-664d-427a-9e7d-a7ccdf430483"
   },
   "outputs": [
    {
     "data": {
      "text/plain": [
       "7245.0"
      ]
     },
     "execution_count": 197,
     "metadata": {},
     "output_type": "execute_result"
    }
   ],
   "source": [
    "#Its like quartile but in python we call it quantile\n",
    "#p75=Q3 and P25=Q1\n",
    "q1 = sub_df[\"Revenues\"].quantile(0.25)\n",
    "q1"
   ]
  },
  {
   "cell_type": "code",
   "execution_count": 198,
   "id": "ba23ae8c",
   "metadata": {
    "colab": {
     "base_uri": "https://localhost:8080/"
    },
    "id": "BY3r1GwD7UOP",
    "outputId": "048d512d-bb22-402a-f847-dc18ed34f368"
   },
   "outputs": [
    {
     "data": {
      "text/plain": [
       "22605.25"
      ]
     },
     "execution_count": 198,
     "metadata": {},
     "output_type": "execute_result"
    }
   ],
   "source": [
    "q3 = sub_df[\"Revenues\"].quantile(0.75)\n",
    "q3"
   ]
  },
  {
   "cell_type": "code",
   "execution_count": 199,
   "id": "07079c11",
   "metadata": {
    "colab": {
     "base_uri": "https://localhost:8080/"
    },
    "id": "RYne408J7UL4",
    "outputId": "6e7d18a0-516a-47a0-c476-c67b98447941"
   },
   "outputs": [
    {
     "data": {
      "text/plain": [
       "15360.25"
      ]
     },
     "execution_count": 199,
     "metadata": {},
     "output_type": "execute_result"
    }
   ],
   "source": [
    "iqr= q3-q1\n",
    "iqr"
   ]
  },
  {
   "cell_type": "code",
   "execution_count": 200,
   "id": "884d3519",
   "metadata": {
    "colab": {
     "base_uri": "https://localhost:8080/"
    },
    "id": "4W4_frPF916m",
    "outputId": "402bde3b-0b17-4f1a-d0dc-c167257eba1e"
   },
   "outputs": [
    {
     "data": {
      "text/plain": [
       "15360.25"
      ]
     },
     "execution_count": 200,
     "metadata": {},
     "output_type": "execute_result"
    }
   ],
   "source": [
    "iqr2= sub_df[\"Revenues\"].quantile(0.75)-sub_df[\"Revenues\"].quantile(0.25)                    #Its the iqr\n",
    "iqr2"
   ]
  },
  {
   "cell_type": "code",
   "execution_count": 201,
   "id": "999b1b40",
   "metadata": {
    "colab": {
     "base_uri": "https://localhost:8080/"
    },
    "id": "yG75qQL_9ppv",
    "outputId": "b8c8fb5b-5b7d-43d9-f231-9c639e681ef2"
   },
   "outputs": [
    {
     "data": {
      "text/plain": [
       "5.480066970305041"
      ]
     },
     "execution_count": 201,
     "metadata": {},
     "output_type": "execute_result"
    }
   ],
   "source": [
    "skew= sub_df[\"Revenues\"].skew()        #to find skewness\n",
    "skew"
   ]
  },
  {
   "cell_type": "code",
   "execution_count": 202,
   "id": "5425f260",
   "metadata": {
    "colab": {
     "base_uri": "https://localhost:8080/"
    },
    "id": "TWYgtL5Z9pmW",
    "outputId": "22bde818-61ee-486f-dc44-60ad5193b67f"
   },
   "outputs": [
    {
     "data": {
      "text/plain": [
       "158.99864803055027"
      ]
     },
     "execution_count": 202,
     "metadata": {},
     "output_type": "execute_result"
    }
   ],
   "source": [
    "cv= (sub_df[\"Revenues\"].std()/sub_df[\"Revenues\"].mean()) *100           #to find cv\n",
    "cv"
   ]
  },
  {
   "cell_type": "code",
   "execution_count": 203,
   "id": "ffb147b4",
   "metadata": {
    "colab": {
     "base_uri": "https://localhost:8080/"
    },
    "id": "htGozmCw9phc",
    "outputId": "0e5d4a96-27be-477d-a5d2-a64e2e8cd090"
   },
   "outputs": [
    {
     "data": {
      "text/plain": [
       "221.2758313353473"
      ]
     },
     "execution_count": 203,
     "metadata": {},
     "output_type": "execute_result"
    }
   ],
   "source": [
    "cv2= (sub_df[\"Profits\"].std()/sub_df[\"Profits\"].mean()) *100\n",
    "cv2"
   ]
  },
  {
   "cell_type": "code",
   "execution_count": 204,
   "id": "b986ba2f",
   "metadata": {
    "colab": {
     "base_uri": "https://localhost:8080/",
     "height": 81
    },
    "heading": "Data Loading and Exploration",
    "id": "bs7YTlo49pfH",
    "outputId": "cbc0792d-1d24-4240-c3ff-498d6a167847"
   },
   "outputs": [
    {
     "data": {
      "text/html": [
       "<div>\n",
       "<style scoped>\n",
       "    .dataframe tbody tr th:only-of-type {\n",
       "        vertical-align: middle;\n",
       "    }\n",
       "\n",
       "    .dataframe tbody tr th {\n",
       "        vertical-align: top;\n",
       "    }\n",
       "\n",
       "    .dataframe thead th {\n",
       "        text-align: right;\n",
       "    }\n",
       "</style>\n",
       "<table border=\"1\" class=\"dataframe\">\n",
       "  <thead>\n",
       "    <tr style=\"text-align: right;\">\n",
       "      <th></th>\n",
       "      <th>Rank</th>\n",
       "      <th>Title</th>\n",
       "      <th>Employees</th>\n",
       "      <th>Sector</th>\n",
       "      <th>Revenues</th>\n",
       "      <th>Profits</th>\n",
       "    </tr>\n",
       "  </thead>\n",
       "  <tbody>\n",
       "    <tr>\n",
       "      <th>163</th>\n",
       "      <td>164</td>\n",
       "      <td>Paccar</td>\n",
       "      <td>23000</td>\n",
       "      <td>Industrials</td>\n",
       "      <td>17033</td>\n",
       "      <td>521.7</td>\n",
       "    </tr>\n",
       "  </tbody>\n",
       "</table>\n",
       "</div>"
      ],
      "text/plain": [
       "     Rank   Title  Employees       Sector  Revenues  Profits\n",
       "163   164  Paccar      23000  Industrials     17033    521.7"
      ]
     },
     "execution_count": 204,
     "metadata": {},
     "output_type": "execute_result"
    }
   ],
   "source": [
    "sub_df.sample(frac =0.0020)            #sample means any randome data from the dataset to use instead of using whole data"
   ]
  },
  {
   "cell_type": "code",
   "execution_count": 205,
   "id": "180cc767",
   "metadata": {
    "colab": {
     "base_uri": "https://localhost:8080/"
    },
    "id": "o5x2TQtTDTsV",
    "outputId": "18283e6f-f902-4b18-c250-f786564a6438"
   },
   "outputs": [
    {
     "name": "stdout",
     "output_type": "stream",
     "text": [
      "24044.977142857144\n"
     ]
    }
   ],
   "source": [
    "df_sample=sub_df.sample(frac =0.70, random_state =0)\n",
    "mean_2= df_sample[\"Revenues\"].mean()\n",
    "print(mean_2)"
   ]
  },
  {
   "cell_type": "code",
   "execution_count": 206,
   "id": "b7669e9a",
   "metadata": {
    "heading": "Data Loading and Exploration",
    "id": "Jb-OH6fyDTp-"
   },
   "outputs": [],
   "source": [
    "Que1= \"\"\"Select 70 % random rows from the dataset and condider this as a sample. calculate mean \n",
    "of this sample with respect to profit column. repeat the process 5 times\n",
    "# Comute the difference between actual mean and each of the sample mean seperately,tabulate your observations.\"\"\""
   ]
  },
  {
   "cell_type": "code",
   "execution_count": 207,
   "id": "b42a2caa",
   "metadata": {
    "colab": {
     "base_uri": "https://localhost:8080/",
     "height": 1000
    },
    "id": "cfoeuJAjrO-Z",
    "outputId": "a4e8a578-a027-4ba3-d7b5-148d8b542287"
   },
   "outputs": [
    {
     "data": {
      "text/html": [
       "<div>\n",
       "<style scoped>\n",
       "    .dataframe tbody tr th:only-of-type {\n",
       "        vertical-align: middle;\n",
       "    }\n",
       "\n",
       "    .dataframe tbody tr th {\n",
       "        vertical-align: top;\n",
       "    }\n",
       "\n",
       "    .dataframe thead th {\n",
       "        text-align: right;\n",
       "    }\n",
       "</style>\n",
       "<table border=\"1\" class=\"dataframe\">\n",
       "  <thead>\n",
       "    <tr style=\"text-align: right;\">\n",
       "      <th></th>\n",
       "      <th>Rank</th>\n",
       "      <th>Title</th>\n",
       "      <th>Employees</th>\n",
       "      <th>Sector</th>\n",
       "      <th>Revenues</th>\n",
       "      <th>Profits</th>\n",
       "    </tr>\n",
       "  </thead>\n",
       "  <tbody>\n",
       "    <tr>\n",
       "      <th>394</th>\n",
       "      <td>395</td>\n",
       "      <td>A-Mark Precious Metals</td>\n",
       "      <td>83</td>\n",
       "      <td>Materials</td>\n",
       "      <td>6784</td>\n",
       "      <td>9.3</td>\n",
       "    </tr>\n",
       "    <tr>\n",
       "      <th>375</th>\n",
       "      <td>376</td>\n",
       "      <td>Kindred Healthcare</td>\n",
       "      <td>76650</td>\n",
       "      <td>Health Care</td>\n",
       "      <td>7227</td>\n",
       "      <td>-664.2</td>\n",
       "    </tr>\n",
       "    <tr>\n",
       "      <th>332</th>\n",
       "      <td>333</td>\n",
       "      <td>Crown Holdings</td>\n",
       "      <td>23992</td>\n",
       "      <td>Materials</td>\n",
       "      <td>8284</td>\n",
       "      <td>496.0</td>\n",
       "    </tr>\n",
       "    <tr>\n",
       "      <th>125</th>\n",
       "      <td>126</td>\n",
       "      <td>Aflac</td>\n",
       "      <td>10212</td>\n",
       "      <td>Financials</td>\n",
       "      <td>22559</td>\n",
       "      <td>2659.0</td>\n",
       "    </tr>\n",
       "    <tr>\n",
       "      <th>198</th>\n",
       "      <td>199</td>\n",
       "      <td>CDW</td>\n",
       "      <td>8516</td>\n",
       "      <td>Technology</td>\n",
       "      <td>13982</td>\n",
       "      <td>424.4</td>\n",
       "    </tr>\n",
       "    <tr>\n",
       "      <th>216</th>\n",
       "      <td>217</td>\n",
       "      <td>Western Digital</td>\n",
       "      <td>72878</td>\n",
       "      <td>Technology</td>\n",
       "      <td>12994</td>\n",
       "      <td>242.0</td>\n",
       "    </tr>\n",
       "    <tr>\n",
       "      <th>412</th>\n",
       "      <td>413</td>\n",
       "      <td>Berry Global Group</td>\n",
       "      <td>21000</td>\n",
       "      <td>Materials</td>\n",
       "      <td>6489</td>\n",
       "      <td>236.0</td>\n",
       "    </tr>\n",
       "    <tr>\n",
       "      <th>293</th>\n",
       "      <td>294</td>\n",
       "      <td>Air Products &amp; Chemicals</td>\n",
       "      <td>18450</td>\n",
       "      <td>Chemicals</td>\n",
       "      <td>9524</td>\n",
       "      <td>631.1</td>\n",
       "    </tr>\n",
       "    <tr>\n",
       "      <th>480</th>\n",
       "      <td>481</td>\n",
       "      <td>Booz Allen Hamilton Holding</td>\n",
       "      <td>22600</td>\n",
       "      <td>Technology</td>\n",
       "      <td>5406</td>\n",
       "      <td>294.1</td>\n",
       "    </tr>\n",
       "    <tr>\n",
       "      <th>274</th>\n",
       "      <td>275</td>\n",
       "      <td>Praxair</td>\n",
       "      <td>26498</td>\n",
       "      <td>Chemicals</td>\n",
       "      <td>10534</td>\n",
       "      <td>1500.0</td>\n",
       "    </tr>\n",
       "    <tr>\n",
       "      <th>463</th>\n",
       "      <td>464</td>\n",
       "      <td>First American Financial</td>\n",
       "      <td>19531</td>\n",
       "      <td>Financials</td>\n",
       "      <td>5576</td>\n",
       "      <td>343.0</td>\n",
       "    </tr>\n",
       "    <tr>\n",
       "      <th>102</th>\n",
       "      <td>103</td>\n",
       "      <td>World Fuel Services</td>\n",
       "      <td>5000</td>\n",
       "      <td>Energy</td>\n",
       "      <td>27016</td>\n",
       "      <td>126.5</td>\n",
       "    </tr>\n",
       "    <tr>\n",
       "      <th>437</th>\n",
       "      <td>438</td>\n",
       "      <td>Alaska Air Group</td>\n",
       "      <td>19112</td>\n",
       "      <td>Transportation</td>\n",
       "      <td>5931</td>\n",
       "      <td>814.0</td>\n",
       "    </tr>\n",
       "    <tr>\n",
       "      <th>85</th>\n",
       "      <td>86</td>\n",
       "      <td>American Express</td>\n",
       "      <td>56400</td>\n",
       "      <td>Financials</td>\n",
       "      <td>33823</td>\n",
       "      <td>5408.0</td>\n",
       "    </tr>\n",
       "    <tr>\n",
       "      <th>33</th>\n",
       "      <td>34</td>\n",
       "      <td>Phillips 66</td>\n",
       "      <td>14800</td>\n",
       "      <td>Energy</td>\n",
       "      <td>72396</td>\n",
       "      <td>1555.0</td>\n",
       "    </tr>\n",
       "    <tr>\n",
       "      <th>304</th>\n",
       "      <td>305</td>\n",
       "      <td>BorgWarner</td>\n",
       "      <td>27000</td>\n",
       "      <td>Motor Vehicles &amp; Parts</td>\n",
       "      <td>9071</td>\n",
       "      <td>118.5</td>\n",
       "    </tr>\n",
       "    <tr>\n",
       "      <th>416</th>\n",
       "      <td>417</td>\n",
       "      <td>Dillardâ€™s</td>\n",
       "      <td>30800</td>\n",
       "      <td>Retailing</td>\n",
       "      <td>6418</td>\n",
       "      <td>169.2</td>\n",
       "    </tr>\n",
       "    <tr>\n",
       "      <th>409</th>\n",
       "      <td>410</td>\n",
       "      <td>Asbury Automotive Group</td>\n",
       "      <td>7900</td>\n",
       "      <td>Retailing</td>\n",
       "      <td>6528</td>\n",
       "      <td>167.2</td>\n",
       "    </tr>\n",
       "    <tr>\n",
       "      <th>355</th>\n",
       "      <td>356</td>\n",
       "      <td>EOG Resources</td>\n",
       "      <td>2650</td>\n",
       "      <td>Energy</td>\n",
       "      <td>7651</td>\n",
       "      <td>-1096.7</td>\n",
       "    </tr>\n",
       "    <tr>\n",
       "      <th>276</th>\n",
       "      <td>277</td>\n",
       "      <td>Discover Financial Services</td>\n",
       "      <td>15549</td>\n",
       "      <td>Financials</td>\n",
       "      <td>10497</td>\n",
       "      <td>2393.0</td>\n",
       "    </tr>\n",
       "    <tr>\n",
       "      <th>159</th>\n",
       "      <td>160</td>\n",
       "      <td>CenturyLink</td>\n",
       "      <td>40000</td>\n",
       "      <td>Telecommunications</td>\n",
       "      <td>17470</td>\n",
       "      <td>626.0</td>\n",
       "    </tr>\n",
       "    <tr>\n",
       "      <th>311</th>\n",
       "      <td>312</td>\n",
       "      <td>Oneok</td>\n",
       "      <td>2384</td>\n",
       "      <td>Energy</td>\n",
       "      <td>8921</td>\n",
       "      <td>352.0</td>\n",
       "    </tr>\n",
       "    <tr>\n",
       "      <th>403</th>\n",
       "      <td>403</td>\n",
       "      <td>JetBlue Airways</td>\n",
       "      <td>15986</td>\n",
       "      <td>Transportation</td>\n",
       "      <td>6632</td>\n",
       "      <td>759.0</td>\n",
       "    </tr>\n",
       "    <tr>\n",
       "      <th>164</th>\n",
       "      <td>165</td>\n",
       "      <td>General Mills</td>\n",
       "      <td>39000</td>\n",
       "      <td>Food, Beverages &amp; Tobacco</td>\n",
       "      <td>16563</td>\n",
       "      <td>1697.4</td>\n",
       "    </tr>\n",
       "    <tr>\n",
       "      <th>112</th>\n",
       "      <td>113</td>\n",
       "      <td>DuPont</td>\n",
       "      <td>46000</td>\n",
       "      <td>Chemicals</td>\n",
       "      <td>24594</td>\n",
       "      <td>2513.0</td>\n",
       "    </tr>\n",
       "    <tr>\n",
       "      <th>278</th>\n",
       "      <td>279</td>\n",
       "      <td>United States Steel</td>\n",
       "      <td>29800</td>\n",
       "      <td>Materials</td>\n",
       "      <td>10261</td>\n",
       "      <td>-440.0</td>\n",
       "    </tr>\n",
       "    <tr>\n",
       "      <th>340</th>\n",
       "      <td>341</td>\n",
       "      <td>Weyerhaeuser</td>\n",
       "      <td>10400</td>\n",
       "      <td>Materials</td>\n",
       "      <td>7902</td>\n",
       "      <td>1027.0</td>\n",
       "    </tr>\n",
       "    <tr>\n",
       "      <th>110</th>\n",
       "      <td>111</td>\n",
       "      <td>AbbVie</td>\n",
       "      <td>30000</td>\n",
       "      <td>Health Care</td>\n",
       "      <td>25638</td>\n",
       "      <td>5953.0</td>\n",
       "    </tr>\n",
       "    <tr>\n",
       "      <th>454</th>\n",
       "      <td>455</td>\n",
       "      <td>M&amp;T Bank Corp.</td>\n",
       "      <td>16487</td>\n",
       "      <td>Financials</td>\n",
       "      <td>5722</td>\n",
       "      <td>1315.1</td>\n",
       "    </tr>\n",
       "    <tr>\n",
       "      <th>281</th>\n",
       "      <td>282</td>\n",
       "      <td>W.W. Grainger</td>\n",
       "      <td>25000</td>\n",
       "      <td>Wholesalers</td>\n",
       "      <td>10137</td>\n",
       "      <td>605.9</td>\n",
       "    </tr>\n",
       "    <tr>\n",
       "      <th>218</th>\n",
       "      <td>219</td>\n",
       "      <td>Ross Stores</td>\n",
       "      <td>78600</td>\n",
       "      <td>Retailing</td>\n",
       "      <td>12867</td>\n",
       "      <td>1117.7</td>\n",
       "    </tr>\n",
       "    <tr>\n",
       "      <th>121</th>\n",
       "      <td>122</td>\n",
       "      <td>Enterprise Products Partners</td>\n",
       "      <td>6800</td>\n",
       "      <td>Energy</td>\n",
       "      <td>23022</td>\n",
       "      <td>2513.1</td>\n",
       "    </tr>\n",
       "    <tr>\n",
       "      <th>272</th>\n",
       "      <td>273</td>\n",
       "      <td>L3 Technologies</td>\n",
       "      <td>38000</td>\n",
       "      <td>Aerospace &amp; Defense</td>\n",
       "      <td>10597</td>\n",
       "      <td>710.0</td>\n",
       "    </tr>\n",
       "    <tr>\n",
       "      <th>4</th>\n",
       "      <td>5</td>\n",
       "      <td>McKesson</td>\n",
       "      <td>68000</td>\n",
       "      <td>Wholesalers</td>\n",
       "      <td>192487</td>\n",
       "      <td>2258.0</td>\n",
       "    </tr>\n",
       "    <tr>\n",
       "      <th>49</th>\n",
       "      <td>50</td>\n",
       "      <td>United Technologies</td>\n",
       "      <td>201600</td>\n",
       "      <td>Aerospace &amp; Defense</td>\n",
       "      <td>57244</td>\n",
       "      <td>5055.0</td>\n",
       "    </tr>\n",
       "  </tbody>\n",
       "</table>\n",
       "</div>"
      ],
      "text/plain": [
       "     Rank                         Title  Employees                     Sector  \\\n",
       "394   395        A-Mark Precious Metals         83                  Materials   \n",
       "375   376            Kindred Healthcare      76650                Health Care   \n",
       "332   333                Crown Holdings      23992                  Materials   \n",
       "125   126                         Aflac      10212                 Financials   \n",
       "198   199                           CDW       8516                 Technology   \n",
       "216   217               Western Digital      72878                 Technology   \n",
       "412   413            Berry Global Group      21000                  Materials   \n",
       "293   294      Air Products & Chemicals      18450                  Chemicals   \n",
       "480   481   Booz Allen Hamilton Holding      22600                 Technology   \n",
       "274   275                       Praxair      26498                  Chemicals   \n",
       "463   464      First American Financial      19531                 Financials   \n",
       "102   103           World Fuel Services       5000                     Energy   \n",
       "437   438              Alaska Air Group      19112             Transportation   \n",
       "85     86              American Express      56400                 Financials   \n",
       "33     34                   Phillips 66      14800                     Energy   \n",
       "304   305                    BorgWarner      27000     Motor Vehicles & Parts   \n",
       "416   417                   Dillardâ€™s      30800                  Retailing   \n",
       "409   410       Asbury Automotive Group       7900                  Retailing   \n",
       "355   356                 EOG Resources       2650                     Energy   \n",
       "276   277   Discover Financial Services      15549                 Financials   \n",
       "159   160                   CenturyLink      40000         Telecommunications   \n",
       "311   312                         Oneok       2384                     Energy   \n",
       "403   403               JetBlue Airways      15986             Transportation   \n",
       "164   165                 General Mills      39000  Food, Beverages & Tobacco   \n",
       "112   113                        DuPont      46000                  Chemicals   \n",
       "278   279           United States Steel      29800                  Materials   \n",
       "340   341                  Weyerhaeuser      10400                  Materials   \n",
       "110   111                        AbbVie      30000                Health Care   \n",
       "454   455                M&T Bank Corp.      16487                 Financials   \n",
       "281   282                 W.W. Grainger      25000                Wholesalers   \n",
       "218   219                   Ross Stores      78600                  Retailing   \n",
       "121   122  Enterprise Products Partners       6800                     Energy   \n",
       "272   273               L3 Technologies      38000        Aerospace & Defense   \n",
       "4       5                      McKesson      68000                Wholesalers   \n",
       "49     50           United Technologies     201600        Aerospace & Defense   \n",
       "\n",
       "     Revenues  Profits  \n",
       "394      6784      9.3  \n",
       "375      7227   -664.2  \n",
       "332      8284    496.0  \n",
       "125     22559   2659.0  \n",
       "198     13982    424.4  \n",
       "216     12994    242.0  \n",
       "412      6489    236.0  \n",
       "293      9524    631.1  \n",
       "480      5406    294.1  \n",
       "274     10534   1500.0  \n",
       "463      5576    343.0  \n",
       "102     27016    126.5  \n",
       "437      5931    814.0  \n",
       "85      33823   5408.0  \n",
       "33      72396   1555.0  \n",
       "304      9071    118.5  \n",
       "416      6418    169.2  \n",
       "409      6528    167.2  \n",
       "355      7651  -1096.7  \n",
       "276     10497   2393.0  \n",
       "159     17470    626.0  \n",
       "311      8921    352.0  \n",
       "403      6632    759.0  \n",
       "164     16563   1697.4  \n",
       "112     24594   2513.0  \n",
       "278     10261   -440.0  \n",
       "340      7902   1027.0  \n",
       "110     25638   5953.0  \n",
       "454      5722   1315.1  \n",
       "281     10137    605.9  \n",
       "218     12867   1117.7  \n",
       "121     23022   2513.1  \n",
       "272     10597    710.0  \n",
       "4      192487   2258.0  \n",
       "49      57244   5055.0  "
      ]
     },
     "execution_count": 207,
     "metadata": {},
     "output_type": "execute_result"
    }
   ],
   "source": [
    " sub_df.sample(frac =0.070)"
   ]
  },
  {
   "cell_type": "code",
   "execution_count": 208,
   "id": "9f269aba",
   "metadata": {
    "colab": {
     "base_uri": "https://localhost:8080/"
    },
    "id": "q_e1YBoUu3XG",
    "outputId": "c3f7ba15-7a9e-477a-e890-1a8d0d79d74f"
   },
   "outputs": [
    {
     "data": {
      "text/plain": [
       "1779.4797999999998"
      ]
     },
     "execution_count": 208,
     "metadata": {},
     "output_type": "execute_result"
    }
   ],
   "source": [
    "mean_profit= sub_df[\"Profits\"].mean()\n",
    "mean_profit"
   ]
  },
  {
   "cell_type": "code",
   "execution_count": 209,
   "id": "290f0242",
   "metadata": {
    "colab": {
     "base_uri": "https://localhost:8080/"
    },
    "id": "H6_NqmIQrO5F",
    "outputId": "ae66a465-3e8a-4244-c885-19ec7f21ad39"
   },
   "outputs": [
    {
     "name": "stdout",
     "output_type": "stream",
     "text": [
      "1340.3828571428571\n"
     ]
    }
   ],
   "source": [
    "sam1=  sub_df.sample(frac =0.070)\n",
    "mean_pro2= sam1[\"Profits\"].mean()\n",
    "print(mean_pro2)"
   ]
  },
  {
   "cell_type": "code",
   "execution_count": 210,
   "id": "d3fc4859",
   "metadata": {
    "colab": {
     "base_uri": "https://localhost:8080/"
    },
    "id": "VU3NBRYurO29",
    "outputId": "c91f3982-d889-4944-ca2d-af4de1cf62b8"
   },
   "outputs": [
    {
     "name": "stdout",
     "output_type": "stream",
     "text": [
      "1623.5200000000002\n"
     ]
    }
   ],
   "source": [
    " df_sam3= sub_df.sample(frac =0.070)\n",
    " mean_pro3= df_sam3[\"Profits\"].mean()\n",
    " print(mean_pro3)"
   ]
  },
  {
   "cell_type": "code",
   "execution_count": 211,
   "id": "af28e429",
   "metadata": {
    "colab": {
     "base_uri": "https://localhost:8080/"
    },
    "id": "72X4YZk9rOyg",
    "outputId": "300cc18e-e032-4f24-b3ae-80ae974adbdd"
   },
   "outputs": [
    {
     "name": "stdout",
     "output_type": "stream",
     "text": [
      "1888.0742857142855\n"
     ]
    }
   ],
   "source": [
    " df_sam4= sub_df.sample(frac =0.070)\n",
    " mean_pro4= df_sam4[\"Profits\"].mean()\n",
    " print(mean_pro4)"
   ]
  },
  {
   "cell_type": "code",
   "execution_count": 212,
   "id": "ca1c6c90",
   "metadata": {
    "colab": {
     "base_uri": "https://localhost:8080/"
    },
    "id": "dHytBsexrOvz",
    "outputId": "814c2e59-08bb-4bac-a253-45f560351cd2"
   },
   "outputs": [
    {
     "name": "stdout",
     "output_type": "stream",
     "text": [
      "3094.822857142857\n"
     ]
    }
   ],
   "source": [
    " df_sam5= sub_df.sample(frac =0.070)\n",
    " mean_pro5= df_sam5[\"Profits\"].mean()\n",
    " print(mean_pro5)"
   ]
  },
  {
   "cell_type": "code",
   "execution_count": 213,
   "id": "adbc61c5",
   "metadata": {
    "colab": {
     "base_uri": "https://localhost:8080/"
    },
    "id": "MbC21-2vvgUg",
    "outputId": "de71091c-4d7b-4ffa-8594-6e7f749be79d"
   },
   "outputs": [
    {
     "name": "stdout",
     "output_type": "stream",
     "text": [
      "1661.7828571428574\n"
     ]
    }
   ],
   "source": [
    " df_sam6= sub_df.sample(frac =0.070)\n",
    " mean_pro6= df_sam6[\"Profits\"].mean()\n",
    " print(mean_pro6)"
   ]
  },
  {
   "cell_type": "code",
   "execution_count": 214,
   "id": "a2798862",
   "metadata": {
    "colab": {
     "base_uri": "https://localhost:8080/"
    },
    "id": "igzW_iUNwAV-",
    "outputId": "4fddc1bd-e5fd-4f68-d484-ccc815d9abc6"
   },
   "outputs": [
    {
     "name": "stdout",
     "output_type": "stream",
     "text": [
      "439.0969428571427\n"
     ]
    }
   ],
   "source": [
    "diff_1 =(mean_profit - mean_pro2)\n",
    "print(diff_1)"
   ]
  },
  {
   "cell_type": "code",
   "execution_count": 215,
   "id": "04ccd3a8",
   "metadata": {
    "colab": {
     "base_uri": "https://localhost:8080/"
    },
    "id": "VYIJUGHJwAMy",
    "outputId": "4f0cbc86-a9ca-4dc8-b088-9567695b64be"
   },
   "outputs": [
    {
     "name": "stdout",
     "output_type": "stream",
     "text": [
      "155.95979999999963\n"
     ]
    }
   ],
   "source": [
    "diff_2 =(mean_profit - mean_pro3)\n",
    "print(diff_2)"
   ]
  },
  {
   "cell_type": "code",
   "execution_count": 216,
   "id": "be070150",
   "metadata": {
    "colab": {
     "base_uri": "https://localhost:8080/"
    },
    "id": "vU3NmzlWy4EC",
    "outputId": "0ae7b0d7-caf7-4418-d371-35e8dfcbfc83"
   },
   "outputs": [
    {
     "name": "stdout",
     "output_type": "stream",
     "text": [
      "-108.59448571428561\n"
     ]
    }
   ],
   "source": [
    "diff_3 =(mean_profit - mean_pro4)\n",
    "print(diff_3)"
   ]
  },
  {
   "cell_type": "code",
   "execution_count": 217,
   "id": "5c831856",
   "metadata": {
    "colab": {
     "base_uri": "https://localhost:8080/"
    },
    "id": "eGQFqLE3y4Bk",
    "outputId": "d545fed4-bcf2-4321-f235-f3c5ccc3182a"
   },
   "outputs": [
    {
     "name": "stdout",
     "output_type": "stream",
     "text": [
      "-1315.3430571428573\n"
     ]
    }
   ],
   "source": [
    "diff_4 =(mean_profit - mean_pro5)\n",
    "print(diff_4)"
   ]
  },
  {
   "cell_type": "code",
   "execution_count": 218,
   "id": "f1b35db0",
   "metadata": {
    "colab": {
     "base_uri": "https://localhost:8080/"
    },
    "id": "YO7haEM6y373",
    "outputId": "e3a49423-1ed0-474d-cd07-ba36cfd7ec9e"
   },
   "outputs": [
    {
     "name": "stdout",
     "output_type": "stream",
     "text": [
      "117.6969428571424\n"
     ]
    }
   ],
   "source": [
    "diff_5 =(mean_profit - mean_pro6)\n",
    "print(diff_5)"
   ]
  },
  {
   "cell_type": "code",
   "execution_count": 219,
   "id": "5b58e9dd",
   "metadata": {},
   "outputs": [],
   "source": [
    "#Outliers"
   ]
  },
  {
   "cell_type": "code",
   "execution_count": 220,
   "id": "b091af69",
   "metadata": {
    "colab": {
     "base_uri": "https://localhost:8080/"
    },
    "id": "kFl9k536DvRE",
    "outputId": "0f1a1c56-4a89-4033-ea42-5ab107ef59f4"
   },
   "outputs": [
    {
     "data": {
      "text/plain": [
       "15360.25"
      ]
     },
     "execution_count": 220,
     "metadata": {},
     "output_type": "execute_result"
    }
   ],
   "source": [
    "iqr_new= sub_df[\"Revenues\"].quantile(0.75)-sub_df[\"Revenues\"].quantile(0.25)\n",
    "iqr_new"
   ]
  },
  {
   "cell_type": "code",
   "execution_count": 221,
   "id": "c5c34f90",
   "metadata": {
    "colab": {
     "base_uri": "https://localhost:8080/"
    },
    "id": "JfzzX3XCDvOW",
    "outputId": "607ac60b-b9fc-44d4-b585-64a3d3b7ec71"
   },
   "outputs": [
    {
     "data": {
      "text/plain": [
       "45645.625"
      ]
     },
     "execution_count": 221,
     "metadata": {},
     "output_type": "execute_result"
    }
   ],
   "source": [
    "upper_limit= sub_df[\"Revenues\"].quantile(0.75)+1.5*iqr_new\n",
    "upper_limit"
   ]
  },
  {
   "cell_type": "code",
   "execution_count": 222,
   "id": "e86bf56b",
   "metadata": {
    "colab": {
     "base_uri": "https://localhost:8080/"
    },
    "id": "aWTZ_tO_DvFM",
    "outputId": "8a4f0415-5ba0-41d7-a592-334afa0ef771"
   },
   "outputs": [
    {
     "data": {
      "text/plain": [
       "-15795.375"
      ]
     },
     "execution_count": 222,
     "metadata": {},
     "output_type": "execute_result"
    }
   ],
   "source": [
    "lower_limit=sub_df[\"Revenues\"].quantile(0.25)-1.5*iqr_new\n",
    "lower_limit"
   ]
  },
  {
   "cell_type": "code",
   "execution_count": 223,
   "id": "d1c5dea9",
   "metadata": {
    "colab": {
     "base_uri": "https://localhost:8080/"
    },
    "id": "SI1Td9V6DvCv",
    "outputId": "f14760b0-e115-4854-9a6d-26f1743833ec"
   },
   "outputs": [
    {
     "name": "stdout",
     "output_type": "stream",
     "text": [
      "Outliers Rows\n",
      "    Rank                       Title  Employees          Sector  Revenues  \\\n",
      "0      1                     Walmart    2300000       Retailing    485873   \n",
      "1      2          Berkshire Hathaway     367700      Financials    223604   \n",
      "2      3                       Apple     116000      Technology    215639   \n",
      "3      4                 Exxon Mobil      72700          Energy    205004   \n",
      "4      5                    McKesson      68000     Wholesalers    192487   \n",
      "..   ...                         ...        ...             ...       ...   \n",
      "57    58                       FedEx     335767  Transportation     50365   \n",
      "58    59  Hewlett Packard Enterprise     195000      Technology     50123   \n",
      "59    60               Cisco Systems      73700      Technology     49247   \n",
      "60    61                          HP      49000      Technology     48238   \n",
      "61    62                Dow Chemical      56000       Chemicals     48158   \n",
      "\n",
      "    Profits  \n",
      "0   13643.0  \n",
      "1   24074.0  \n",
      "2   45687.0  \n",
      "3    7840.0  \n",
      "4    2258.0  \n",
      "..      ...  \n",
      "57   1820.0  \n",
      "58   3161.0  \n",
      "59  10739.0  \n",
      "60   2496.0  \n",
      "61   4318.0  \n",
      "\n",
      "[62 rows x 6 columns]\n"
     ]
    }
   ],
   "source": [
    "### outliers are those values which reside outside of the lower and upper limits boundries\n",
    "outliers = sub_df[(sub_df['Revenues']>upper_limit) |\n",
    "                  (sub_df['Revenues']<lower_limit)]\n",
    "print(\"Outliers Rows\")\n",
    "print(outliers)"
   ]
  },
  {
   "cell_type": "code",
   "execution_count": 224,
   "id": "0d2dc080",
   "metadata": {
    "colab": {
     "base_uri": "https://localhost:8080/"
    },
    "id": "-0mA92YMDu7s",
    "outputId": "8af8cb4b-7485-48fc-9a9a-0031cf5e7253"
   },
   "outputs": [
    {
     "data": {
      "text/plain": [
       "1535.0500000000002"
      ]
     },
     "execution_count": 224,
     "metadata": {},
     "output_type": "execute_result"
    }
   ],
   "source": [
    "iqr_new2= sub_df[\"Profits\"].quantile(0.75)-sub_df[\"Profits\"].quantile(0.25)\n",
    "iqr_new2"
   ]
  },
  {
   "cell_type": "code",
   "execution_count": 225,
   "id": "2592632d",
   "metadata": {
    "colab": {
     "base_uri": "https://localhost:8080/"
    },
    "id": "v7YIsICNL1bY",
    "outputId": "125d0442-f804-49f0-df34-7b9b47ef156e"
   },
   "outputs": [
    {
     "data": {
      "text/plain": [
       "4073.3500000000004"
      ]
     },
     "execution_count": 225,
     "metadata": {},
     "output_type": "execute_result"
    }
   ],
   "source": [
    "upper_limit2= sub_df[\"Profits\"].quantile(0.75)+1.5*iqr_new2\n",
    "upper_limit2"
   ]
  },
  {
   "cell_type": "code",
   "execution_count": 226,
   "id": "7cda1062",
   "metadata": {
    "colab": {
     "base_uri": "https://localhost:8080/"
    },
    "id": "sD8c0uQZL1Y3",
    "outputId": "41490f2b-7650-4012-d9df-bca9453d031d"
   },
   "outputs": [
    {
     "data": {
      "text/plain": [
       "-2066.8500000000004"
      ]
     },
     "execution_count": 226,
     "metadata": {},
     "output_type": "execute_result"
    }
   ],
   "source": [
    "lower_limit2=sub_df[\"Profits\"].quantile(0.25)-1.5*iqr_new2\n",
    "lower_limit2"
   ]
  },
  {
   "cell_type": "code",
   "execution_count": 227,
   "id": "f38ab2a7",
   "metadata": {
    "colab": {
     "base_uri": "https://localhost:8080/"
    },
    "id": "tLVHFLrhL1Wh",
    "outputId": "048817f6-13fe-4968-e06d-42ac1b6f8a7c"
   },
   "outputs": [
    {
     "name": "stdout",
     "output_type": "stream",
     "text": [
      "Outliers Rows\n",
      "     Rank                   Title  Employees       Sector  Revenues  Profits\n",
      "0       1                 Walmart    2300000    Retailing    485873  13643.0\n",
      "1       2      Berkshire Hathaway     367700   Financials    223604  24074.0\n",
      "2       3                   Apple     116000   Technology    215639  45687.0\n",
      "3       4             Exxon Mobil      72700       Energy    205004   7840.0\n",
      "5       6      UnitedHealth Group     230000  Health Care    184840   7017.0\n",
      "..    ...                     ...        ...          ...       ...      ...\n",
      "284   285            Baker Hughes      33000       Energy      9841  -2738.0\n",
      "309   310                    eBay      12600   Technology      8979   7266.0\n",
      "342   343       Chesapeake Energy       3300       Energy      7872  -4401.0\n",
      "343   344      Anadarko Petroleum       4500       Energy      7869  -3071.0\n",
      "374   375  National Oilwell Varco      36384       Energy      7251  -2412.0\n",
      "\n",
      "[68 rows x 6 columns]\n"
     ]
    }
   ],
   "source": [
    "outliers2 = sub_df[(sub_df['Profits']>upper_limit2) |\n",
    "                  (sub_df['Profits']<lower_limit2)]\n",
    "print(\"Outliers Rows\")\n",
    "print(outliers2)"
   ]
  },
  {
   "cell_type": "markdown",
   "id": "26d451f5",
   "metadata": {
    "id": "pBemeGIzLbxa"
   },
   "source": [
    "# **Karl pearson(r)&Spearman(R)**"
   ]
  },
  {
   "cell_type": "code",
   "execution_count": 229,
   "id": "7c87228f",
   "metadata": {
    "heading": "Data Loading and Exploration",
    "id": "NU1TLK-AL1Rz"
   },
   "outputs": [],
   "source": [
    "data={\n",
    "    \"height\":[150,160,165,170,175,180,185],\n",
    "    \"weight\":[50,55,60,65,70,75,80]\n",
    "}\n",
    "df=pd.DataFrame(data)"
   ]
  },
  {
   "cell_type": "code",
   "execution_count": 230,
   "id": "beadde59",
   "metadata": {
    "colab": {
     "base_uri": "https://localhost:8080/",
     "height": 206
    },
    "id": "dJ-8DQVMEyi0",
    "outputId": "fa6740cc-065e-4fdc-b666-7716a1e93b1b"
   },
   "outputs": [
    {
     "data": {
      "text/html": [
       "<div>\n",
       "<style scoped>\n",
       "    .dataframe tbody tr th:only-of-type {\n",
       "        vertical-align: middle;\n",
       "    }\n",
       "\n",
       "    .dataframe tbody tr th {\n",
       "        vertical-align: top;\n",
       "    }\n",
       "\n",
       "    .dataframe thead th {\n",
       "        text-align: right;\n",
       "    }\n",
       "</style>\n",
       "<table border=\"1\" class=\"dataframe\">\n",
       "  <thead>\n",
       "    <tr style=\"text-align: right;\">\n",
       "      <th></th>\n",
       "      <th>height</th>\n",
       "      <th>weight</th>\n",
       "    </tr>\n",
       "  </thead>\n",
       "  <tbody>\n",
       "    <tr>\n",
       "      <th>0</th>\n",
       "      <td>150</td>\n",
       "      <td>50</td>\n",
       "    </tr>\n",
       "    <tr>\n",
       "      <th>1</th>\n",
       "      <td>160</td>\n",
       "      <td>55</td>\n",
       "    </tr>\n",
       "    <tr>\n",
       "      <th>2</th>\n",
       "      <td>165</td>\n",
       "      <td>60</td>\n",
       "    </tr>\n",
       "    <tr>\n",
       "      <th>3</th>\n",
       "      <td>170</td>\n",
       "      <td>65</td>\n",
       "    </tr>\n",
       "    <tr>\n",
       "      <th>4</th>\n",
       "      <td>175</td>\n",
       "      <td>70</td>\n",
       "    </tr>\n",
       "  </tbody>\n",
       "</table>\n",
       "</div>"
      ],
      "text/plain": [
       "   height  weight\n",
       "0     150      50\n",
       "1     160      55\n",
       "2     165      60\n",
       "3     170      65\n",
       "4     175      70"
      ]
     },
     "execution_count": 230,
     "metadata": {},
     "output_type": "execute_result"
    }
   ],
   "source": [
    "df.head()"
   ]
  },
  {
   "cell_type": "code",
   "execution_count": 231,
   "id": "66e586af",
   "metadata": {
    "colab": {
     "base_uri": "https://localhost:8080/"
    },
    "id": "alR-OMztEyeu",
    "outputId": "ec57f751-9517-40bd-9afa-38f2168070b6"
   },
   "outputs": [
    {
     "name": "stdout",
     "output_type": "stream",
     "text": [
      "0.9922858194799439\n"
     ]
    }
   ],
   "source": [
    "correlation=df[\"height\"].corr(df[\"weight\"])\n",
    "print(correlation)                                        #IN CORRELATION IT BY DEFAULT TAKE KALESPEARSON METHOD"
   ]
  },
  {
   "cell_type": "code",
   "execution_count": 232,
   "id": "5a037fce",
   "metadata": {
    "colab": {
     "base_uri": "https://localhost:8080/"
    },
    "id": "1wGvZXZZEyU7",
    "outputId": "f07c8f0c-2df5-49a8-8693-d57ba1987ac0"
   },
   "outputs": [
    {
     "name": "stdout",
     "output_type": "stream",
     "text": [
      "1.0\n"
     ]
    }
   ],
   "source": [
    "correlation=df[\"height\"].corr(df[\"weight\"],method=\"spearman\")\n",
    "print(correlation)         #for using spearman function we have to write method=spearman so the system will get that we want to use spearman formula"
   ]
  },
  {
   "cell_type": "markdown",
   "id": "bcd0615b",
   "metadata": {
    "id": "ZHFCtpcssoOr"
   },
   "source": [
    "Find spearman(R)data"
   ]
  },
  {
   "cell_type": "code",
   "execution_count": 234,
   "id": "323fb4ec",
   "metadata": {
    "colab": {
     "base_uri": "https://localhost:8080/",
     "height": 206
    },
    "id": "2l_eFR6CL1PV",
    "outputId": "28b19186-4a2e-4de0-aa21-2134b2f65acd"
   },
   "outputs": [
    {
     "data": {
      "text/html": [
       "<div>\n",
       "<style scoped>\n",
       "    .dataframe tbody tr th:only-of-type {\n",
       "        vertical-align: middle;\n",
       "    }\n",
       "\n",
       "    .dataframe tbody tr th {\n",
       "        vertical-align: top;\n",
       "    }\n",
       "\n",
       "    .dataframe thead th {\n",
       "        text-align: right;\n",
       "    }\n",
       "</style>\n",
       "<table border=\"1\" class=\"dataframe\">\n",
       "  <thead>\n",
       "    <tr style=\"text-align: right;\">\n",
       "      <th></th>\n",
       "      <th>height</th>\n",
       "      <th>weight</th>\n",
       "      <th>rank1</th>\n",
       "      <th>rank2</th>\n",
       "    </tr>\n",
       "  </thead>\n",
       "  <tbody>\n",
       "    <tr>\n",
       "      <th>0</th>\n",
       "      <td>150</td>\n",
       "      <td>50</td>\n",
       "      <td>1.0</td>\n",
       "      <td>1.0</td>\n",
       "    </tr>\n",
       "    <tr>\n",
       "      <th>1</th>\n",
       "      <td>160</td>\n",
       "      <td>55</td>\n",
       "      <td>2.0</td>\n",
       "      <td>2.0</td>\n",
       "    </tr>\n",
       "    <tr>\n",
       "      <th>2</th>\n",
       "      <td>165</td>\n",
       "      <td>60</td>\n",
       "      <td>3.0</td>\n",
       "      <td>3.0</td>\n",
       "    </tr>\n",
       "    <tr>\n",
       "      <th>3</th>\n",
       "      <td>170</td>\n",
       "      <td>65</td>\n",
       "      <td>4.0</td>\n",
       "      <td>4.0</td>\n",
       "    </tr>\n",
       "    <tr>\n",
       "      <th>4</th>\n",
       "      <td>175</td>\n",
       "      <td>70</td>\n",
       "      <td>5.0</td>\n",
       "      <td>5.0</td>\n",
       "    </tr>\n",
       "  </tbody>\n",
       "</table>\n",
       "</div>"
      ],
      "text/plain": [
       "   height  weight  rank1  rank2\n",
       "0     150      50    1.0    1.0\n",
       "1     160      55    2.0    2.0\n",
       "2     165      60    3.0    3.0\n",
       "3     170      65    4.0    4.0\n",
       "4     175      70    5.0    5.0"
      ]
     },
     "execution_count": 234,
     "metadata": {},
     "output_type": "execute_result"
    }
   ],
   "source": [
    "df[\"rank1\"]= df[\"height\"].rank()\n",
    "df[\"rank2\"]= df[\"weight\"].rank()\n",
    "df.head()"
   ]
  },
  {
   "cell_type": "code",
   "execution_count": 235,
   "id": "c1770b69",
   "metadata": {
    "id": "c7aNyIx5EyKD"
   },
   "outputs": [],
   "source": [
    "df[\"D\"]=df[\"rank1\"]-df[\"rank2\"]"
   ]
  },
  {
   "cell_type": "code",
   "execution_count": 236,
   "id": "4a81109e",
   "metadata": {
    "colab": {
     "base_uri": "https://localhost:8080/",
     "height": 206
    },
    "id": "pfb0-0z7s5WC",
    "outputId": "2a32e571-55fc-4a45-d0bb-e2457f36fb7a"
   },
   "outputs": [
    {
     "data": {
      "text/html": [
       "<div>\n",
       "<style scoped>\n",
       "    .dataframe tbody tr th:only-of-type {\n",
       "        vertical-align: middle;\n",
       "    }\n",
       "\n",
       "    .dataframe tbody tr th {\n",
       "        vertical-align: top;\n",
       "    }\n",
       "\n",
       "    .dataframe thead th {\n",
       "        text-align: right;\n",
       "    }\n",
       "</style>\n",
       "<table border=\"1\" class=\"dataframe\">\n",
       "  <thead>\n",
       "    <tr style=\"text-align: right;\">\n",
       "      <th></th>\n",
       "      <th>height</th>\n",
       "      <th>weight</th>\n",
       "      <th>rank1</th>\n",
       "      <th>rank2</th>\n",
       "      <th>D</th>\n",
       "      <th>D2</th>\n",
       "    </tr>\n",
       "  </thead>\n",
       "  <tbody>\n",
       "    <tr>\n",
       "      <th>0</th>\n",
       "      <td>150</td>\n",
       "      <td>50</td>\n",
       "      <td>1.0</td>\n",
       "      <td>1.0</td>\n",
       "      <td>0.0</td>\n",
       "      <td>0.0</td>\n",
       "    </tr>\n",
       "    <tr>\n",
       "      <th>1</th>\n",
       "      <td>160</td>\n",
       "      <td>55</td>\n",
       "      <td>2.0</td>\n",
       "      <td>2.0</td>\n",
       "      <td>0.0</td>\n",
       "      <td>0.0</td>\n",
       "    </tr>\n",
       "    <tr>\n",
       "      <th>2</th>\n",
       "      <td>165</td>\n",
       "      <td>60</td>\n",
       "      <td>3.0</td>\n",
       "      <td>3.0</td>\n",
       "      <td>0.0</td>\n",
       "      <td>0.0</td>\n",
       "    </tr>\n",
       "    <tr>\n",
       "      <th>3</th>\n",
       "      <td>170</td>\n",
       "      <td>65</td>\n",
       "      <td>4.0</td>\n",
       "      <td>4.0</td>\n",
       "      <td>0.0</td>\n",
       "      <td>0.0</td>\n",
       "    </tr>\n",
       "    <tr>\n",
       "      <th>4</th>\n",
       "      <td>175</td>\n",
       "      <td>70</td>\n",
       "      <td>5.0</td>\n",
       "      <td>5.0</td>\n",
       "      <td>0.0</td>\n",
       "      <td>0.0</td>\n",
       "    </tr>\n",
       "  </tbody>\n",
       "</table>\n",
       "</div>"
      ],
      "text/plain": [
       "   height  weight  rank1  rank2    D   D2\n",
       "0     150      50    1.0    1.0  0.0  0.0\n",
       "1     160      55    2.0    2.0  0.0  0.0\n",
       "2     165      60    3.0    3.0  0.0  0.0\n",
       "3     170      65    4.0    4.0  0.0  0.0\n",
       "4     175      70    5.0    5.0  0.0  0.0"
      ]
     },
     "execution_count": 236,
     "metadata": {},
     "output_type": "execute_result"
    }
   ],
   "source": [
    "df[\"D2\"]=df[\"D\"]**2\n",
    "df.head()"
   ]
  },
  {
   "cell_type": "code",
   "execution_count": 237,
   "id": "3d2d3a85",
   "metadata": {
    "colab": {
     "base_uri": "https://localhost:8080/"
    },
    "id": "TJ0rMmICs8KJ",
    "outputId": "2bd9c592-0a93-4582-a167-cd2451eb7968"
   },
   "outputs": [
    {
     "data": {
      "text/plain": [
       "0.0"
      ]
     },
     "execution_count": 237,
     "metadata": {},
     "output_type": "execute_result"
    }
   ],
   "source": [
    "sum_d2=df[\"D2\"].sum()\n",
    "sum_d2"
   ]
  },
  {
   "cell_type": "code",
   "execution_count": 238,
   "id": "1a7ccfa4",
   "metadata": {
    "colab": {
     "base_uri": "https://localhost:8080/"
    },
    "id": "3PLh29CYtJw6",
    "outputId": "f0ba0ec4-a5b7-4da1-f9ca-daecbff4a30f"
   },
   "outputs": [
    {
     "data": {
      "text/plain": [
       "7"
      ]
     },
     "execution_count": 238,
     "metadata": {},
     "output_type": "execute_result"
    }
   ],
   "source": [
    "n=len(df)\n",
    "n"
   ]
  },
  {
   "cell_type": "code",
   "execution_count": 239,
   "id": "67f6f291",
   "metadata": {
    "colab": {
     "base_uri": "https://localhost:8080/"
    },
    "id": "QBeE0SLBtPDC",
    "outputId": "771d3a5d-3209-431e-d0f2-45111cff9d7b"
   },
   "outputs": [
    {
     "data": {
      "text/plain": [
       "1.0"
      ]
     },
     "execution_count": 239,
     "metadata": {},
     "output_type": "execute_result"
    }
   ],
   "source": [
    "R=1-((6*sum_d2)/((n**3)-n))\n",
    "R"
   ]
  },
  {
   "cell_type": "markdown",
   "id": "d9f5a79a",
   "metadata": {
    "id": "SzFy_DNVtaht"
   },
   "source": [
    "Find Karl pearson of data"
   ]
  },
  {
   "cell_type": "code",
   "execution_count": 241,
   "id": "d4ca48fa",
   "metadata": {
    "heading": "Data Loading and Exploration",
    "id": "sWrFjlfovSVS"
   },
   "outputs": [],
   "source": [
    "data={\n",
    "    \"Height\":[150,160,165,170,175,180,185,190],\n",
    "    \"Weight\":[50,55,60,65,70,75,80,85]\n",
    "}\n",
    "df=pd.DataFrame(data)"
   ]
  },
  {
   "cell_type": "code",
   "execution_count": 242,
   "id": "5f16f70b",
   "metadata": {
    "colab": {
     "base_uri": "https://localhost:8080/"
    },
    "id": "nVmYpxoJtXL2",
    "outputId": "1ce0c0cc-8cc3-4719-cd58-aaf9ccfbe276"
   },
   "outputs": [
    {
     "data": {
      "text/plain": [
       "1375"
      ]
     },
     "execution_count": 242,
     "metadata": {},
     "output_type": "execute_result"
    }
   ],
   "source": [
    "mean_height=df[\"Height\"].sum()\n",
    "mean_height"
   ]
  },
  {
   "cell_type": "code",
   "execution_count": 243,
   "id": "a77bb956",
   "metadata": {
    "colab": {
     "base_uri": "https://localhost:8080/"
    },
    "id": "Lieaog83u9_b",
    "outputId": "8c5192a5-413f-4749-f4c3-bd1942f4b092"
   },
   "outputs": [
    {
     "data": {
      "text/plain": [
       "540"
      ]
     },
     "execution_count": 243,
     "metadata": {},
     "output_type": "execute_result"
    }
   ],
   "source": [
    "mean_weight=df[\"Weight\"].sum()\n",
    "mean_weight"
   ]
  },
  {
   "cell_type": "code",
   "execution_count": 244,
   "id": "9d9de8b0",
   "metadata": {
    "colab": {
     "base_uri": "https://localhost:8080/",
     "height": 335
    },
    "id": "FqxzbyNnvDcT",
    "outputId": "0ab997d7-2629-40e5-83fd-de9caf462e83"
   },
   "outputs": [
    {
     "data": {
      "text/plain": [
       "0   -1225\n",
       "1   -1215\n",
       "2   -1210\n",
       "3   -1205\n",
       "4   -1200\n",
       "5   -1195\n",
       "6   -1190\n",
       "7   -1185\n",
       "Name: x-xmean, dtype: int64"
      ]
     },
     "execution_count": 244,
     "metadata": {},
     "output_type": "execute_result"
    }
   ],
   "source": [
    "df[\"x-xmean\"]=(df[\"Height\"]-mean_height)\n",
    "df[\"x-xmean\"]"
   ]
  },
  {
   "cell_type": "code",
   "execution_count": 245,
   "id": "8763ccbb",
   "metadata": {
    "colab": {
     "base_uri": "https://localhost:8080/",
     "height": 335
    },
    "id": "rKVPv9rRvmfX",
    "outputId": "b1fec482-4bd0-4ee1-eca5-00df9eeb9fbb"
   },
   "outputs": [
    {
     "data": {
      "text/plain": [
       "0   -490\n",
       "1   -485\n",
       "2   -480\n",
       "3   -475\n",
       "4   -470\n",
       "5   -465\n",
       "6   -460\n",
       "7   -455\n",
       "Name: y-ymean, dtype: int64"
      ]
     },
     "execution_count": 245,
     "metadata": {},
     "output_type": "execute_result"
    }
   ],
   "source": [
    "df[\"y-ymean\"]=(df[\"Weight\"]-mean_weight)\n",
    "df[\"y-ymean\"]"
   ]
  },
  {
   "cell_type": "code",
   "execution_count": 246,
   "id": "fddd4fe0",
   "metadata": {
    "colab": {
     "base_uri": "https://localhost:8080/",
     "height": 335
    },
    "id": "ZEpmirwXwFkn",
    "outputId": "e1fdafaf-92e5-4a7a-c751-7b0ed8cfcdc5"
   },
   "outputs": [
    {
     "data": {
      "text/plain": [
       "0    600250\n",
       "1    589275\n",
       "2    580800\n",
       "3    572375\n",
       "4    564000\n",
       "5    555675\n",
       "6    547400\n",
       "7    539175\n",
       "Name: xy, dtype: int64"
      ]
     },
     "execution_count": 246,
     "metadata": {},
     "output_type": "execute_result"
    }
   ],
   "source": [
    "df[\"xy\"]=df[\"x-xmean\"]*df[\"y-ymean\"]\n",
    "df[\"xy\"]"
   ]
  },
  {
   "cell_type": "code",
   "execution_count": 247,
   "id": "96b3182c",
   "metadata": {
    "colab": {
     "base_uri": "https://localhost:8080/",
     "height": 335
    },
    "id": "WANDtWs_xMnO",
    "outputId": "a465c0fd-03d0-46b0-9b4f-ef1c4a2c8ae0"
   },
   "outputs": [
    {
     "data": {
      "text/plain": [
       "0    1500625\n",
       "1    1476225\n",
       "2    1464100\n",
       "3    1452025\n",
       "4    1440000\n",
       "5    1428025\n",
       "6    1416100\n",
       "7    1404225\n",
       "Name: x2, dtype: int64"
      ]
     },
     "execution_count": 247,
     "metadata": {},
     "output_type": "execute_result"
    }
   ],
   "source": [
    "df[\"x2\"]=df[\"x-xmean\"]**2\n",
    "df[\"x2\"]"
   ]
  },
  {
   "cell_type": "code",
   "execution_count": 248,
   "id": "0e1cebc4",
   "metadata": {
    "colab": {
     "base_uri": "https://localhost:8080/",
     "height": 335
    },
    "id": "ml0kQzRfyLyM",
    "outputId": "6a83903b-7ce8-42ce-ad99-7fc4d1423265"
   },
   "outputs": [
    {
     "data": {
      "text/plain": [
       "0    240100\n",
       "1    235225\n",
       "2    230400\n",
       "3    225625\n",
       "4    220900\n",
       "5    216225\n",
       "6    211600\n",
       "7    207025\n",
       "Name: y2, dtype: int64"
      ]
     },
     "execution_count": 248,
     "metadata": {},
     "output_type": "execute_result"
    }
   ],
   "source": [
    "df[\"y2\"]=df[\"y-ymean\"]**2\n",
    "df[\"y2\"]"
   ]
  },
  {
   "cell_type": "code",
   "execution_count": 249,
   "id": "32699adf",
   "metadata": {
    "colab": {
     "base_uri": "https://localhost:8080/"
    },
    "id": "T4NCQq_Aykkp",
    "outputId": "dc98b923-77e0-4d76-d6ae-9f57ac43145a"
   },
   "outputs": [
    {
     "data": {
      "text/plain": [
       "11581325"
      ]
     },
     "execution_count": 249,
     "metadata": {},
     "output_type": "execute_result"
    }
   ],
   "source": [
    "sum_x2=df[\"x2\"].sum()\n",
    "sum_x2"
   ]
  },
  {
   "cell_type": "code",
   "execution_count": 250,
   "id": "6e98bbcb",
   "metadata": {
    "colab": {
     "base_uri": "https://localhost:8080/"
    },
    "id": "09t6diqQy0tC",
    "outputId": "cea25f2c-b186-408f-dcc5-49b4bc1e1a91"
   },
   "outputs": [
    {
     "data": {
      "text/plain": [
       "1787100"
      ]
     },
     "execution_count": 250,
     "metadata": {},
     "output_type": "execute_result"
    }
   ],
   "source": [
    "sum_y2=df[\"y2\"].sum()\n",
    "sum_y2"
   ]
  },
  {
   "cell_type": "code",
   "execution_count": 251,
   "id": "76249358",
   "metadata": {
    "colab": {
     "base_uri": "https://localhost:8080/"
    },
    "id": "YNGkDYgoy6Z6",
    "outputId": "5bda9ccb-c847-4b5d-e169-f4cd72d79298"
   },
   "outputs": [
    {
     "data": {
      "text/plain": [
       "4548950"
      ]
     },
     "execution_count": 251,
     "metadata": {},
     "output_type": "execute_result"
    }
   ],
   "source": [
    "sum_xy=df[\"xy\"].sum()\n",
    "sum_xy"
   ]
  },
  {
   "cell_type": "code",
   "execution_count": 252,
   "id": "17845ecc",
   "metadata": {
    "colab": {
     "base_uri": "https://localhost:8080/"
    },
    "id": "JkgiBIJdzCYK",
    "outputId": "994d7cc8-2530-45a2-f404-30f6d11ca8eb"
   },
   "outputs": [
    {
     "data": {
      "text/plain": [
       "701942.8731168498"
      ]
     },
     "execution_count": 252,
     "metadata": {},
     "output_type": "execute_result"
    }
   ],
   "source": [
    "r=sum_xy/sum_x2*sum_y2\n",
    "r"
   ]
  },
  {
   "cell_type": "code",
   "execution_count": 253,
   "id": "1862c8e5",
   "metadata": {
    "colab": {
     "base_uri": "https://localhost:8080/"
    },
    "id": "qHLU4HJIzQZ7",
    "outputId": "f02a47da-eddc-41d8-e775-02c3e2ecb8f2"
   },
   "outputs": [
    {
     "data": {
      "text/plain": [
       "837.8203107569366"
      ]
     },
     "execution_count": 253,
     "metadata": {},
     "output_type": "execute_result"
    }
   ],
   "source": [
    "r_sqrt=r**(1/2)\n",
    "r_sqrt"
   ]
  },
  {
   "cell_type": "code",
   "execution_count": null,
   "id": "838dd23d",
   "metadata": {
    "id": "slfd5TuizdQn"
   },
   "outputs": [],
   "source": []
  },
  {
   "cell_type": "markdown",
   "id": "7ddb9a91",
   "metadata": {
    "id": "G3ajM5obEzQx"
   },
   "source": [
    "#**LIBRARIES TO WORK WITH**"
   ]
  },
  {
   "cell_type": "code",
   "execution_count": 44,
   "id": "21407dd0",
   "metadata": {
    "executionInfo": {
     "elapsed": 767,
     "status": "ok",
     "timestamp": 1731836515198,
     "user": {
      "displayName": "Akash Sharma",
      "userId": "17457304341170961774"
     },
     "user_tz": -330
    },
    "heading": "Libraries and Setup",
    "id": "XrKGSXFBEz92"
   },
   "outputs": [],
   "source": [
    "# Import necessary libraries\n",
    "import pandas as pd\n",
    "import numpy as np"
   ]
  },
  {
   "cell_type": "code",
   "execution_count": 45,
   "id": "78f4602b",
   "metadata": {
    "executionInfo": {
     "elapsed": 66,
     "status": "ok",
     "timestamp": 1731836516082,
     "user": {
      "displayName": "Akash Sharma",
      "userId": "17457304341170961774"
     },
     "user_tz": -330
    },
    "heading": "Data Loading and Exploration",
    "id": "INk8y5CXEpWH"
   },
   "outputs": [],
   "source": [
    "# Load and explore the dataset\n",
    "df=pd.read_csv('Fortune500.csv')\n",
    "#data"
   ]
  },
  {
   "cell_type": "markdown",
   "id": "1b7ec320",
   "metadata": {
    "id": "DZIsAh3LFvKN"
   },
   "source": [
    "#FIRST FIVE ROWS"
   ]
  },
  {
   "cell_type": "markdown",
   "id": "b99f7209",
   "metadata": {
    "id": "dMzGJHfNGDt6"
   },
   "source": [
    "#FOR LAST FIVE ROWS"
   ]
  },
  {
   "cell_type": "code",
   "execution_count": 47,
   "id": "a78e2048",
   "metadata": {
    "colab": {
     "base_uri": "https://localhost:8080/",
     "height": 556
    },
    "executionInfo": {
     "elapsed": 64,
     "status": "ok",
     "timestamp": 1731836516083,
     "user": {
      "displayName": "Akash Sharma",
      "userId": "17457304341170961774"
     },
     "user_tz": -330
    },
    "id": "lJ2V7qQgGBwD",
    "outputId": "e99c5435-c7fa-4ea6-bd69-6be4ae280a4d"
   },
   "outputs": [
    {
     "data": {
      "application/vnd.google.colaboratory.intrinsic+json": {
       "summary": "{\n  \"name\": \"df\",\n  \"rows\": 5,\n  \"fields\": [\n    {\n      \"column\": \"Rank\",\n      \"properties\": {\n        \"dtype\": \"number\",\n        \"std\": 1,\n        \"min\": 496,\n        \"max\": 500,\n        \"num_unique_values\": 5,\n        \"samples\": [\n          497,\n          500,\n          498\n        ],\n        \"semantic_type\": \"\",\n        \"description\": \"\"\n      }\n    },\n    {\n      \"column\": \"Title\",\n      \"properties\": {\n        \"dtype\": \"string\",\n        \"num_unique_values\": 5,\n        \"samples\": [\n          \"Toll Brothers\",\n          \"ABM Industries\",\n          \"Yahoo\"\n        ],\n        \"semantic_type\": \"\",\n        \"description\": \"\"\n      }\n    },\n    {\n      \"column\": \"Employees\",\n      \"properties\": {\n        \"dtype\": \"number\",\n        \"std\": 45192,\n        \"min\": 4200,\n        \"max\": 110000,\n        \"num_unique_values\": 5,\n        \"samples\": [\n          4200,\n          110000,\n          8500\n        ],\n        \"semantic_type\": \"\",\n        \"description\": \"\"\n      }\n    },\n    {\n      \"column\": \"Sector\",\n      \"properties\": {\n        \"dtype\": \"string\",\n        \"num_unique_values\": 5,\n        \"samples\": [\n          \"Engineering & Construction\",\n          \"Business Services\",\n          \"Technology\"\n        ],\n        \"semantic_type\": \"\",\n        \"description\": \"\"\n      }\n    },\n    {\n      \"column\": \"Industry\",\n      \"properties\": {\n        \"dtype\": \"string\",\n        \"num_unique_values\": 5,\n        \"samples\": [\n          \"Homebuilders\",\n          \"Diversified Outsourcing Services\",\n          \"Internet Services and Retailing\"\n        ],\n        \"semantic_type\": \"\",\n        \"description\": \"\"\n      }\n    },\n    {\n      \"column\": \"Hqcity\",\n      \"properties\": {\n        \"dtype\": \"string\",\n        \"num_unique_values\": 5,\n        \"samples\": [\n          \"Horsham\",\n          \"New York\",\n          \"Sunnyvale\"\n        ],\n        \"semantic_type\": \"\",\n        \"description\": \"\"\n      }\n    },\n    {\n      \"column\": \"Ceo\",\n      \"properties\": {\n        \"dtype\": \"string\",\n        \"num_unique_values\": 5,\n        \"samples\": [\n          \"Douglas C. Yearley Jr.\",\n          \"Scott B. Salmirs\",\n          \"Marissa A. Mayer\"\n        ],\n        \"semantic_type\": \"\",\n        \"description\": \"\"\n      }\n    },\n    {\n      \"column\": \"Ceo-title\",\n      \"properties\": {\n        \"dtype\": \"string\",\n        \"num_unique_values\": 3,\n        \"samples\": [\n          \"Chairman & Chief Executive Officer\",\n          \"Chief Executive Officer & Director\",\n          \"President, Chief Executive Officer & Director\"\n        ],\n        \"semantic_type\": \"\",\n        \"description\": \"\"\n      }\n    },\n    {\n      \"column\": \"Revenues\",\n      \"properties\": {\n        \"dtype\": \"number\",\n        \"std\": 18,\n        \"min\": 5145,\n        \"max\": 5197,\n        \"num_unique_values\": 5,\n        \"samples\": [\n          5170,\n          5145,\n          5169\n        ],\n        \"semantic_type\": \"\",\n        \"description\": \"\"\n      }\n    },\n    {\n      \"column\": \"Revchange\",\n      \"properties\": {\n        \"dtype\": \"number\",\n        \"std\": 10.01359076455594,\n        \"min\": -2.8,\n        \"max\": 23.9,\n        \"num_unique_values\": 4,\n        \"samples\": [\n          23.9,\n          -2.8,\n          5.8\n        ],\n        \"semantic_type\": \"\",\n        \"description\": \"\"\n      }\n    },\n    {\n      \"column\": \"Profits\",\n      \"properties\": {\n        \"dtype\": \"number\",\n        \"std\": 297.45076399296744,\n        \"min\": -214.3,\n        \"max\": 382.1,\n        \"num_unique_values\": 4,\n        \"samples\": [\n          382.1,\n          57.2,\n          378.2\n        ],\n        \"semantic_type\": \"\",\n        \"description\": \"\"\n      }\n    },\n    {\n      \"column\": \"Prftchange\",\n      \"properties\": {\n        \"dtype\": \"string\",\n        \"num_unique_values\": 3,\n        \"samples\": [\n          \"4.2\",\n          \"5.2\",\n          \"-25\"\n        ],\n        \"semantic_type\": \"\",\n        \"description\": \"\"\n      }\n    },\n    {\n      \"column\": \"Assets\",\n      \"properties\": {\n        \"dtype\": \"number\",\n        \"std\": 19026,\n        \"min\": 2148,\n        \"max\": 48083,\n        \"num_unique_values\": 5,\n        \"samples\": [\n          9737,\n          2281,\n          48083\n        ],\n        \"semantic_type\": \"\",\n        \"description\": \"\"\n      }\n    }\n  ]\n}",
       "type": "dataframe"
      },
      "text/html": [
       "\n",
       "  <div id=\"df-6643c2c5-849e-48e3-9371-99d7b84675aa\" class=\"colab-df-container\">\n",
       "    <div>\n",
       "<style scoped>\n",
       "    .dataframe tbody tr th:only-of-type {\n",
       "        vertical-align: middle;\n",
       "    }\n",
       "\n",
       "    .dataframe tbody tr th {\n",
       "        vertical-align: top;\n",
       "    }\n",
       "\n",
       "    .dataframe thead th {\n",
       "        text-align: right;\n",
       "    }\n",
       "</style>\n",
       "<table border=\"1\" class=\"dataframe\">\n",
       "  <thead>\n",
       "    <tr style=\"text-align: right;\">\n",
       "      <th></th>\n",
       "      <th>Rank</th>\n",
       "      <th>Title</th>\n",
       "      <th>Employees</th>\n",
       "      <th>Sector</th>\n",
       "      <th>Industry</th>\n",
       "      <th>Hqcity</th>\n",
       "      <th>Ceo</th>\n",
       "      <th>Ceo-title</th>\n",
       "      <th>Revenues</th>\n",
       "      <th>Revchange</th>\n",
       "      <th>Profits</th>\n",
       "      <th>Prftchange</th>\n",
       "      <th>Assets</th>\n",
       "    </tr>\n",
       "  </thead>\n",
       "  <tbody>\n",
       "    <tr>\n",
       "      <th>495</th>\n",
       "      <td>496</td>\n",
       "      <td>Michaels Cos.</td>\n",
       "      <td>31000</td>\n",
       "      <td>Retailing</td>\n",
       "      <td>Specialty Retailers: Other</td>\n",
       "      <td>Irving</td>\n",
       "      <td>Carl S. Rubin</td>\n",
       "      <td>Chairman &amp; Chief Executive Officer</td>\n",
       "      <td>5197</td>\n",
       "      <td>5.8</td>\n",
       "      <td>378.2</td>\n",
       "      <td>4.2</td>\n",
       "      <td>2148</td>\n",
       "    </tr>\n",
       "    <tr>\n",
       "      <th>496</th>\n",
       "      <td>497</td>\n",
       "      <td>Toll Brothers</td>\n",
       "      <td>4200</td>\n",
       "      <td>Engineering &amp; Construction</td>\n",
       "      <td>Homebuilders</td>\n",
       "      <td>Horsham</td>\n",
       "      <td>Douglas C. Yearley Jr.</td>\n",
       "      <td>Chief Executive Officer &amp; Director</td>\n",
       "      <td>5170</td>\n",
       "      <td>23.9</td>\n",
       "      <td>382.1</td>\n",
       "      <td>5.2</td>\n",
       "      <td>9737</td>\n",
       "    </tr>\n",
       "    <tr>\n",
       "      <th>497</th>\n",
       "      <td>498</td>\n",
       "      <td>Yahoo</td>\n",
       "      <td>8500</td>\n",
       "      <td>Technology</td>\n",
       "      <td>Internet Services and Retailing</td>\n",
       "      <td>Sunnyvale</td>\n",
       "      <td>Marissa A. Mayer</td>\n",
       "      <td>President, Chief Executive Officer &amp; Director</td>\n",
       "      <td>5169</td>\n",
       "      <td>4.0</td>\n",
       "      <td>-214.3</td>\n",
       "      <td>5.2</td>\n",
       "      <td>48083</td>\n",
       "    </tr>\n",
       "    <tr>\n",
       "      <th>498</th>\n",
       "      <td>499</td>\n",
       "      <td>Vistra Energy</td>\n",
       "      <td>4431</td>\n",
       "      <td>Energy</td>\n",
       "      <td>Energy</td>\n",
       "      <td>Dallas</td>\n",
       "      <td>Curtis A. Morgan</td>\n",
       "      <td>President, Chief Executive Officer &amp; Director</td>\n",
       "      <td>5164</td>\n",
       "      <td>4.0</td>\n",
       "      <td>-214.3</td>\n",
       "      <td>5.2</td>\n",
       "      <td>15167</td>\n",
       "    </tr>\n",
       "    <tr>\n",
       "      <th>499</th>\n",
       "      <td>500</td>\n",
       "      <td>ABM Industries</td>\n",
       "      <td>110000</td>\n",
       "      <td>Business Services</td>\n",
       "      <td>Diversified Outsourcing Services</td>\n",
       "      <td>New York</td>\n",
       "      <td>Scott B. Salmirs</td>\n",
       "      <td>President, Chief Executive Officer &amp; Director</td>\n",
       "      <td>5145</td>\n",
       "      <td>-2.8</td>\n",
       "      <td>57.2</td>\n",
       "      <td>-25</td>\n",
       "      <td>2281</td>\n",
       "    </tr>\n",
       "  </tbody>\n",
       "</table>\n",
       "</div>\n",
       "    <div class=\"colab-df-buttons\">\n",
       "\n",
       "  <div class=\"colab-df-container\">\n",
       "    <button class=\"colab-df-convert\" onclick=\"convertToInteractive('df-6643c2c5-849e-48e3-9371-99d7b84675aa')\"\n",
       "            title=\"Convert this dataframe to an interactive table.\"\n",
       "            style=\"display:none;\">\n",
       "\n",
       "  <svg xmlns=\"http://www.w3.org/2000/svg\" height=\"24px\" viewBox=\"0 -960 960 960\">\n",
       "    <path d=\"M120-120v-720h720v720H120Zm60-500h600v-160H180v160Zm220 220h160v-160H400v160Zm0 220h160v-160H400v160ZM180-400h160v-160H180v160Zm440 0h160v-160H620v160ZM180-180h160v-160H180v160Zm440 0h160v-160H620v160Z\"/>\n",
       "  </svg>\n",
       "    </button>\n",
       "\n",
       "  <style>\n",
       "    .colab-df-container {\n",
       "      display:flex;\n",
       "      gap: 12px;\n",
       "    }\n",
       "\n",
       "    .colab-df-convert {\n",
       "      background-color: #E8F0FE;\n",
       "      border: none;\n",
       "      border-radius: 50%;\n",
       "      cursor: pointer;\n",
       "      display: none;\n",
       "      fill: #1967D2;\n",
       "      height: 32px;\n",
       "      padding: 0 0 0 0;\n",
       "      width: 32px;\n",
       "    }\n",
       "\n",
       "    .colab-df-convert:hover {\n",
       "      background-color: #E2EBFA;\n",
       "      box-shadow: 0px 1px 2px rgba(60, 64, 67, 0.3), 0px 1px 3px 1px rgba(60, 64, 67, 0.15);\n",
       "      fill: #174EA6;\n",
       "    }\n",
       "\n",
       "    .colab-df-buttons div {\n",
       "      margin-bottom: 4px;\n",
       "    }\n",
       "\n",
       "    [theme=dark] .colab-df-convert {\n",
       "      background-color: #3B4455;\n",
       "      fill: #D2E3FC;\n",
       "    }\n",
       "\n",
       "    [theme=dark] .colab-df-convert:hover {\n",
       "      background-color: #434B5C;\n",
       "      box-shadow: 0px 1px 3px 1px rgba(0, 0, 0, 0.15);\n",
       "      filter: drop-shadow(0px 1px 2px rgba(0, 0, 0, 0.3));\n",
       "      fill: #FFFFFF;\n",
       "    }\n",
       "  </style>\n",
       "\n",
       "    <script>\n",
       "      const buttonEl =\n",
       "        document.querySelector('#df-6643c2c5-849e-48e3-9371-99d7b84675aa button.colab-df-convert');\n",
       "      buttonEl.style.display =\n",
       "        google.colab.kernel.accessAllowed ? 'block' : 'none';\n",
       "\n",
       "      async function convertToInteractive(key) {\n",
       "        const element = document.querySelector('#df-6643c2c5-849e-48e3-9371-99d7b84675aa');\n",
       "        const dataTable =\n",
       "          await google.colab.kernel.invokeFunction('convertToInteractive',\n",
       "                                                    [key], {});\n",
       "        if (!dataTable) return;\n",
       "\n",
       "        const docLinkHtml = 'Like what you see? Visit the ' +\n",
       "          '<a target=\"_blank\" href=https://colab.research.google.com/notebooks/data_table.ipynb>data table notebook</a>'\n",
       "          + ' to learn more about interactive tables.';\n",
       "        element.innerHTML = '';\n",
       "        dataTable['output_type'] = 'display_data';\n",
       "        await google.colab.output.renderOutput(dataTable, element);\n",
       "        const docLink = document.createElement('div');\n",
       "        docLink.innerHTML = docLinkHtml;\n",
       "        element.appendChild(docLink);\n",
       "      }\n",
       "    </script>\n",
       "  </div>\n",
       "\n",
       "\n",
       "<div id=\"df-1ba147c2-4be6-4d43-9fcf-51222c0b9a45\">\n",
       "  <button class=\"colab-df-quickchart\" onclick=\"quickchart('df-1ba147c2-4be6-4d43-9fcf-51222c0b9a45')\"\n",
       "            title=\"Suggest charts\"\n",
       "            style=\"display:none;\">\n",
       "\n",
       "<svg xmlns=\"http://www.w3.org/2000/svg\" height=\"24px\"viewBox=\"0 0 24 24\"\n",
       "     width=\"24px\">\n",
       "    <g>\n",
       "        <path d=\"M19 3H5c-1.1 0-2 .9-2 2v14c0 1.1.9 2 2 2h14c1.1 0 2-.9 2-2V5c0-1.1-.9-2-2-2zM9 17H7v-7h2v7zm4 0h-2V7h2v10zm4 0h-2v-4h2v4z\"/>\n",
       "    </g>\n",
       "</svg>\n",
       "  </button>\n",
       "\n",
       "<style>\n",
       "  .colab-df-quickchart {\n",
       "      --bg-color: #E8F0FE;\n",
       "      --fill-color: #1967D2;\n",
       "      --hover-bg-color: #E2EBFA;\n",
       "      --hover-fill-color: #174EA6;\n",
       "      --disabled-fill-color: #AAA;\n",
       "      --disabled-bg-color: #DDD;\n",
       "  }\n",
       "\n",
       "  [theme=dark] .colab-df-quickchart {\n",
       "      --bg-color: #3B4455;\n",
       "      --fill-color: #D2E3FC;\n",
       "      --hover-bg-color: #434B5C;\n",
       "      --hover-fill-color: #FFFFFF;\n",
       "      --disabled-bg-color: #3B4455;\n",
       "      --disabled-fill-color: #666;\n",
       "  }\n",
       "\n",
       "  .colab-df-quickchart {\n",
       "    background-color: var(--bg-color);\n",
       "    border: none;\n",
       "    border-radius: 50%;\n",
       "    cursor: pointer;\n",
       "    display: none;\n",
       "    fill: var(--fill-color);\n",
       "    height: 32px;\n",
       "    padding: 0;\n",
       "    width: 32px;\n",
       "  }\n",
       "\n",
       "  .colab-df-quickchart:hover {\n",
       "    background-color: var(--hover-bg-color);\n",
       "    box-shadow: 0 1px 2px rgba(60, 64, 67, 0.3), 0 1px 3px 1px rgba(60, 64, 67, 0.15);\n",
       "    fill: var(--button-hover-fill-color);\n",
       "  }\n",
       "\n",
       "  .colab-df-quickchart-complete:disabled,\n",
       "  .colab-df-quickchart-complete:disabled:hover {\n",
       "    background-color: var(--disabled-bg-color);\n",
       "    fill: var(--disabled-fill-color);\n",
       "    box-shadow: none;\n",
       "  }\n",
       "\n",
       "  .colab-df-spinner {\n",
       "    border: 2px solid var(--fill-color);\n",
       "    border-color: transparent;\n",
       "    border-bottom-color: var(--fill-color);\n",
       "    animation:\n",
       "      spin 1s steps(1) infinite;\n",
       "  }\n",
       "\n",
       "  @keyframes spin {\n",
       "    0% {\n",
       "      border-color: transparent;\n",
       "      border-bottom-color: var(--fill-color);\n",
       "      border-left-color: var(--fill-color);\n",
       "    }\n",
       "    20% {\n",
       "      border-color: transparent;\n",
       "      border-left-color: var(--fill-color);\n",
       "      border-top-color: var(--fill-color);\n",
       "    }\n",
       "    30% {\n",
       "      border-color: transparent;\n",
       "      border-left-color: var(--fill-color);\n",
       "      border-top-color: var(--fill-color);\n",
       "      border-right-color: var(--fill-color);\n",
       "    }\n",
       "    40% {\n",
       "      border-color: transparent;\n",
       "      border-right-color: var(--fill-color);\n",
       "      border-top-color: var(--fill-color);\n",
       "    }\n",
       "    60% {\n",
       "      border-color: transparent;\n",
       "      border-right-color: var(--fill-color);\n",
       "    }\n",
       "    80% {\n",
       "      border-color: transparent;\n",
       "      border-right-color: var(--fill-color);\n",
       "      border-bottom-color: var(--fill-color);\n",
       "    }\n",
       "    90% {\n",
       "      border-color: transparent;\n",
       "      border-bottom-color: var(--fill-color);\n",
       "    }\n",
       "  }\n",
       "</style>\n",
       "\n",
       "  <script>\n",
       "    async function quickchart(key) {\n",
       "      const quickchartButtonEl =\n",
       "        document.querySelector('#' + key + ' button');\n",
       "      quickchartButtonEl.disabled = true;  // To prevent multiple clicks.\n",
       "      quickchartButtonEl.classList.add('colab-df-spinner');\n",
       "      try {\n",
       "        const charts = await google.colab.kernel.invokeFunction(\n",
       "            'suggestCharts', [key], {});\n",
       "      } catch (error) {\n",
       "        console.error('Error during call to suggestCharts:', error);\n",
       "      }\n",
       "      quickchartButtonEl.classList.remove('colab-df-spinner');\n",
       "      quickchartButtonEl.classList.add('colab-df-quickchart-complete');\n",
       "    }\n",
       "    (() => {\n",
       "      let quickchartButtonEl =\n",
       "        document.querySelector('#df-1ba147c2-4be6-4d43-9fcf-51222c0b9a45 button');\n",
       "      quickchartButtonEl.style.display =\n",
       "        google.colab.kernel.accessAllowed ? 'block' : 'none';\n",
       "    })();\n",
       "  </script>\n",
       "</div>\n",
       "\n",
       "    </div>\n",
       "  </div>\n"
      ],
      "text/plain": [
       "     Rank           Title  Employees                      Sector  \\\n",
       "495   496   Michaels Cos.      31000                   Retailing   \n",
       "496   497   Toll Brothers       4200  Engineering & Construction   \n",
       "497   498           Yahoo       8500                  Technology   \n",
       "498   499   Vistra Energy       4431                      Energy   \n",
       "499   500  ABM Industries     110000           Business Services   \n",
       "\n",
       "                             Industry     Hqcity                     Ceo  \\\n",
       "495        Specialty Retailers: Other     Irving           Carl S. Rubin   \n",
       "496                      Homebuilders    Horsham  Douglas C. Yearley Jr.   \n",
       "497   Internet Services and Retailing  Sunnyvale        Marissa A. Mayer   \n",
       "498                            Energy     Dallas        Curtis A. Morgan   \n",
       "499  Diversified Outsourcing Services   New York        Scott B. Salmirs   \n",
       "\n",
       "                                         Ceo-title  Revenues  Revchange  \\\n",
       "495             Chairman & Chief Executive Officer      5197        5.8   \n",
       "496             Chief Executive Officer & Director      5170       23.9   \n",
       "497  President, Chief Executive Officer & Director      5169        4.0   \n",
       "498  President, Chief Executive Officer & Director      5164        4.0   \n",
       "499  President, Chief Executive Officer & Director      5145       -2.8   \n",
       "\n",
       "     Profits Prftchange  Assets  \n",
       "495    378.2        4.2    2148  \n",
       "496    382.1        5.2    9737  \n",
       "497   -214.3        5.2   48083  \n",
       "498   -214.3        5.2   15167  \n",
       "499     57.2        -25    2281  "
      ]
     },
     "execution_count": 47,
     "metadata": {},
     "output_type": "execute_result"
    }
   ],
   "source": [
    "df.tail()"
   ]
  },
  {
   "cell_type": "markdown",
   "id": "dc2d3168",
   "metadata": {
    "id": "NDL4CRbyG2bw"
   },
   "source": [
    "#TO CHECK HOW MANY ROWS & COLUMNS"
   ]
  },
  {
   "cell_type": "code",
   "execution_count": 48,
   "id": "43cd958e",
   "metadata": {
    "colab": {
     "base_uri": "https://localhost:8080/"
    },
    "executionInfo": {
     "elapsed": 62,
     "status": "ok",
     "timestamp": 1731836516083,
     "user": {
      "displayName": "Akash Sharma",
      "userId": "17457304341170961774"
     },
     "user_tz": -330
    },
    "id": "OwJ0-BjvGK_B",
    "outputId": "e474403a-b286-4da2-f02a-d2df5dc0e49e"
   },
   "outputs": [
    {
     "data": {
      "text/plain": [
       "(500, 13)"
      ]
     },
     "execution_count": 48,
     "metadata": {},
     "output_type": "execute_result"
    }
   ],
   "source": [
    "df.shape"
   ]
  },
  {
   "cell_type": "markdown",
   "id": "d6230507",
   "metadata": {
    "id": "6N-BX4JiHeau"
   },
   "source": [
    "#TO CHECK THE INORMATION ABOUT COLUMNS"
   ]
  },
  {
   "cell_type": "code",
   "execution_count": 49,
   "id": "0c05d1c1",
   "metadata": {
    "colab": {
     "base_uri": "https://localhost:8080/"
    },
    "executionInfo": {
     "elapsed": 60,
     "status": "ok",
     "timestamp": 1731836516083,
     "user": {
      "displayName": "Akash Sharma",
      "userId": "17457304341170961774"
     },
     "user_tz": -330
    },
    "heading": "Data Loading and Exploration",
    "id": "eUgMlmb_HGo2",
    "outputId": "e485c0b0-5606-4605-d105-7dc46e7d3e64"
   },
   "outputs": [
    {
     "name": "stdout",
     "output_type": "stream",
     "text": [
      "<class 'pandas.core.frame.DataFrame'>\n",
      "RangeIndex: 500 entries, 0 to 499\n",
      "Data columns (total 13 columns):\n",
      " #   Column      Non-Null Count  Dtype  \n",
      "---  ------      --------------  -----  \n",
      " 0   Rank        500 non-null    int64  \n",
      " 1   Title       500 non-null    object \n",
      " 2   Employees   500 non-null    int64  \n",
      " 3   Sector      500 non-null    object \n",
      " 4   Industry    500 non-null    object \n",
      " 5   Hqcity      500 non-null    object \n",
      " 6   Ceo         500 non-null    object \n",
      " 7   Ceo-title   500 non-null    object \n",
      " 8   Revenues    500 non-null    int64  \n",
      " 9   Revchange   500 non-null    float64\n",
      " 10  Profits     500 non-null    float64\n",
      " 11  Prftchange  500 non-null    object \n",
      " 12  Assets      500 non-null    int64  \n",
      "dtypes: float64(2), int64(4), object(7)\n",
      "memory usage: 50.9+ KB\n"
     ]
    }
   ],
   "source": [
    "#very imp before working with data\n",
    "df.info()"
   ]
  },
  {
   "cell_type": "markdown",
   "id": "55313f75",
   "metadata": {
    "id": "eHmu3dlFJAGP"
   },
   "source": [
    "#TO CREATE NEW DATA USING EXISTING DATA"
   ]
  },
  {
   "cell_type": "code",
   "execution_count": 50,
   "id": "99e4a69c",
   "metadata": {
    "executionInfo": {
     "elapsed": 60,
     "status": "ok",
     "timestamp": 1731836516084,
     "user": {
      "displayName": "Akash Sharma",
      "userId": "17457304341170961774"
     },
     "user_tz": -330
    },
    "id": "-gtSfIvYHu_6"
   },
   "outputs": [],
   "source": [
    "sub_df= df[['Rank','Title','Employees','Sector','Revenues','Profits']]"
   ]
  },
  {
   "cell_type": "code",
   "execution_count": 51,
   "id": "c62995c3",
   "metadata": {
    "colab": {
     "base_uri": "https://localhost:8080/",
     "height": 363
    },
    "executionInfo": {
     "elapsed": 59,
     "status": "ok",
     "timestamp": 1731836516084,
     "user": {
      "displayName": "Akash Sharma",
      "userId": "17457304341170961774"
     },
     "user_tz": -330
    },
    "id": "7dnSRtmAJo8F",
    "outputId": "79990133-601d-46b6-a509-6f075f3b2167"
   },
   "outputs": [
    {
     "data": {
      "application/vnd.google.colaboratory.intrinsic+json": {
       "summary": "{\n  \"name\": \"sub_df\",\n  \"rows\": 500,\n  \"fields\": [\n    {\n      \"column\": \"Rank\",\n      \"properties\": {\n        \"dtype\": \"number\",\n        \"std\": 144,\n        \"min\": 1,\n        \"max\": 500,\n        \"num_unique_values\": 497,\n        \"samples\": [\n          487,\n          74,\n          232\n        ],\n        \"semantic_type\": \"\",\n        \"description\": \"\"\n      }\n    },\n    {\n      \"column\": \"Title\",\n      \"properties\": {\n        \"dtype\": \"string\",\n        \"num_unique_values\": 500,\n        \"samples\": [\n          \"CenterPoint Energy\",\n          \"Caterpillar\",\n          \"National Oilwell Varco\"\n        ],\n        \"semantic_type\": \"\",\n        \"description\": \"\"\n      }\n    },\n    {\n      \"column\": \"Employees\",\n      \"properties\": {\n        \"dtype\": \"number\",\n        \"std\": 123452,\n        \"min\": 83,\n        \"max\": 2300000,\n        \"num_unique_values\": 399,\n        \"samples\": [\n          72878,\n          8500,\n          14800\n        ],\n        \"semantic_type\": \"\",\n        \"description\": \"\"\n      }\n    },\n    {\n      \"column\": \"Sector\",\n      \"properties\": {\n        \"dtype\": \"category\",\n        \"num_unique_values\": 21,\n        \"samples\": [\n          \"Retailing\",\n          \"Hotels, Restaurants & Leisure\",\n          \"Chemicals\"\n        ],\n        \"semantic_type\": \"\",\n        \"description\": \"\"\n      }\n    },\n    {\n      \"column\": \"Revenues\",\n      \"properties\": {\n        \"dtype\": \"number\",\n        \"std\": 38337,\n        \"min\": 5145,\n        \"max\": 485873,\n        \"num_unique_values\": 495,\n        \"samples\": [\n          5595,\n          38537,\n          8831\n        ],\n        \"semantic_type\": \"\",\n        \"description\": \"\"\n      }\n    },\n    {\n      \"column\": \"Profits\",\n      \"properties\": {\n        \"dtype\": \"number\",\n        \"std\": 3937.558720894575,\n        \"min\": -6177.0,\n        \"max\": 45687.0,\n        \"num_unique_values\": 494,\n        \"samples\": [\n          455.7,\n          -67.0,\n          352.0\n        ],\n        \"semantic_type\": \"\",\n        \"description\": \"\"\n      }\n    }\n  ]\n}",
       "type": "dataframe",
       "variable_name": "sub_df"
      },
      "text/html": [
       "\n",
       "  <div id=\"df-654c274c-7901-405a-b827-9db443c5c778\" class=\"colab-df-container\">\n",
       "    <div>\n",
       "<style scoped>\n",
       "    .dataframe tbody tr th:only-of-type {\n",
       "        vertical-align: middle;\n",
       "    }\n",
       "\n",
       "    .dataframe tbody tr th {\n",
       "        vertical-align: top;\n",
       "    }\n",
       "\n",
       "    .dataframe thead th {\n",
       "        text-align: right;\n",
       "    }\n",
       "</style>\n",
       "<table border=\"1\" class=\"dataframe\">\n",
       "  <thead>\n",
       "    <tr style=\"text-align: right;\">\n",
       "      <th></th>\n",
       "      <th>Rank</th>\n",
       "      <th>Title</th>\n",
       "      <th>Employees</th>\n",
       "      <th>Sector</th>\n",
       "      <th>Revenues</th>\n",
       "      <th>Profits</th>\n",
       "    </tr>\n",
       "  </thead>\n",
       "  <tbody>\n",
       "    <tr>\n",
       "      <th>0</th>\n",
       "      <td>1</td>\n",
       "      <td>Walmart</td>\n",
       "      <td>2300000</td>\n",
       "      <td>Retailing</td>\n",
       "      <td>485873</td>\n",
       "      <td>13643.0</td>\n",
       "    </tr>\n",
       "    <tr>\n",
       "      <th>1</th>\n",
       "      <td>2</td>\n",
       "      <td>Berkshire Hathaway</td>\n",
       "      <td>367700</td>\n",
       "      <td>Financials</td>\n",
       "      <td>223604</td>\n",
       "      <td>24074.0</td>\n",
       "    </tr>\n",
       "    <tr>\n",
       "      <th>2</th>\n",
       "      <td>3</td>\n",
       "      <td>Apple</td>\n",
       "      <td>116000</td>\n",
       "      <td>Technology</td>\n",
       "      <td>215639</td>\n",
       "      <td>45687.0</td>\n",
       "    </tr>\n",
       "    <tr>\n",
       "      <th>3</th>\n",
       "      <td>4</td>\n",
       "      <td>Exxon Mobil</td>\n",
       "      <td>72700</td>\n",
       "      <td>Energy</td>\n",
       "      <td>205004</td>\n",
       "      <td>7840.0</td>\n",
       "    </tr>\n",
       "    <tr>\n",
       "      <th>4</th>\n",
       "      <td>5</td>\n",
       "      <td>McKesson</td>\n",
       "      <td>68000</td>\n",
       "      <td>Wholesalers</td>\n",
       "      <td>192487</td>\n",
       "      <td>2258.0</td>\n",
       "    </tr>\n",
       "    <tr>\n",
       "      <th>5</th>\n",
       "      <td>6</td>\n",
       "      <td>UnitedHealth Group</td>\n",
       "      <td>230000</td>\n",
       "      <td>Health Care</td>\n",
       "      <td>184840</td>\n",
       "      <td>7017.0</td>\n",
       "    </tr>\n",
       "    <tr>\n",
       "      <th>6</th>\n",
       "      <td>7</td>\n",
       "      <td>CVS Health</td>\n",
       "      <td>204000</td>\n",
       "      <td>Health Care</td>\n",
       "      <td>177526</td>\n",
       "      <td>5317.0</td>\n",
       "    </tr>\n",
       "    <tr>\n",
       "      <th>7</th>\n",
       "      <td>8</td>\n",
       "      <td>General Motors</td>\n",
       "      <td>225000</td>\n",
       "      <td>Motor Vehicles &amp; Parts</td>\n",
       "      <td>166380</td>\n",
       "      <td>9427.0</td>\n",
       "    </tr>\n",
       "    <tr>\n",
       "      <th>8</th>\n",
       "      <td>9</td>\n",
       "      <td>AT&amp;T</td>\n",
       "      <td>268540</td>\n",
       "      <td>Telecommunications</td>\n",
       "      <td>163786</td>\n",
       "      <td>12976.0</td>\n",
       "    </tr>\n",
       "    <tr>\n",
       "      <th>9</th>\n",
       "      <td>10</td>\n",
       "      <td>Ford Motor</td>\n",
       "      <td>201000</td>\n",
       "      <td>Motor Vehicles &amp; Parts</td>\n",
       "      <td>151800</td>\n",
       "      <td>4596.0</td>\n",
       "    </tr>\n",
       "  </tbody>\n",
       "</table>\n",
       "</div>\n",
       "    <div class=\"colab-df-buttons\">\n",
       "\n",
       "  <div class=\"colab-df-container\">\n",
       "    <button class=\"colab-df-convert\" onclick=\"convertToInteractive('df-654c274c-7901-405a-b827-9db443c5c778')\"\n",
       "            title=\"Convert this dataframe to an interactive table.\"\n",
       "            style=\"display:none;\">\n",
       "\n",
       "  <svg xmlns=\"http://www.w3.org/2000/svg\" height=\"24px\" viewBox=\"0 -960 960 960\">\n",
       "    <path d=\"M120-120v-720h720v720H120Zm60-500h600v-160H180v160Zm220 220h160v-160H400v160Zm0 220h160v-160H400v160ZM180-400h160v-160H180v160Zm440 0h160v-160H620v160ZM180-180h160v-160H180v160Zm440 0h160v-160H620v160Z\"/>\n",
       "  </svg>\n",
       "    </button>\n",
       "\n",
       "  <style>\n",
       "    .colab-df-container {\n",
       "      display:flex;\n",
       "      gap: 12px;\n",
       "    }\n",
       "\n",
       "    .colab-df-convert {\n",
       "      background-color: #E8F0FE;\n",
       "      border: none;\n",
       "      border-radius: 50%;\n",
       "      cursor: pointer;\n",
       "      display: none;\n",
       "      fill: #1967D2;\n",
       "      height: 32px;\n",
       "      padding: 0 0 0 0;\n",
       "      width: 32px;\n",
       "    }\n",
       "\n",
       "    .colab-df-convert:hover {\n",
       "      background-color: #E2EBFA;\n",
       "      box-shadow: 0px 1px 2px rgba(60, 64, 67, 0.3), 0px 1px 3px 1px rgba(60, 64, 67, 0.15);\n",
       "      fill: #174EA6;\n",
       "    }\n",
       "\n",
       "    .colab-df-buttons div {\n",
       "      margin-bottom: 4px;\n",
       "    }\n",
       "\n",
       "    [theme=dark] .colab-df-convert {\n",
       "      background-color: #3B4455;\n",
       "      fill: #D2E3FC;\n",
       "    }\n",
       "\n",
       "    [theme=dark] .colab-df-convert:hover {\n",
       "      background-color: #434B5C;\n",
       "      box-shadow: 0px 1px 3px 1px rgba(0, 0, 0, 0.15);\n",
       "      filter: drop-shadow(0px 1px 2px rgba(0, 0, 0, 0.3));\n",
       "      fill: #FFFFFF;\n",
       "    }\n",
       "  </style>\n",
       "\n",
       "    <script>\n",
       "      const buttonEl =\n",
       "        document.querySelector('#df-654c274c-7901-405a-b827-9db443c5c778 button.colab-df-convert');\n",
       "      buttonEl.style.display =\n",
       "        google.colab.kernel.accessAllowed ? 'block' : 'none';\n",
       "\n",
       "      async function convertToInteractive(key) {\n",
       "        const element = document.querySelector('#df-654c274c-7901-405a-b827-9db443c5c778');\n",
       "        const dataTable =\n",
       "          await google.colab.kernel.invokeFunction('convertToInteractive',\n",
       "                                                    [key], {});\n",
       "        if (!dataTable) return;\n",
       "\n",
       "        const docLinkHtml = 'Like what you see? Visit the ' +\n",
       "          '<a target=\"_blank\" href=https://colab.research.google.com/notebooks/data_table.ipynb>data table notebook</a>'\n",
       "          + ' to learn more about interactive tables.';\n",
       "        element.innerHTML = '';\n",
       "        dataTable['output_type'] = 'display_data';\n",
       "        await google.colab.output.renderOutput(dataTable, element);\n",
       "        const docLink = document.createElement('div');\n",
       "        docLink.innerHTML = docLinkHtml;\n",
       "        element.appendChild(docLink);\n",
       "      }\n",
       "    </script>\n",
       "  </div>\n",
       "\n",
       "\n",
       "<div id=\"df-03285803-f769-4da3-bee1-9d4a298ffa13\">\n",
       "  <button class=\"colab-df-quickchart\" onclick=\"quickchart('df-03285803-f769-4da3-bee1-9d4a298ffa13')\"\n",
       "            title=\"Suggest charts\"\n",
       "            style=\"display:none;\">\n",
       "\n",
       "<svg xmlns=\"http://www.w3.org/2000/svg\" height=\"24px\"viewBox=\"0 0 24 24\"\n",
       "     width=\"24px\">\n",
       "    <g>\n",
       "        <path d=\"M19 3H5c-1.1 0-2 .9-2 2v14c0 1.1.9 2 2 2h14c1.1 0 2-.9 2-2V5c0-1.1-.9-2-2-2zM9 17H7v-7h2v7zm4 0h-2V7h2v10zm4 0h-2v-4h2v4z\"/>\n",
       "    </g>\n",
       "</svg>\n",
       "  </button>\n",
       "\n",
       "<style>\n",
       "  .colab-df-quickchart {\n",
       "      --bg-color: #E8F0FE;\n",
       "      --fill-color: #1967D2;\n",
       "      --hover-bg-color: #E2EBFA;\n",
       "      --hover-fill-color: #174EA6;\n",
       "      --disabled-fill-color: #AAA;\n",
       "      --disabled-bg-color: #DDD;\n",
       "  }\n",
       "\n",
       "  [theme=dark] .colab-df-quickchart {\n",
       "      --bg-color: #3B4455;\n",
       "      --fill-color: #D2E3FC;\n",
       "      --hover-bg-color: #434B5C;\n",
       "      --hover-fill-color: #FFFFFF;\n",
       "      --disabled-bg-color: #3B4455;\n",
       "      --disabled-fill-color: #666;\n",
       "  }\n",
       "\n",
       "  .colab-df-quickchart {\n",
       "    background-color: var(--bg-color);\n",
       "    border: none;\n",
       "    border-radius: 50%;\n",
       "    cursor: pointer;\n",
       "    display: none;\n",
       "    fill: var(--fill-color);\n",
       "    height: 32px;\n",
       "    padding: 0;\n",
       "    width: 32px;\n",
       "  }\n",
       "\n",
       "  .colab-df-quickchart:hover {\n",
       "    background-color: var(--hover-bg-color);\n",
       "    box-shadow: 0 1px 2px rgba(60, 64, 67, 0.3), 0 1px 3px 1px rgba(60, 64, 67, 0.15);\n",
       "    fill: var(--button-hover-fill-color);\n",
       "  }\n",
       "\n",
       "  .colab-df-quickchart-complete:disabled,\n",
       "  .colab-df-quickchart-complete:disabled:hover {\n",
       "    background-color: var(--disabled-bg-color);\n",
       "    fill: var(--disabled-fill-color);\n",
       "    box-shadow: none;\n",
       "  }\n",
       "\n",
       "  .colab-df-spinner {\n",
       "    border: 2px solid var(--fill-color);\n",
       "    border-color: transparent;\n",
       "    border-bottom-color: var(--fill-color);\n",
       "    animation:\n",
       "      spin 1s steps(1) infinite;\n",
       "  }\n",
       "\n",
       "  @keyframes spin {\n",
       "    0% {\n",
       "      border-color: transparent;\n",
       "      border-bottom-color: var(--fill-color);\n",
       "      border-left-color: var(--fill-color);\n",
       "    }\n",
       "    20% {\n",
       "      border-color: transparent;\n",
       "      border-left-color: var(--fill-color);\n",
       "      border-top-color: var(--fill-color);\n",
       "    }\n",
       "    30% {\n",
       "      border-color: transparent;\n",
       "      border-left-color: var(--fill-color);\n",
       "      border-top-color: var(--fill-color);\n",
       "      border-right-color: var(--fill-color);\n",
       "    }\n",
       "    40% {\n",
       "      border-color: transparent;\n",
       "      border-right-color: var(--fill-color);\n",
       "      border-top-color: var(--fill-color);\n",
       "    }\n",
       "    60% {\n",
       "      border-color: transparent;\n",
       "      border-right-color: var(--fill-color);\n",
       "    }\n",
       "    80% {\n",
       "      border-color: transparent;\n",
       "      border-right-color: var(--fill-color);\n",
       "      border-bottom-color: var(--fill-color);\n",
       "    }\n",
       "    90% {\n",
       "      border-color: transparent;\n",
       "      border-bottom-color: var(--fill-color);\n",
       "    }\n",
       "  }\n",
       "</style>\n",
       "\n",
       "  <script>\n",
       "    async function quickchart(key) {\n",
       "      const quickchartButtonEl =\n",
       "        document.querySelector('#' + key + ' button');\n",
       "      quickchartButtonEl.disabled = true;  // To prevent multiple clicks.\n",
       "      quickchartButtonEl.classList.add('colab-df-spinner');\n",
       "      try {\n",
       "        const charts = await google.colab.kernel.invokeFunction(\n",
       "            'suggestCharts', [key], {});\n",
       "      } catch (error) {\n",
       "        console.error('Error during call to suggestCharts:', error);\n",
       "      }\n",
       "      quickchartButtonEl.classList.remove('colab-df-spinner');\n",
       "      quickchartButtonEl.classList.add('colab-df-quickchart-complete');\n",
       "    }\n",
       "    (() => {\n",
       "      let quickchartButtonEl =\n",
       "        document.querySelector('#df-03285803-f769-4da3-bee1-9d4a298ffa13 button');\n",
       "      quickchartButtonEl.style.display =\n",
       "        google.colab.kernel.accessAllowed ? 'block' : 'none';\n",
       "    })();\n",
       "  </script>\n",
       "</div>\n",
       "\n",
       "    </div>\n",
       "  </div>\n"
      ],
      "text/plain": [
       "   Rank               Title  Employees                  Sector  Revenues  \\\n",
       "0     1             Walmart    2300000               Retailing    485873   \n",
       "1     2  Berkshire Hathaway     367700              Financials    223604   \n",
       "2     3               Apple     116000              Technology    215639   \n",
       "3     4         Exxon Mobil      72700                  Energy    205004   \n",
       "4     5            McKesson      68000             Wholesalers    192487   \n",
       "5     6  UnitedHealth Group     230000             Health Care    184840   \n",
       "6     7          CVS Health     204000             Health Care    177526   \n",
       "7     8      General Motors     225000  Motor Vehicles & Parts    166380   \n",
       "8     9                AT&T     268540      Telecommunications    163786   \n",
       "9    10          Ford Motor     201000  Motor Vehicles & Parts    151800   \n",
       "\n",
       "   Profits  \n",
       "0  13643.0  \n",
       "1  24074.0  \n",
       "2  45687.0  \n",
       "3   7840.0  \n",
       "4   2258.0  \n",
       "5   7017.0  \n",
       "6   5317.0  \n",
       "7   9427.0  \n",
       "8  12976.0  \n",
       "9   4596.0  "
      ]
     },
     "execution_count": 51,
     "metadata": {},
     "output_type": "execute_result"
    }
   ],
   "source": [
    "#for ten rows\n",
    "sub_df.head(10)"
   ]
  },
  {
   "cell_type": "code",
   "execution_count": 52,
   "id": "78f66e67",
   "metadata": {
    "colab": {
     "base_uri": "https://localhost:8080/",
     "height": 363
    },
    "executionInfo": {
     "elapsed": 57,
     "status": "ok",
     "timestamp": 1731836516084,
     "user": {
      "displayName": "Akash Sharma",
      "userId": "17457304341170961774"
     },
     "user_tz": -330
    },
    "id": "4bhe_shRJ3G4",
    "outputId": "238de3b6-e45e-49c9-9db2-aaac6de0760e"
   },
   "outputs": [
    {
     "data": {
      "application/vnd.google.colaboratory.intrinsic+json": {
       "summary": "{\n  \"name\": \"sub_df\",\n  \"rows\": 10,\n  \"fields\": [\n    {\n      \"column\": \"Rank\",\n      \"properties\": {\n        \"dtype\": \"number\",\n        \"std\": 3,\n        \"min\": 491,\n        \"max\": 500,\n        \"num_unique_values\": 10,\n        \"samples\": [\n          499,\n          492,\n          496\n        ],\n        \"semantic_type\": \"\",\n        \"description\": \"\"\n      }\n    },\n    {\n      \"column\": \"Title\",\n      \"properties\": {\n        \"dtype\": \"string\",\n        \"num_unique_values\": 10,\n        \"samples\": [\n          \"Vistra Energy\",\n          \"Rockwell Collins\",\n          \"Michaels Cos.\"\n        ],\n        \"semantic_type\": \"\",\n        \"description\": \"\"\n      }\n    },\n    {\n      \"column\": \"Employees\",\n      \"properties\": {\n        \"dtype\": \"number\",\n        \"std\": 31578,\n        \"min\": 3626,\n        \"max\": 110000,\n        \"num_unique_values\": 10,\n        \"samples\": [\n          4431,\n          19000,\n          31000\n        ],\n        \"semantic_type\": \"\",\n        \"description\": \"\"\n      }\n    },\n    {\n      \"column\": \"Sector\",\n      \"properties\": {\n        \"dtype\": \"string\",\n        \"num_unique_values\": 7,\n        \"samples\": [\n          \"Media\",\n          \"Aerospace & Defense\",\n          \"Technology\"\n        ],\n        \"semantic_type\": \"\",\n        \"description\": \"\"\n      }\n    },\n    {\n      \"column\": \"Revenues\",\n      \"properties\": {\n        \"dtype\": \"number\",\n        \"std\": 45,\n        \"min\": 5145,\n        \"max\": 5276,\n        \"num_unique_values\": 10,\n        \"samples\": [\n          5164,\n          5259,\n          5197\n        ],\n        \"semantic_type\": \"\",\n        \"description\": \"\"\n      }\n    },\n    {\n      \"column\": \"Profits\",\n      \"properties\": {\n        \"dtype\": \"number\",\n        \"std\": 330.8749862947569,\n        \"min\": -214.3,\n        \"max\": 728.0,\n        \"num_unique_values\": 9,\n        \"samples\": [\n          -214.3,\n          728.0,\n          378.2\n        ],\n        \"semantic_type\": \"\",\n        \"description\": \"\"\n      }\n    }\n  ]\n}",
       "type": "dataframe"
      },
      "text/html": [
       "\n",
       "  <div id=\"df-50bb7265-00dc-47a1-8531-8e8b7f300186\" class=\"colab-df-container\">\n",
       "    <div>\n",
       "<style scoped>\n",
       "    .dataframe tbody tr th:only-of-type {\n",
       "        vertical-align: middle;\n",
       "    }\n",
       "\n",
       "    .dataframe tbody tr th {\n",
       "        vertical-align: top;\n",
       "    }\n",
       "\n",
       "    .dataframe thead th {\n",
       "        text-align: right;\n",
       "    }\n",
       "</style>\n",
       "<table border=\"1\" class=\"dataframe\">\n",
       "  <thead>\n",
       "    <tr style=\"text-align: right;\">\n",
       "      <th></th>\n",
       "      <th>Rank</th>\n",
       "      <th>Title</th>\n",
       "      <th>Employees</th>\n",
       "      <th>Sector</th>\n",
       "      <th>Revenues</th>\n",
       "      <th>Profits</th>\n",
       "    </tr>\n",
       "  </thead>\n",
       "  <tbody>\n",
       "    <tr>\n",
       "      <th>490</th>\n",
       "      <td>491</td>\n",
       "      <td>Liberty Media</td>\n",
       "      <td>3626</td>\n",
       "      <td>Media</td>\n",
       "      <td>5276</td>\n",
       "      <td>680.0</td>\n",
       "    </tr>\n",
       "    <tr>\n",
       "      <th>491</th>\n",
       "      <td>492</td>\n",
       "      <td>Rockwell Collins</td>\n",
       "      <td>19000</td>\n",
       "      <td>Aerospace &amp; Defense</td>\n",
       "      <td>5259</td>\n",
       "      <td>728.0</td>\n",
       "    </tr>\n",
       "    <tr>\n",
       "      <th>492</th>\n",
       "      <td>493</td>\n",
       "      <td>Robert Half International</td>\n",
       "      <td>16400</td>\n",
       "      <td>Business Services</td>\n",
       "      <td>5250</td>\n",
       "      <td>343.4</td>\n",
       "    </tr>\n",
       "    <tr>\n",
       "      <th>493</th>\n",
       "      <td>494</td>\n",
       "      <td>CH2M Hill</td>\n",
       "      <td>20000</td>\n",
       "      <td>Engineering &amp; Construction</td>\n",
       "      <td>5236</td>\n",
       "      <td>15.0</td>\n",
       "    </tr>\n",
       "    <tr>\n",
       "      <th>494</th>\n",
       "      <td>495</td>\n",
       "      <td>Big Lots</td>\n",
       "      <td>23150</td>\n",
       "      <td>Retailing</td>\n",
       "      <td>5200</td>\n",
       "      <td>152.8</td>\n",
       "    </tr>\n",
       "    <tr>\n",
       "      <th>495</th>\n",
       "      <td>496</td>\n",
       "      <td>Michaels Cos.</td>\n",
       "      <td>31000</td>\n",
       "      <td>Retailing</td>\n",
       "      <td>5197</td>\n",
       "      <td>378.2</td>\n",
       "    </tr>\n",
       "    <tr>\n",
       "      <th>496</th>\n",
       "      <td>497</td>\n",
       "      <td>Toll Brothers</td>\n",
       "      <td>4200</td>\n",
       "      <td>Engineering &amp; Construction</td>\n",
       "      <td>5170</td>\n",
       "      <td>382.1</td>\n",
       "    </tr>\n",
       "    <tr>\n",
       "      <th>497</th>\n",
       "      <td>498</td>\n",
       "      <td>Yahoo</td>\n",
       "      <td>8500</td>\n",
       "      <td>Technology</td>\n",
       "      <td>5169</td>\n",
       "      <td>-214.3</td>\n",
       "    </tr>\n",
       "    <tr>\n",
       "      <th>498</th>\n",
       "      <td>499</td>\n",
       "      <td>Vistra Energy</td>\n",
       "      <td>4431</td>\n",
       "      <td>Energy</td>\n",
       "      <td>5164</td>\n",
       "      <td>-214.3</td>\n",
       "    </tr>\n",
       "    <tr>\n",
       "      <th>499</th>\n",
       "      <td>500</td>\n",
       "      <td>ABM Industries</td>\n",
       "      <td>110000</td>\n",
       "      <td>Business Services</td>\n",
       "      <td>5145</td>\n",
       "      <td>57.2</td>\n",
       "    </tr>\n",
       "  </tbody>\n",
       "</table>\n",
       "</div>\n",
       "    <div class=\"colab-df-buttons\">\n",
       "\n",
       "  <div class=\"colab-df-container\">\n",
       "    <button class=\"colab-df-convert\" onclick=\"convertToInteractive('df-50bb7265-00dc-47a1-8531-8e8b7f300186')\"\n",
       "            title=\"Convert this dataframe to an interactive table.\"\n",
       "            style=\"display:none;\">\n",
       "\n",
       "  <svg xmlns=\"http://www.w3.org/2000/svg\" height=\"24px\" viewBox=\"0 -960 960 960\">\n",
       "    <path d=\"M120-120v-720h720v720H120Zm60-500h600v-160H180v160Zm220 220h160v-160H400v160Zm0 220h160v-160H400v160ZM180-400h160v-160H180v160Zm440 0h160v-160H620v160ZM180-180h160v-160H180v160Zm440 0h160v-160H620v160Z\"/>\n",
       "  </svg>\n",
       "    </button>\n",
       "\n",
       "  <style>\n",
       "    .colab-df-container {\n",
       "      display:flex;\n",
       "      gap: 12px;\n",
       "    }\n",
       "\n",
       "    .colab-df-convert {\n",
       "      background-color: #E8F0FE;\n",
       "      border: none;\n",
       "      border-radius: 50%;\n",
       "      cursor: pointer;\n",
       "      display: none;\n",
       "      fill: #1967D2;\n",
       "      height: 32px;\n",
       "      padding: 0 0 0 0;\n",
       "      width: 32px;\n",
       "    }\n",
       "\n",
       "    .colab-df-convert:hover {\n",
       "      background-color: #E2EBFA;\n",
       "      box-shadow: 0px 1px 2px rgba(60, 64, 67, 0.3), 0px 1px 3px 1px rgba(60, 64, 67, 0.15);\n",
       "      fill: #174EA6;\n",
       "    }\n",
       "\n",
       "    .colab-df-buttons div {\n",
       "      margin-bottom: 4px;\n",
       "    }\n",
       "\n",
       "    [theme=dark] .colab-df-convert {\n",
       "      background-color: #3B4455;\n",
       "      fill: #D2E3FC;\n",
       "    }\n",
       "\n",
       "    [theme=dark] .colab-df-convert:hover {\n",
       "      background-color: #434B5C;\n",
       "      box-shadow: 0px 1px 3px 1px rgba(0, 0, 0, 0.15);\n",
       "      filter: drop-shadow(0px 1px 2px rgba(0, 0, 0, 0.3));\n",
       "      fill: #FFFFFF;\n",
       "    }\n",
       "  </style>\n",
       "\n",
       "    <script>\n",
       "      const buttonEl =\n",
       "        document.querySelector('#df-50bb7265-00dc-47a1-8531-8e8b7f300186 button.colab-df-convert');\n",
       "      buttonEl.style.display =\n",
       "        google.colab.kernel.accessAllowed ? 'block' : 'none';\n",
       "\n",
       "      async function convertToInteractive(key) {\n",
       "        const element = document.querySelector('#df-50bb7265-00dc-47a1-8531-8e8b7f300186');\n",
       "        const dataTable =\n",
       "          await google.colab.kernel.invokeFunction('convertToInteractive',\n",
       "                                                    [key], {});\n",
       "        if (!dataTable) return;\n",
       "\n",
       "        const docLinkHtml = 'Like what you see? Visit the ' +\n",
       "          '<a target=\"_blank\" href=https://colab.research.google.com/notebooks/data_table.ipynb>data table notebook</a>'\n",
       "          + ' to learn more about interactive tables.';\n",
       "        element.innerHTML = '';\n",
       "        dataTable['output_type'] = 'display_data';\n",
       "        await google.colab.output.renderOutput(dataTable, element);\n",
       "        const docLink = document.createElement('div');\n",
       "        docLink.innerHTML = docLinkHtml;\n",
       "        element.appendChild(docLink);\n",
       "      }\n",
       "    </script>\n",
       "  </div>\n",
       "\n",
       "\n",
       "<div id=\"df-1c63f966-7bd7-48ba-9480-8fddcf1d027c\">\n",
       "  <button class=\"colab-df-quickchart\" onclick=\"quickchart('df-1c63f966-7bd7-48ba-9480-8fddcf1d027c')\"\n",
       "            title=\"Suggest charts\"\n",
       "            style=\"display:none;\">\n",
       "\n",
       "<svg xmlns=\"http://www.w3.org/2000/svg\" height=\"24px\"viewBox=\"0 0 24 24\"\n",
       "     width=\"24px\">\n",
       "    <g>\n",
       "        <path d=\"M19 3H5c-1.1 0-2 .9-2 2v14c0 1.1.9 2 2 2h14c1.1 0 2-.9 2-2V5c0-1.1-.9-2-2-2zM9 17H7v-7h2v7zm4 0h-2V7h2v10zm4 0h-2v-4h2v4z\"/>\n",
       "    </g>\n",
       "</svg>\n",
       "  </button>\n",
       "\n",
       "<style>\n",
       "  .colab-df-quickchart {\n",
       "      --bg-color: #E8F0FE;\n",
       "      --fill-color: #1967D2;\n",
       "      --hover-bg-color: #E2EBFA;\n",
       "      --hover-fill-color: #174EA6;\n",
       "      --disabled-fill-color: #AAA;\n",
       "      --disabled-bg-color: #DDD;\n",
       "  }\n",
       "\n",
       "  [theme=dark] .colab-df-quickchart {\n",
       "      --bg-color: #3B4455;\n",
       "      --fill-color: #D2E3FC;\n",
       "      --hover-bg-color: #434B5C;\n",
       "      --hover-fill-color: #FFFFFF;\n",
       "      --disabled-bg-color: #3B4455;\n",
       "      --disabled-fill-color: #666;\n",
       "  }\n",
       "\n",
       "  .colab-df-quickchart {\n",
       "    background-color: var(--bg-color);\n",
       "    border: none;\n",
       "    border-radius: 50%;\n",
       "    cursor: pointer;\n",
       "    display: none;\n",
       "    fill: var(--fill-color);\n",
       "    height: 32px;\n",
       "    padding: 0;\n",
       "    width: 32px;\n",
       "  }\n",
       "\n",
       "  .colab-df-quickchart:hover {\n",
       "    background-color: var(--hover-bg-color);\n",
       "    box-shadow: 0 1px 2px rgba(60, 64, 67, 0.3), 0 1px 3px 1px rgba(60, 64, 67, 0.15);\n",
       "    fill: var(--button-hover-fill-color);\n",
       "  }\n",
       "\n",
       "  .colab-df-quickchart-complete:disabled,\n",
       "  .colab-df-quickchart-complete:disabled:hover {\n",
       "    background-color: var(--disabled-bg-color);\n",
       "    fill: var(--disabled-fill-color);\n",
       "    box-shadow: none;\n",
       "  }\n",
       "\n",
       "  .colab-df-spinner {\n",
       "    border: 2px solid var(--fill-color);\n",
       "    border-color: transparent;\n",
       "    border-bottom-color: var(--fill-color);\n",
       "    animation:\n",
       "      spin 1s steps(1) infinite;\n",
       "  }\n",
       "\n",
       "  @keyframes spin {\n",
       "    0% {\n",
       "      border-color: transparent;\n",
       "      border-bottom-color: var(--fill-color);\n",
       "      border-left-color: var(--fill-color);\n",
       "    }\n",
       "    20% {\n",
       "      border-color: transparent;\n",
       "      border-left-color: var(--fill-color);\n",
       "      border-top-color: var(--fill-color);\n",
       "    }\n",
       "    30% {\n",
       "      border-color: transparent;\n",
       "      border-left-color: var(--fill-color);\n",
       "      border-top-color: var(--fill-color);\n",
       "      border-right-color: var(--fill-color);\n",
       "    }\n",
       "    40% {\n",
       "      border-color: transparent;\n",
       "      border-right-color: var(--fill-color);\n",
       "      border-top-color: var(--fill-color);\n",
       "    }\n",
       "    60% {\n",
       "      border-color: transparent;\n",
       "      border-right-color: var(--fill-color);\n",
       "    }\n",
       "    80% {\n",
       "      border-color: transparent;\n",
       "      border-right-color: var(--fill-color);\n",
       "      border-bottom-color: var(--fill-color);\n",
       "    }\n",
       "    90% {\n",
       "      border-color: transparent;\n",
       "      border-bottom-color: var(--fill-color);\n",
       "    }\n",
       "  }\n",
       "</style>\n",
       "\n",
       "  <script>\n",
       "    async function quickchart(key) {\n",
       "      const quickchartButtonEl =\n",
       "        document.querySelector('#' + key + ' button');\n",
       "      quickchartButtonEl.disabled = true;  // To prevent multiple clicks.\n",
       "      quickchartButtonEl.classList.add('colab-df-spinner');\n",
       "      try {\n",
       "        const charts = await google.colab.kernel.invokeFunction(\n",
       "            'suggestCharts', [key], {});\n",
       "      } catch (error) {\n",
       "        console.error('Error during call to suggestCharts:', error);\n",
       "      }\n",
       "      quickchartButtonEl.classList.remove('colab-df-spinner');\n",
       "      quickchartButtonEl.classList.add('colab-df-quickchart-complete');\n",
       "    }\n",
       "    (() => {\n",
       "      let quickchartButtonEl =\n",
       "        document.querySelector('#df-1c63f966-7bd7-48ba-9480-8fddcf1d027c button');\n",
       "      quickchartButtonEl.style.display =\n",
       "        google.colab.kernel.accessAllowed ? 'block' : 'none';\n",
       "    })();\n",
       "  </script>\n",
       "</div>\n",
       "\n",
       "    </div>\n",
       "  </div>\n"
      ],
      "text/plain": [
       "     Rank                      Title  Employees                      Sector  \\\n",
       "490   491              Liberty Media       3626                       Media   \n",
       "491   492           Rockwell Collins      19000         Aerospace & Defense   \n",
       "492   493  Robert Half International      16400           Business Services   \n",
       "493   494                  CH2M Hill      20000  Engineering & Construction   \n",
       "494   495                   Big Lots      23150                   Retailing   \n",
       "495   496              Michaels Cos.      31000                   Retailing   \n",
       "496   497              Toll Brothers       4200  Engineering & Construction   \n",
       "497   498                      Yahoo       8500                  Technology   \n",
       "498   499              Vistra Energy       4431                      Energy   \n",
       "499   500             ABM Industries     110000           Business Services   \n",
       "\n",
       "     Revenues  Profits  \n",
       "490      5276    680.0  \n",
       "491      5259    728.0  \n",
       "492      5250    343.4  \n",
       "493      5236     15.0  \n",
       "494      5200    152.8  \n",
       "495      5197    378.2  \n",
       "496      5170    382.1  \n",
       "497      5169   -214.3  \n",
       "498      5164   -214.3  \n",
       "499      5145     57.2  "
      ]
     },
     "execution_count": 52,
     "metadata": {},
     "output_type": "execute_result"
    }
   ],
   "source": [
    "sub_df.tail(10)"
   ]
  },
  {
   "cell_type": "code",
   "execution_count": 53,
   "id": "4d69a3cf",
   "metadata": {
    "colab": {
     "base_uri": "https://localhost:8080/"
    },
    "executionInfo": {
     "elapsed": 57,
     "status": "ok",
     "timestamp": 1731836516087,
     "user": {
      "displayName": "Akash Sharma",
      "userId": "17457304341170961774"
     },
     "user_tz": -330
    },
    "id": "pNE8qJYAKLfq",
    "outputId": "4341ccbc-43cd-4759-a0b6-cf2e4e9d27b0"
   },
   "outputs": [
    {
     "data": {
      "text/plain": [
       "(500, 6)"
      ]
     },
     "execution_count": 53,
     "metadata": {},
     "output_type": "execute_result"
    }
   ],
   "source": [
    "sub_df.shape"
   ]
  },
  {
   "cell_type": "markdown",
   "id": "3ccc7c30",
   "metadata": {
    "id": "b5zVDnzJKWil"
   },
   "source": [
    "#TO CHECK THE STATISTICAL VALUES"
   ]
  },
  {
   "cell_type": "code",
   "execution_count": 54,
   "id": "29aefdb2",
   "metadata": {
    "colab": {
     "base_uri": "https://localhost:8080/",
     "height": 300
    },
    "executionInfo": {
     "elapsed": 51,
     "status": "ok",
     "timestamp": 1731836516087,
     "user": {
      "displayName": "Akash Sharma",
      "userId": "17457304341170961774"
     },
     "user_tz": -330
    },
    "id": "bGSlsd3GKTAr",
    "outputId": "996a35d3-5900-4cfe-9ce6-30cea274cb46"
   },
   "outputs": [
    {
     "data": {
      "application/vnd.google.colaboratory.intrinsic+json": {
       "summary": "{\n  \"name\": \"sub_df\",\n  \"rows\": 8,\n  \"fields\": [\n    {\n      \"column\": \"Rank\",\n      \"properties\": {\n        \"dtype\": \"number\",\n        \"std\": 179.89828139933815,\n        \"min\": 1.0,\n        \"max\": 500.0,\n        \"num_unique_values\": 7,\n        \"samples\": [\n          500.0,\n          250.492,\n          250.5\n        ],\n        \"semantic_type\": \"\",\n        \"description\": \"\"\n      }\n    },\n    {\n      \"column\": \"Employees\",\n      \"properties\": {\n        \"dtype\": \"number\",\n        \"std\": 800371.000312269,\n        \"min\": 83.0,\n        \"max\": 2300000.0,\n        \"num_unique_values\": 8,\n        \"samples\": [\n          56350.132,\n          25000.0,\n          500.0\n        ],\n        \"semantic_type\": \"\",\n        \"description\": \"\"\n      }\n    },\n    {\n      \"column\": \"Revenues\",\n      \"properties\": {\n        \"dtype\": \"number\",\n        \"std\": 166716.36475331552,\n        \"min\": 500.0,\n        \"max\": 485873.0,\n        \"num_unique_values\": 8,\n        \"samples\": [\n          24111.748,\n          11384.0,\n          500.0\n        ],\n        \"semantic_type\": \"\",\n        \"description\": \"\"\n      }\n    },\n    {\n      \"column\": \"Profits\",\n      \"properties\": {\n        \"dtype\": \"number\",\n        \"std\": 16278.861497381085,\n        \"min\": -6177.0,\n        \"max\": 45687.0,\n        \"num_unique_values\": 8,\n        \"samples\": [\n          1779.4797999999998,\n          683.6,\n          500.0\n        ],\n        \"semantic_type\": \"\",\n        \"description\": \"\"\n      }\n    }\n  ]\n}",
       "type": "dataframe"
      },
      "text/html": [
       "\n",
       "  <div id=\"df-d76530fe-ae28-4acf-bbff-64f9e7df1f39\" class=\"colab-df-container\">\n",
       "    <div>\n",
       "<style scoped>\n",
       "    .dataframe tbody tr th:only-of-type {\n",
       "        vertical-align: middle;\n",
       "    }\n",
       "\n",
       "    .dataframe tbody tr th {\n",
       "        vertical-align: top;\n",
       "    }\n",
       "\n",
       "    .dataframe thead th {\n",
       "        text-align: right;\n",
       "    }\n",
       "</style>\n",
       "<table border=\"1\" class=\"dataframe\">\n",
       "  <thead>\n",
       "    <tr style=\"text-align: right;\">\n",
       "      <th></th>\n",
       "      <th>Rank</th>\n",
       "      <th>Employees</th>\n",
       "      <th>Revenues</th>\n",
       "      <th>Profits</th>\n",
       "    </tr>\n",
       "  </thead>\n",
       "  <tbody>\n",
       "    <tr>\n",
       "      <th>count</th>\n",
       "      <td>500.000000</td>\n",
       "      <td>5.000000e+02</td>\n",
       "      <td>500.000000</td>\n",
       "      <td>500.000000</td>\n",
       "    </tr>\n",
       "    <tr>\n",
       "      <th>mean</th>\n",
       "      <td>250.492000</td>\n",
       "      <td>5.635013e+04</td>\n",
       "      <td>24111.748000</td>\n",
       "      <td>1779.479800</td>\n",
       "    </tr>\n",
       "    <tr>\n",
       "      <th>std</th>\n",
       "      <td>144.477366</td>\n",
       "      <td>1.234520e+05</td>\n",
       "      <td>38337.353337</td>\n",
       "      <td>3937.558721</td>\n",
       "    </tr>\n",
       "    <tr>\n",
       "      <th>min</th>\n",
       "      <td>1.000000</td>\n",
       "      <td>8.300000e+01</td>\n",
       "      <td>5145.000000</td>\n",
       "      <td>-6177.000000</td>\n",
       "    </tr>\n",
       "    <tr>\n",
       "      <th>25%</th>\n",
       "      <td>125.750000</td>\n",
       "      <td>1.190000e+04</td>\n",
       "      <td>7245.000000</td>\n",
       "      <td>235.725000</td>\n",
       "    </tr>\n",
       "    <tr>\n",
       "      <th>50%</th>\n",
       "      <td>250.500000</td>\n",
       "      <td>2.500000e+04</td>\n",
       "      <td>11384.000000</td>\n",
       "      <td>683.600000</td>\n",
       "    </tr>\n",
       "    <tr>\n",
       "      <th>75%</th>\n",
       "      <td>375.250000</td>\n",
       "      <td>5.682525e+04</td>\n",
       "      <td>22605.250000</td>\n",
       "      <td>1770.775000</td>\n",
       "    </tr>\n",
       "    <tr>\n",
       "      <th>max</th>\n",
       "      <td>500.000000</td>\n",
       "      <td>2.300000e+06</td>\n",
       "      <td>485873.000000</td>\n",
       "      <td>45687.000000</td>\n",
       "    </tr>\n",
       "  </tbody>\n",
       "</table>\n",
       "</div>\n",
       "    <div class=\"colab-df-buttons\">\n",
       "\n",
       "  <div class=\"colab-df-container\">\n",
       "    <button class=\"colab-df-convert\" onclick=\"convertToInteractive('df-d76530fe-ae28-4acf-bbff-64f9e7df1f39')\"\n",
       "            title=\"Convert this dataframe to an interactive table.\"\n",
       "            style=\"display:none;\">\n",
       "\n",
       "  <svg xmlns=\"http://www.w3.org/2000/svg\" height=\"24px\" viewBox=\"0 -960 960 960\">\n",
       "    <path d=\"M120-120v-720h720v720H120Zm60-500h600v-160H180v160Zm220 220h160v-160H400v160Zm0 220h160v-160H400v160ZM180-400h160v-160H180v160Zm440 0h160v-160H620v160ZM180-180h160v-160H180v160Zm440 0h160v-160H620v160Z\"/>\n",
       "  </svg>\n",
       "    </button>\n",
       "\n",
       "  <style>\n",
       "    .colab-df-container {\n",
       "      display:flex;\n",
       "      gap: 12px;\n",
       "    }\n",
       "\n",
       "    .colab-df-convert {\n",
       "      background-color: #E8F0FE;\n",
       "      border: none;\n",
       "      border-radius: 50%;\n",
       "      cursor: pointer;\n",
       "      display: none;\n",
       "      fill: #1967D2;\n",
       "      height: 32px;\n",
       "      padding: 0 0 0 0;\n",
       "      width: 32px;\n",
       "    }\n",
       "\n",
       "    .colab-df-convert:hover {\n",
       "      background-color: #E2EBFA;\n",
       "      box-shadow: 0px 1px 2px rgba(60, 64, 67, 0.3), 0px 1px 3px 1px rgba(60, 64, 67, 0.15);\n",
       "      fill: #174EA6;\n",
       "    }\n",
       "\n",
       "    .colab-df-buttons div {\n",
       "      margin-bottom: 4px;\n",
       "    }\n",
       "\n",
       "    [theme=dark] .colab-df-convert {\n",
       "      background-color: #3B4455;\n",
       "      fill: #D2E3FC;\n",
       "    }\n",
       "\n",
       "    [theme=dark] .colab-df-convert:hover {\n",
       "      background-color: #434B5C;\n",
       "      box-shadow: 0px 1px 3px 1px rgba(0, 0, 0, 0.15);\n",
       "      filter: drop-shadow(0px 1px 2px rgba(0, 0, 0, 0.3));\n",
       "      fill: #FFFFFF;\n",
       "    }\n",
       "  </style>\n",
       "\n",
       "    <script>\n",
       "      const buttonEl =\n",
       "        document.querySelector('#df-d76530fe-ae28-4acf-bbff-64f9e7df1f39 button.colab-df-convert');\n",
       "      buttonEl.style.display =\n",
       "        google.colab.kernel.accessAllowed ? 'block' : 'none';\n",
       "\n",
       "      async function convertToInteractive(key) {\n",
       "        const element = document.querySelector('#df-d76530fe-ae28-4acf-bbff-64f9e7df1f39');\n",
       "        const dataTable =\n",
       "          await google.colab.kernel.invokeFunction('convertToInteractive',\n",
       "                                                    [key], {});\n",
       "        if (!dataTable) return;\n",
       "\n",
       "        const docLinkHtml = 'Like what you see? Visit the ' +\n",
       "          '<a target=\"_blank\" href=https://colab.research.google.com/notebooks/data_table.ipynb>data table notebook</a>'\n",
       "          + ' to learn more about interactive tables.';\n",
       "        element.innerHTML = '';\n",
       "        dataTable['output_type'] = 'display_data';\n",
       "        await google.colab.output.renderOutput(dataTable, element);\n",
       "        const docLink = document.createElement('div');\n",
       "        docLink.innerHTML = docLinkHtml;\n",
       "        element.appendChild(docLink);\n",
       "      }\n",
       "    </script>\n",
       "  </div>\n",
       "\n",
       "\n",
       "<div id=\"df-3c712a3f-d7a1-44bd-9bda-62b4e4212550\">\n",
       "  <button class=\"colab-df-quickchart\" onclick=\"quickchart('df-3c712a3f-d7a1-44bd-9bda-62b4e4212550')\"\n",
       "            title=\"Suggest charts\"\n",
       "            style=\"display:none;\">\n",
       "\n",
       "<svg xmlns=\"http://www.w3.org/2000/svg\" height=\"24px\"viewBox=\"0 0 24 24\"\n",
       "     width=\"24px\">\n",
       "    <g>\n",
       "        <path d=\"M19 3H5c-1.1 0-2 .9-2 2v14c0 1.1.9 2 2 2h14c1.1 0 2-.9 2-2V5c0-1.1-.9-2-2-2zM9 17H7v-7h2v7zm4 0h-2V7h2v10zm4 0h-2v-4h2v4z\"/>\n",
       "    </g>\n",
       "</svg>\n",
       "  </button>\n",
       "\n",
       "<style>\n",
       "  .colab-df-quickchart {\n",
       "      --bg-color: #E8F0FE;\n",
       "      --fill-color: #1967D2;\n",
       "      --hover-bg-color: #E2EBFA;\n",
       "      --hover-fill-color: #174EA6;\n",
       "      --disabled-fill-color: #AAA;\n",
       "      --disabled-bg-color: #DDD;\n",
       "  }\n",
       "\n",
       "  [theme=dark] .colab-df-quickchart {\n",
       "      --bg-color: #3B4455;\n",
       "      --fill-color: #D2E3FC;\n",
       "      --hover-bg-color: #434B5C;\n",
       "      --hover-fill-color: #FFFFFF;\n",
       "      --disabled-bg-color: #3B4455;\n",
       "      --disabled-fill-color: #666;\n",
       "  }\n",
       "\n",
       "  .colab-df-quickchart {\n",
       "    background-color: var(--bg-color);\n",
       "    border: none;\n",
       "    border-radius: 50%;\n",
       "    cursor: pointer;\n",
       "    display: none;\n",
       "    fill: var(--fill-color);\n",
       "    height: 32px;\n",
       "    padding: 0;\n",
       "    width: 32px;\n",
       "  }\n",
       "\n",
       "  .colab-df-quickchart:hover {\n",
       "    background-color: var(--hover-bg-color);\n",
       "    box-shadow: 0 1px 2px rgba(60, 64, 67, 0.3), 0 1px 3px 1px rgba(60, 64, 67, 0.15);\n",
       "    fill: var(--button-hover-fill-color);\n",
       "  }\n",
       "\n",
       "  .colab-df-quickchart-complete:disabled,\n",
       "  .colab-df-quickchart-complete:disabled:hover {\n",
       "    background-color: var(--disabled-bg-color);\n",
       "    fill: var(--disabled-fill-color);\n",
       "    box-shadow: none;\n",
       "  }\n",
       "\n",
       "  .colab-df-spinner {\n",
       "    border: 2px solid var(--fill-color);\n",
       "    border-color: transparent;\n",
       "    border-bottom-color: var(--fill-color);\n",
       "    animation:\n",
       "      spin 1s steps(1) infinite;\n",
       "  }\n",
       "\n",
       "  @keyframes spin {\n",
       "    0% {\n",
       "      border-color: transparent;\n",
       "      border-bottom-color: var(--fill-color);\n",
       "      border-left-color: var(--fill-color);\n",
       "    }\n",
       "    20% {\n",
       "      border-color: transparent;\n",
       "      border-left-color: var(--fill-color);\n",
       "      border-top-color: var(--fill-color);\n",
       "    }\n",
       "    30% {\n",
       "      border-color: transparent;\n",
       "      border-left-color: var(--fill-color);\n",
       "      border-top-color: var(--fill-color);\n",
       "      border-right-color: var(--fill-color);\n",
       "    }\n",
       "    40% {\n",
       "      border-color: transparent;\n",
       "      border-right-color: var(--fill-color);\n",
       "      border-top-color: var(--fill-color);\n",
       "    }\n",
       "    60% {\n",
       "      border-color: transparent;\n",
       "      border-right-color: var(--fill-color);\n",
       "    }\n",
       "    80% {\n",
       "      border-color: transparent;\n",
       "      border-right-color: var(--fill-color);\n",
       "      border-bottom-color: var(--fill-color);\n",
       "    }\n",
       "    90% {\n",
       "      border-color: transparent;\n",
       "      border-bottom-color: var(--fill-color);\n",
       "    }\n",
       "  }\n",
       "</style>\n",
       "\n",
       "  <script>\n",
       "    async function quickchart(key) {\n",
       "      const quickchartButtonEl =\n",
       "        document.querySelector('#' + key + ' button');\n",
       "      quickchartButtonEl.disabled = true;  // To prevent multiple clicks.\n",
       "      quickchartButtonEl.classList.add('colab-df-spinner');\n",
       "      try {\n",
       "        const charts = await google.colab.kernel.invokeFunction(\n",
       "            'suggestCharts', [key], {});\n",
       "      } catch (error) {\n",
       "        console.error('Error during call to suggestCharts:', error);\n",
       "      }\n",
       "      quickchartButtonEl.classList.remove('colab-df-spinner');\n",
       "      quickchartButtonEl.classList.add('colab-df-quickchart-complete');\n",
       "    }\n",
       "    (() => {\n",
       "      let quickchartButtonEl =\n",
       "        document.querySelector('#df-3c712a3f-d7a1-44bd-9bda-62b4e4212550 button');\n",
       "      quickchartButtonEl.style.display =\n",
       "        google.colab.kernel.accessAllowed ? 'block' : 'none';\n",
       "    })();\n",
       "  </script>\n",
       "</div>\n",
       "\n",
       "    </div>\n",
       "  </div>\n"
      ],
      "text/plain": [
       "             Rank     Employees       Revenues       Profits\n",
       "count  500.000000  5.000000e+02     500.000000    500.000000\n",
       "mean   250.492000  5.635013e+04   24111.748000   1779.479800\n",
       "std    144.477366  1.234520e+05   38337.353337   3937.558721\n",
       "min      1.000000  8.300000e+01    5145.000000  -6177.000000\n",
       "25%    125.750000  1.190000e+04    7245.000000    235.725000\n",
       "50%    250.500000  2.500000e+04   11384.000000    683.600000\n",
       "75%    375.250000  5.682525e+04   22605.250000   1770.775000\n",
       "max    500.000000  2.300000e+06  485873.000000  45687.000000"
      ]
     },
     "execution_count": 54,
     "metadata": {},
     "output_type": "execute_result"
    }
   ],
   "source": [
    "sub_df.describe()"
   ]
  },
  {
   "cell_type": "code",
   "execution_count": 55,
   "id": "10f4ffb9",
   "metadata": {
    "colab": {
     "base_uri": "https://localhost:8080/"
    },
    "executionInfo": {
     "elapsed": 50,
     "status": "ok",
     "timestamp": 1731836516088,
     "user": {
      "displayName": "Akash Sharma",
      "userId": "17457304341170961774"
     },
     "user_tz": -330
    },
    "id": "EcLvvMrsKhrx",
    "outputId": "4bf134ff-7d39-4cf6-f25c-62998abf6b1d"
   },
   "outputs": [
    {
     "name": "stdout",
     "output_type": "stream",
     "text": [
      "24111.748\n",
      "11384.0\n",
      "0    9061\n",
      "Name: Revenues, dtype: int64\n"
     ]
    }
   ],
   "source": [
    "#to check the statistical value of single cloumn\n",
    "mean_rev = sub_df['Revenues'].mean()\n",
    "print(mean_rev)\n",
    "median_rev = sub_df['Revenues'].median()\n",
    "print(median_rev)\n",
    "mode_rev = sub_df['Revenues'].mode()\n",
    "print(mode_rev)"
   ]
  },
  {
   "cell_type": "code",
   "execution_count": 56,
   "id": "ac323540",
   "metadata": {
    "colab": {
     "base_uri": "https://localhost:8080/"
    },
    "executionInfo": {
     "elapsed": 49,
     "status": "ok",
     "timestamp": 1731836516089,
     "user": {
      "displayName": "Akash Sharma",
      "userId": "17457304341170961774"
     },
     "user_tz": -330
    },
    "id": "HFQ-D_v_LXza",
    "outputId": "8241170e-9928-4682-b06a-922c828390ad"
   },
   "outputs": [
    {
     "name": "stdout",
     "output_type": "stream",
     "text": [
      "5145\n",
      "485873\n"
     ]
    }
   ],
   "source": [
    "# \" min & max \"\n",
    "min_rev = sub_df['Revenues'].min()\n",
    "print(min_rev)\n",
    "max_rev = sub_df['Revenues'].max()\n",
    "print(max_rev)"
   ]
  },
  {
   "cell_type": "code",
   "execution_count": 57,
   "id": "4a2fc341",
   "metadata": {
    "colab": {
     "base_uri": "https://localhost:8080/"
    },
    "executionInfo": {
     "elapsed": 47,
     "status": "ok",
     "timestamp": 1731836516089,
     "user": {
      "displayName": "Akash Sharma",
      "userId": "17457304341170961774"
     },
     "user_tz": -330
    },
    "id": "euiLn59GMhDO",
    "outputId": "1a173831-aa67-46f2-f955-b00ff1206240"
   },
   "outputs": [
    {
     "name": "stdout",
     "output_type": "stream",
     "text": [
      "480728\n"
     ]
    }
   ],
   "source": [
    "### **RANGE**\n",
    "range= max_rev-min_rev\n",
    "print(range)"
   ]
  },
  {
   "cell_type": "code",
   "execution_count": 58,
   "id": "57d2a028",
   "metadata": {
    "colab": {
     "base_uri": "https://localhost:8080/"
    },
    "executionInfo": {
     "elapsed": 45,
     "status": "ok",
     "timestamp": 1731836516089,
     "user": {
      "displayName": "Akash Sharma",
      "userId": "17457304341170961774"
     },
     "user_tz": -330
    },
    "id": "5A5jzxbJMppg",
    "outputId": "83affb9e-6d12-4858-ff1d-fde897e10f1d"
   },
   "outputs": [
    {
     "name": "stdout",
     "output_type": "stream",
     "text": [
      "38337.35333653324\n"
     ]
    }
   ],
   "source": [
    "# to find standard deviation\n",
    "sd= sub_df['Revenues'].std()\n",
    "print(sd)"
   ]
  },
  {
   "cell_type": "code",
   "execution_count": 59,
   "id": "e7e2d7e4",
   "metadata": {
    "colab": {
     "base_uri": "https://localhost:8080/"
    },
    "executionInfo": {
     "elapsed": 44,
     "status": "ok",
     "timestamp": 1731836516090,
     "user": {
      "displayName": "Akash Sharma",
      "userId": "17457304341170961774"
     },
     "user_tz": -330
    },
    "id": "ETkOv-4c7b5r",
    "outputId": "6bce671f-5602-4125-8fe3-d24bfca25669"
   },
   "outputs": [
    {
     "name": "stdout",
     "output_type": "stream",
     "text": [
      "1469752660.8501961\n"
     ]
    }
   ],
   "source": [
    "# to find varience\n",
    "var= sub_df['Revenues'].var()\n",
    "print(var)\n"
   ]
  },
  {
   "cell_type": "code",
   "execution_count": 60,
   "id": "6a874beb",
   "metadata": {
    "colab": {
     "base_uri": "https://localhost:8080/"
    },
    "executionInfo": {
     "elapsed": 41,
     "status": "ok",
     "timestamp": 1731836516090,
     "user": {
      "displayName": "Akash Sharma",
      "userId": "17457304341170961774"
     },
     "user_tz": -330
    },
    "id": "3K7mW45c7lej",
    "outputId": "32eb0c7b-d8f1-4023-f2e4-ed8c338dee72"
   },
   "outputs": [
    {
     "name": "stdout",
     "output_type": "stream",
     "text": [
      "7245.0\n",
      "11384.0\n",
      "22605.25\n"
     ]
    }
   ],
   "source": [
    "#QUANTILE TO FIND\n",
    "# Percentile OR Qurtile OR Decile\n",
    "### P25 == Q1 AND P75 == Q3\n",
    "\n",
    "q1= sub_df['Revenues'].quantile(0.25)\n",
    "print(q1)\n",
    "q2= sub_df['Revenues'].quantile(0.50)\n",
    "print(q2)\n",
    "q3= sub_df['Revenues'].quantile(0.75)\n",
    "print(q3)"
   ]
  },
  {
   "cell_type": "code",
   "execution_count": 61,
   "id": "b4d7e25a",
   "metadata": {
    "colab": {
     "base_uri": "https://localhost:8080/"
    },
    "executionInfo": {
     "elapsed": 40,
     "status": "ok",
     "timestamp": 1731836516091,
     "user": {
      "displayName": "Akash Sharma",
      "userId": "17457304341170961774"
     },
     "user_tz": -330
    },
    "id": "pNh99oj78QmA",
    "outputId": "fb4e1a03-8803-422d-cb16-2b583c67bd3c"
   },
   "outputs": [
    {
     "name": "stdout",
     "output_type": "stream",
     "text": [
      "15360.25\n",
      "15360.25\n"
     ]
    }
   ],
   "source": [
    "# IQR = Q3 - Q1\n",
    "iqr= q3-q1\n",
    "print(iqr)\n",
    "iqr2= sub_df['Revenues'].quantile(0.75)-sub_df['Revenues'].quantile(0.25)\n",
    "print(iqr2)"
   ]
  },
  {
   "cell_type": "code",
   "execution_count": 62,
   "id": "4250ab4e",
   "metadata": {
    "colab": {
     "base_uri": "https://localhost:8080/"
    },
    "executionInfo": {
     "elapsed": 37,
     "status": "ok",
     "timestamp": 1731836516091,
     "user": {
      "displayName": "Akash Sharma",
      "userId": "17457304341170961774"
     },
     "user_tz": -330
    },
    "id": "bVJVhQoh8ep_",
    "outputId": "4984b19c-8443-491a-b31e-fcbbac91db28"
   },
   "outputs": [
    {
     "name": "stdout",
     "output_type": "stream",
     "text": [
      "5.480066970305041\n"
     ]
    }
   ],
   "source": [
    "###\n",
    "\n",
    "skew = sub_df['Revenues'].skew()\n",
    "print(skew)"
   ]
  },
  {
   "cell_type": "code",
   "execution_count": 63,
   "id": "4f23d25b",
   "metadata": {
    "colab": {
     "base_uri": "https://localhost:8080/"
    },
    "executionInfo": {
     "elapsed": 99,
     "status": "ok",
     "timestamp": 1731836516736,
     "user": {
      "displayName": "Akash Sharma",
      "userId": "17457304341170961774"
     },
     "user_tz": -330
    },
    "id": "mAsc0y0s-XWk",
    "outputId": "ef1b7317-ef07-47a0-f1ba-6e4e4a6e8478"
   },
   "outputs": [
    {
     "name": "stdout",
     "output_type": "stream",
     "text": [
      "158.99864803055027\n",
      "158.99864803055027\n"
     ]
    }
   ],
   "source": [
    "### calculate cv for revenue\n",
    "# CV = (sd/mean)*100\n",
    "\n",
    "cv= (sd/mean_rev)*100\n",
    "print(cv)\n",
    "cv2= sub_df['Revenues'].std()/sub_df['Revenues'].mean()*100\n",
    "print(cv2)"
   ]
  },
  {
   "cell_type": "code",
   "execution_count": 64,
   "id": "aab0a6c5",
   "metadata": {
    "colab": {
     "base_uri": "https://localhost:8080/"
    },
    "executionInfo": {
     "elapsed": 92,
     "status": "ok",
     "timestamp": 1731836516737,
     "user": {
      "displayName": "Akash Sharma",
      "userId": "17457304341170961774"
     },
     "user_tz": -330
    },
    "id": "tiltYwpj_Dso",
    "outputId": "12d056b9-4950-4439-bc00-b6ccaf6e0a48"
   },
   "outputs": [
    {
     "name": "stdout",
     "output_type": "stream",
     "text": [
      "221.2758313353473\n"
     ]
    }
   ],
   "source": [
    "cv3= sub_df['Profits'].std()/sub_df['Profits'].mean()*100\n",
    "print(cv3)"
   ]
  },
  {
   "cell_type": "code",
   "execution_count": 65,
   "id": "fd82bfaa",
   "metadata": {
    "colab": {
     "base_uri": "https://localhost:8080/",
     "height": 206
    },
    "executionInfo": {
     "elapsed": 89,
     "status": "ok",
     "timestamp": 1731836516737,
     "user": {
      "displayName": "Akash Sharma",
      "userId": "17457304341170961774"
     },
     "user_tz": -330
    },
    "id": "exVtxE6F_yPu",
    "outputId": "adbd19bf-a151-416d-bacf-6612382ef961"
   },
   "outputs": [
    {
     "data": {
      "application/vnd.google.colaboratory.intrinsic+json": {
       "summary": "{\n  \"name\": \"sub_df\",\n  \"rows\": 5,\n  \"fields\": [\n    {\n      \"column\": \"Rank\",\n      \"properties\": {\n        \"dtype\": \"number\",\n        \"std\": 156,\n        \"min\": 89,\n        \"max\": 476,\n        \"num_unique_values\": 5,\n        \"samples\": [\n          347,\n          89,\n          196\n        ],\n        \"semantic_type\": \"\",\n        \"description\": \"\"\n      }\n    },\n    {\n      \"column\": \"Title\",\n      \"properties\": {\n        \"dtype\": \"string\",\n        \"num_unique_values\": 5,\n        \"samples\": [\n          \"Steel Dynamics\",\n          \"Exelon\",\n          \"FirstEnergy\"\n        ],\n        \"semantic_type\": \"\",\n        \"description\": \"\"\n      }\n    },\n    {\n      \"column\": \"Employees\",\n      \"properties\": {\n        \"dtype\": \"number\",\n        \"std\": 20978,\n        \"min\": 4754,\n        \"max\": 54800,\n        \"num_unique_values\": 5,\n        \"samples\": [\n          7695,\n          34396,\n          15707\n        ],\n        \"semantic_type\": \"\",\n        \"description\": \"\"\n      }\n    },\n    {\n      \"column\": \"Sector\",\n      \"properties\": {\n        \"dtype\": \"string\",\n        \"num_unique_values\": 4,\n        \"samples\": [\n          \"Materials\",\n          \"Financials\",\n          \"Technology\"\n        ],\n        \"semantic_type\": \"\",\n        \"description\": \"\"\n      }\n    },\n    {\n      \"column\": \"Revenues\",\n      \"properties\": {\n        \"dtype\": \"number\",\n        \"std\": 10267,\n        \"min\": 5449,\n        \"max\": 31360,\n        \"num_unique_values\": 5,\n        \"samples\": [\n          7777,\n          31360,\n          14156\n        ],\n        \"semantic_type\": \"\",\n        \"description\": \"\"\n      }\n    },\n    {\n      \"column\": \"Profits\",\n      \"properties\": {\n        \"dtype\": \"number\",\n        \"std\": 3285.7532860822034,\n        \"min\": -6177.0,\n        \"max\": 2021.8,\n        \"num_unique_values\": 5,\n        \"samples\": [\n          382.1,\n          1134.0,\n          -6177.0\n        ],\n        \"semantic_type\": \"\",\n        \"description\": \"\"\n      }\n    }\n  ]\n}",
       "type": "dataframe"
      },
      "text/html": [
       "\n",
       "  <div id=\"df-6f4c9084-b169-4361-8bd1-a71a08a7f7ac\" class=\"colab-df-container\">\n",
       "    <div>\n",
       "<style scoped>\n",
       "    .dataframe tbody tr th:only-of-type {\n",
       "        vertical-align: middle;\n",
       "    }\n",
       "\n",
       "    .dataframe tbody tr th {\n",
       "        vertical-align: top;\n",
       "    }\n",
       "\n",
       "    .dataframe thead th {\n",
       "        text-align: right;\n",
       "    }\n",
       "</style>\n",
       "<table border=\"1\" class=\"dataframe\">\n",
       "  <thead>\n",
       "    <tr style=\"text-align: right;\">\n",
       "      <th></th>\n",
       "      <th>Rank</th>\n",
       "      <th>Title</th>\n",
       "      <th>Employees</th>\n",
       "      <th>Sector</th>\n",
       "      <th>Revenues</th>\n",
       "      <th>Profits</th>\n",
       "    </tr>\n",
       "  </thead>\n",
       "  <tbody>\n",
       "    <tr>\n",
       "      <th>153</th>\n",
       "      <td>154</td>\n",
       "      <td>Thermo Fisher Scientific</td>\n",
       "      <td>54800</td>\n",
       "      <td>Technology</td>\n",
       "      <td>18274</td>\n",
       "      <td>2021.8</td>\n",
       "    </tr>\n",
       "    <tr>\n",
       "      <th>346</th>\n",
       "      <td>347</td>\n",
       "      <td>Steel Dynamics</td>\n",
       "      <td>7695</td>\n",
       "      <td>Materials</td>\n",
       "      <td>7777</td>\n",
       "      <td>382.1</td>\n",
       "    </tr>\n",
       "    <tr>\n",
       "      <th>195</th>\n",
       "      <td>196</td>\n",
       "      <td>FirstEnergy</td>\n",
       "      <td>15707</td>\n",
       "      <td>Energy</td>\n",
       "      <td>14156</td>\n",
       "      <td>-6177.0</td>\n",
       "    </tr>\n",
       "    <tr>\n",
       "      <th>475</th>\n",
       "      <td>476</td>\n",
       "      <td>Cincinnati Financial</td>\n",
       "      <td>4754</td>\n",
       "      <td>Financials</td>\n",
       "      <td>5449</td>\n",
       "      <td>590.7</td>\n",
       "    </tr>\n",
       "    <tr>\n",
       "      <th>88</th>\n",
       "      <td>89</td>\n",
       "      <td>Exelon</td>\n",
       "      <td>34396</td>\n",
       "      <td>Energy</td>\n",
       "      <td>31360</td>\n",
       "      <td>1134.0</td>\n",
       "    </tr>\n",
       "  </tbody>\n",
       "</table>\n",
       "</div>\n",
       "    <div class=\"colab-df-buttons\">\n",
       "\n",
       "  <div class=\"colab-df-container\">\n",
       "    <button class=\"colab-df-convert\" onclick=\"convertToInteractive('df-6f4c9084-b169-4361-8bd1-a71a08a7f7ac')\"\n",
       "            title=\"Convert this dataframe to an interactive table.\"\n",
       "            style=\"display:none;\">\n",
       "\n",
       "  <svg xmlns=\"http://www.w3.org/2000/svg\" height=\"24px\" viewBox=\"0 -960 960 960\">\n",
       "    <path d=\"M120-120v-720h720v720H120Zm60-500h600v-160H180v160Zm220 220h160v-160H400v160Zm0 220h160v-160H400v160ZM180-400h160v-160H180v160Zm440 0h160v-160H620v160ZM180-180h160v-160H180v160Zm440 0h160v-160H620v160Z\"/>\n",
       "  </svg>\n",
       "    </button>\n",
       "\n",
       "  <style>\n",
       "    .colab-df-container {\n",
       "      display:flex;\n",
       "      gap: 12px;\n",
       "    }\n",
       "\n",
       "    .colab-df-convert {\n",
       "      background-color: #E8F0FE;\n",
       "      border: none;\n",
       "      border-radius: 50%;\n",
       "      cursor: pointer;\n",
       "      display: none;\n",
       "      fill: #1967D2;\n",
       "      height: 32px;\n",
       "      padding: 0 0 0 0;\n",
       "      width: 32px;\n",
       "    }\n",
       "\n",
       "    .colab-df-convert:hover {\n",
       "      background-color: #E2EBFA;\n",
       "      box-shadow: 0px 1px 2px rgba(60, 64, 67, 0.3), 0px 1px 3px 1px rgba(60, 64, 67, 0.15);\n",
       "      fill: #174EA6;\n",
       "    }\n",
       "\n",
       "    .colab-df-buttons div {\n",
       "      margin-bottom: 4px;\n",
       "    }\n",
       "\n",
       "    [theme=dark] .colab-df-convert {\n",
       "      background-color: #3B4455;\n",
       "      fill: #D2E3FC;\n",
       "    }\n",
       "\n",
       "    [theme=dark] .colab-df-convert:hover {\n",
       "      background-color: #434B5C;\n",
       "      box-shadow: 0px 1px 3px 1px rgba(0, 0, 0, 0.15);\n",
       "      filter: drop-shadow(0px 1px 2px rgba(0, 0, 0, 0.3));\n",
       "      fill: #FFFFFF;\n",
       "    }\n",
       "  </style>\n",
       "\n",
       "    <script>\n",
       "      const buttonEl =\n",
       "        document.querySelector('#df-6f4c9084-b169-4361-8bd1-a71a08a7f7ac button.colab-df-convert');\n",
       "      buttonEl.style.display =\n",
       "        google.colab.kernel.accessAllowed ? 'block' : 'none';\n",
       "\n",
       "      async function convertToInteractive(key) {\n",
       "        const element = document.querySelector('#df-6f4c9084-b169-4361-8bd1-a71a08a7f7ac');\n",
       "        const dataTable =\n",
       "          await google.colab.kernel.invokeFunction('convertToInteractive',\n",
       "                                                    [key], {});\n",
       "        if (!dataTable) return;\n",
       "\n",
       "        const docLinkHtml = 'Like what you see? Visit the ' +\n",
       "          '<a target=\"_blank\" href=https://colab.research.google.com/notebooks/data_table.ipynb>data table notebook</a>'\n",
       "          + ' to learn more about interactive tables.';\n",
       "        element.innerHTML = '';\n",
       "        dataTable['output_type'] = 'display_data';\n",
       "        await google.colab.output.renderOutput(dataTable, element);\n",
       "        const docLink = document.createElement('div');\n",
       "        docLink.innerHTML = docLinkHtml;\n",
       "        element.appendChild(docLink);\n",
       "      }\n",
       "    </script>\n",
       "  </div>\n",
       "\n",
       "\n",
       "<div id=\"df-28140c96-c641-43a5-ace0-2fca18cf2b6b\">\n",
       "  <button class=\"colab-df-quickchart\" onclick=\"quickchart('df-28140c96-c641-43a5-ace0-2fca18cf2b6b')\"\n",
       "            title=\"Suggest charts\"\n",
       "            style=\"display:none;\">\n",
       "\n",
       "<svg xmlns=\"http://www.w3.org/2000/svg\" height=\"24px\"viewBox=\"0 0 24 24\"\n",
       "     width=\"24px\">\n",
       "    <g>\n",
       "        <path d=\"M19 3H5c-1.1 0-2 .9-2 2v14c0 1.1.9 2 2 2h14c1.1 0 2-.9 2-2V5c0-1.1-.9-2-2-2zM9 17H7v-7h2v7zm4 0h-2V7h2v10zm4 0h-2v-4h2v4z\"/>\n",
       "    </g>\n",
       "</svg>\n",
       "  </button>\n",
       "\n",
       "<style>\n",
       "  .colab-df-quickchart {\n",
       "      --bg-color: #E8F0FE;\n",
       "      --fill-color: #1967D2;\n",
       "      --hover-bg-color: #E2EBFA;\n",
       "      --hover-fill-color: #174EA6;\n",
       "      --disabled-fill-color: #AAA;\n",
       "      --disabled-bg-color: #DDD;\n",
       "  }\n",
       "\n",
       "  [theme=dark] .colab-df-quickchart {\n",
       "      --bg-color: #3B4455;\n",
       "      --fill-color: #D2E3FC;\n",
       "      --hover-bg-color: #434B5C;\n",
       "      --hover-fill-color: #FFFFFF;\n",
       "      --disabled-bg-color: #3B4455;\n",
       "      --disabled-fill-color: #666;\n",
       "  }\n",
       "\n",
       "  .colab-df-quickchart {\n",
       "    background-color: var(--bg-color);\n",
       "    border: none;\n",
       "    border-radius: 50%;\n",
       "    cursor: pointer;\n",
       "    display: none;\n",
       "    fill: var(--fill-color);\n",
       "    height: 32px;\n",
       "    padding: 0;\n",
       "    width: 32px;\n",
       "  }\n",
       "\n",
       "  .colab-df-quickchart:hover {\n",
       "    background-color: var(--hover-bg-color);\n",
       "    box-shadow: 0 1px 2px rgba(60, 64, 67, 0.3), 0 1px 3px 1px rgba(60, 64, 67, 0.15);\n",
       "    fill: var(--button-hover-fill-color);\n",
       "  }\n",
       "\n",
       "  .colab-df-quickchart-complete:disabled,\n",
       "  .colab-df-quickchart-complete:disabled:hover {\n",
       "    background-color: var(--disabled-bg-color);\n",
       "    fill: var(--disabled-fill-color);\n",
       "    box-shadow: none;\n",
       "  }\n",
       "\n",
       "  .colab-df-spinner {\n",
       "    border: 2px solid var(--fill-color);\n",
       "    border-color: transparent;\n",
       "    border-bottom-color: var(--fill-color);\n",
       "    animation:\n",
       "      spin 1s steps(1) infinite;\n",
       "  }\n",
       "\n",
       "  @keyframes spin {\n",
       "    0% {\n",
       "      border-color: transparent;\n",
       "      border-bottom-color: var(--fill-color);\n",
       "      border-left-color: var(--fill-color);\n",
       "    }\n",
       "    20% {\n",
       "      border-color: transparent;\n",
       "      border-left-color: var(--fill-color);\n",
       "      border-top-color: var(--fill-color);\n",
       "    }\n",
       "    30% {\n",
       "      border-color: transparent;\n",
       "      border-left-color: var(--fill-color);\n",
       "      border-top-color: var(--fill-color);\n",
       "      border-right-color: var(--fill-color);\n",
       "    }\n",
       "    40% {\n",
       "      border-color: transparent;\n",
       "      border-right-color: var(--fill-color);\n",
       "      border-top-color: var(--fill-color);\n",
       "    }\n",
       "    60% {\n",
       "      border-color: transparent;\n",
       "      border-right-color: var(--fill-color);\n",
       "    }\n",
       "    80% {\n",
       "      border-color: transparent;\n",
       "      border-right-color: var(--fill-color);\n",
       "      border-bottom-color: var(--fill-color);\n",
       "    }\n",
       "    90% {\n",
       "      border-color: transparent;\n",
       "      border-bottom-color: var(--fill-color);\n",
       "    }\n",
       "  }\n",
       "</style>\n",
       "\n",
       "  <script>\n",
       "    async function quickchart(key) {\n",
       "      const quickchartButtonEl =\n",
       "        document.querySelector('#' + key + ' button');\n",
       "      quickchartButtonEl.disabled = true;  // To prevent multiple clicks.\n",
       "      quickchartButtonEl.classList.add('colab-df-spinner');\n",
       "      try {\n",
       "        const charts = await google.colab.kernel.invokeFunction(\n",
       "            'suggestCharts', [key], {});\n",
       "      } catch (error) {\n",
       "        console.error('Error during call to suggestCharts:', error);\n",
       "      }\n",
       "      quickchartButtonEl.classList.remove('colab-df-spinner');\n",
       "      quickchartButtonEl.classList.add('colab-df-quickchart-complete');\n",
       "    }\n",
       "    (() => {\n",
       "      let quickchartButtonEl =\n",
       "        document.querySelector('#df-28140c96-c641-43a5-ace0-2fca18cf2b6b button');\n",
       "      quickchartButtonEl.style.display =\n",
       "        google.colab.kernel.accessAllowed ? 'block' : 'none';\n",
       "    })();\n",
       "  </script>\n",
       "</div>\n",
       "\n",
       "    </div>\n",
       "  </div>\n"
      ],
      "text/plain": [
       "     Rank                     Title  Employees      Sector  Revenues  Profits\n",
       "153   154  Thermo Fisher Scientific      54800  Technology     18274   2021.8\n",
       "346   347            Steel Dynamics       7695   Materials      7777    382.1\n",
       "195   196               FirstEnergy      15707      Energy     14156  -6177.0\n",
       "475   476      Cincinnati Financial       4754  Financials      5449    590.7\n",
       "88     89                    Exelon      34396      Energy     31360   1134.0"
      ]
     },
     "execution_count": 65,
     "metadata": {},
     "output_type": "execute_result"
    }
   ],
   "source": [
    "### FOR RANDOM SELECTING THE DATA\n",
    "\n",
    "sub_df.sample(5)"
   ]
  },
  {
   "cell_type": "code",
   "execution_count": 66,
   "id": "c6a19f10",
   "metadata": {
    "colab": {
     "base_uri": "https://localhost:8080/",
     "height": 206
    },
    "executionInfo": {
     "elapsed": 87,
     "status": "ok",
     "timestamp": 1731836516738,
     "user": {
      "displayName": "Akash Sharma",
      "userId": "17457304341170961774"
     },
     "user_tz": -330
    },
    "heading": "Data Loading and Exploration",
    "id": "hlQ3fNZ7DBw3",
    "outputId": "93c04933-7736-41b3-d0a4-aa53e25dee3d"
   },
   "outputs": [
    {
     "data": {
      "application/vnd.google.colaboratory.intrinsic+json": {
       "summary": "{\n  \"name\": \"sub_df\",\n  \"rows\": 5,\n  \"fields\": [\n    {\n      \"column\": \"Rank\",\n      \"properties\": {\n        \"dtype\": \"number\",\n        \"std\": 157,\n        \"min\": 13,\n        \"max\": 381,\n        \"num_unique_values\": 5,\n        \"samples\": [\n          243,\n          361,\n          381\n        ],\n        \"semantic_type\": \"\",\n        \"description\": \"\"\n      }\n    },\n    {\n      \"column\": \"Title\",\n      \"properties\": {\n        \"dtype\": \"string\",\n        \"num_unique_values\": 5,\n        \"samples\": [\n          \"Henry Schein\",\n          \"Assurant\",\n          \"Leidos Holdings\"\n        ],\n        \"semantic_type\": \"\",\n        \"description\": \"\"\n      }\n    },\n    {\n      \"column\": \"Employees\",\n      \"properties\": {\n        \"dtype\": \"number\",\n        \"std\": 124008,\n        \"min\": 6308,\n        \"max\": 295000,\n        \"num_unique_values\": 5,\n        \"samples\": [\n          21000,\n          14700,\n          32000\n        ],\n        \"semantic_type\": \"\",\n        \"description\": \"\"\n      }\n    },\n    {\n      \"column\": \"Sector\",\n      \"properties\": {\n        \"dtype\": \"string\",\n        \"num_unique_values\": 5,\n        \"samples\": [\n          \"Wholesalers\",\n          \"Financials\",\n          \"Technology\"\n        ],\n        \"semantic_type\": \"\",\n        \"description\": \"\"\n      }\n    },\n    {\n      \"column\": \"Revenues\",\n      \"properties\": {\n        \"dtype\": \"number\",\n        \"std\": 51494,\n        \"min\": 7043,\n        \"max\": 126661,\n        \"num_unique_values\": 5,\n        \"samples\": [\n          11572,\n          7532,\n          7043\n        ],\n        \"semantic_type\": \"\",\n        \"description\": \"\"\n      }\n    },\n    {\n      \"column\": \"Profits\",\n      \"properties\": {\n        \"dtype\": \"number\",\n        \"std\": 3724.2876403414384,\n        \"min\": 244.0,\n        \"max\": 8831.0,\n        \"num_unique_values\": 5,\n        \"samples\": [\n          506.8,\n          565.4,\n          244.0\n        ],\n        \"semantic_type\": \"\",\n        \"description\": \"\"\n      }\n    }\n  ]\n}",
       "type": "dataframe"
      },
      "text/html": [
       "\n",
       "  <div id=\"df-82ee74f8-8c21-435f-a685-26cb8578d0ad\" class=\"colab-df-container\">\n",
       "    <div>\n",
       "<style scoped>\n",
       "    .dataframe tbody tr th:only-of-type {\n",
       "        vertical-align: middle;\n",
       "    }\n",
       "\n",
       "    .dataframe tbody tr th {\n",
       "        vertical-align: top;\n",
       "    }\n",
       "\n",
       "    .dataframe thead th {\n",
       "        text-align: right;\n",
       "    }\n",
       "</style>\n",
       "<table border=\"1\" class=\"dataframe\">\n",
       "  <thead>\n",
       "    <tr style=\"text-align: right;\">\n",
       "      <th></th>\n",
       "      <th>Rank</th>\n",
       "      <th>Title</th>\n",
       "      <th>Employees</th>\n",
       "      <th>Sector</th>\n",
       "      <th>Revenues</th>\n",
       "      <th>Profits</th>\n",
       "    </tr>\n",
       "  </thead>\n",
       "  <tbody>\n",
       "    <tr>\n",
       "      <th>12</th>\n",
       "      <td>13</td>\n",
       "      <td>General Electric</td>\n",
       "      <td>295000</td>\n",
       "      <td>Industrials</td>\n",
       "      <td>126661</td>\n",
       "      <td>8831.0</td>\n",
       "    </tr>\n",
       "    <tr>\n",
       "      <th>242</th>\n",
       "      <td>243</td>\n",
       "      <td>Henry Schein</td>\n",
       "      <td>21000</td>\n",
       "      <td>Wholesalers</td>\n",
       "      <td>11572</td>\n",
       "      <td>506.8</td>\n",
       "    </tr>\n",
       "    <tr>\n",
       "      <th>380</th>\n",
       "      <td>381</td>\n",
       "      <td>Leidos Holdings</td>\n",
       "      <td>32000</td>\n",
       "      <td>Technology</td>\n",
       "      <td>7043</td>\n",
       "      <td>244.0</td>\n",
       "    </tr>\n",
       "    <tr>\n",
       "      <th>116</th>\n",
       "      <td>117</td>\n",
       "      <td>Tesoro</td>\n",
       "      <td>6308</td>\n",
       "      <td>Energy</td>\n",
       "      <td>24005</td>\n",
       "      <td>734.0</td>\n",
       "    </tr>\n",
       "    <tr>\n",
       "      <th>360</th>\n",
       "      <td>361</td>\n",
       "      <td>Assurant</td>\n",
       "      <td>14700</td>\n",
       "      <td>Financials</td>\n",
       "      <td>7532</td>\n",
       "      <td>565.4</td>\n",
       "    </tr>\n",
       "  </tbody>\n",
       "</table>\n",
       "</div>\n",
       "    <div class=\"colab-df-buttons\">\n",
       "\n",
       "  <div class=\"colab-df-container\">\n",
       "    <button class=\"colab-df-convert\" onclick=\"convertToInteractive('df-82ee74f8-8c21-435f-a685-26cb8578d0ad')\"\n",
       "            title=\"Convert this dataframe to an interactive table.\"\n",
       "            style=\"display:none;\">\n",
       "\n",
       "  <svg xmlns=\"http://www.w3.org/2000/svg\" height=\"24px\" viewBox=\"0 -960 960 960\">\n",
       "    <path d=\"M120-120v-720h720v720H120Zm60-500h600v-160H180v160Zm220 220h160v-160H400v160Zm0 220h160v-160H400v160ZM180-400h160v-160H180v160Zm440 0h160v-160H620v160ZM180-180h160v-160H180v160Zm440 0h160v-160H620v160Z\"/>\n",
       "  </svg>\n",
       "    </button>\n",
       "\n",
       "  <style>\n",
       "    .colab-df-container {\n",
       "      display:flex;\n",
       "      gap: 12px;\n",
       "    }\n",
       "\n",
       "    .colab-df-convert {\n",
       "      background-color: #E8F0FE;\n",
       "      border: none;\n",
       "      border-radius: 50%;\n",
       "      cursor: pointer;\n",
       "      display: none;\n",
       "      fill: #1967D2;\n",
       "      height: 32px;\n",
       "      padding: 0 0 0 0;\n",
       "      width: 32px;\n",
       "    }\n",
       "\n",
       "    .colab-df-convert:hover {\n",
       "      background-color: #E2EBFA;\n",
       "      box-shadow: 0px 1px 2px rgba(60, 64, 67, 0.3), 0px 1px 3px 1px rgba(60, 64, 67, 0.15);\n",
       "      fill: #174EA6;\n",
       "    }\n",
       "\n",
       "    .colab-df-buttons div {\n",
       "      margin-bottom: 4px;\n",
       "    }\n",
       "\n",
       "    [theme=dark] .colab-df-convert {\n",
       "      background-color: #3B4455;\n",
       "      fill: #D2E3FC;\n",
       "    }\n",
       "\n",
       "    [theme=dark] .colab-df-convert:hover {\n",
       "      background-color: #434B5C;\n",
       "      box-shadow: 0px 1px 3px 1px rgba(0, 0, 0, 0.15);\n",
       "      filter: drop-shadow(0px 1px 2px rgba(0, 0, 0, 0.3));\n",
       "      fill: #FFFFFF;\n",
       "    }\n",
       "  </style>\n",
       "\n",
       "    <script>\n",
       "      const buttonEl =\n",
       "        document.querySelector('#df-82ee74f8-8c21-435f-a685-26cb8578d0ad button.colab-df-convert');\n",
       "      buttonEl.style.display =\n",
       "        google.colab.kernel.accessAllowed ? 'block' : 'none';\n",
       "\n",
       "      async function convertToInteractive(key) {\n",
       "        const element = document.querySelector('#df-82ee74f8-8c21-435f-a685-26cb8578d0ad');\n",
       "        const dataTable =\n",
       "          await google.colab.kernel.invokeFunction('convertToInteractive',\n",
       "                                                    [key], {});\n",
       "        if (!dataTable) return;\n",
       "\n",
       "        const docLinkHtml = 'Like what you see? Visit the ' +\n",
       "          '<a target=\"_blank\" href=https://colab.research.google.com/notebooks/data_table.ipynb>data table notebook</a>'\n",
       "          + ' to learn more about interactive tables.';\n",
       "        element.innerHTML = '';\n",
       "        dataTable['output_type'] = 'display_data';\n",
       "        await google.colab.output.renderOutput(dataTable, element);\n",
       "        const docLink = document.createElement('div');\n",
       "        docLink.innerHTML = docLinkHtml;\n",
       "        element.appendChild(docLink);\n",
       "      }\n",
       "    </script>\n",
       "  </div>\n",
       "\n",
       "\n",
       "<div id=\"df-935b989d-5db4-4509-848e-968287dd93c3\">\n",
       "  <button class=\"colab-df-quickchart\" onclick=\"quickchart('df-935b989d-5db4-4509-848e-968287dd93c3')\"\n",
       "            title=\"Suggest charts\"\n",
       "            style=\"display:none;\">\n",
       "\n",
       "<svg xmlns=\"http://www.w3.org/2000/svg\" height=\"24px\"viewBox=\"0 0 24 24\"\n",
       "     width=\"24px\">\n",
       "    <g>\n",
       "        <path d=\"M19 3H5c-1.1 0-2 .9-2 2v14c0 1.1.9 2 2 2h14c1.1 0 2-.9 2-2V5c0-1.1-.9-2-2-2zM9 17H7v-7h2v7zm4 0h-2V7h2v10zm4 0h-2v-4h2v4z\"/>\n",
       "    </g>\n",
       "</svg>\n",
       "  </button>\n",
       "\n",
       "<style>\n",
       "  .colab-df-quickchart {\n",
       "      --bg-color: #E8F0FE;\n",
       "      --fill-color: #1967D2;\n",
       "      --hover-bg-color: #E2EBFA;\n",
       "      --hover-fill-color: #174EA6;\n",
       "      --disabled-fill-color: #AAA;\n",
       "      --disabled-bg-color: #DDD;\n",
       "  }\n",
       "\n",
       "  [theme=dark] .colab-df-quickchart {\n",
       "      --bg-color: #3B4455;\n",
       "      --fill-color: #D2E3FC;\n",
       "      --hover-bg-color: #434B5C;\n",
       "      --hover-fill-color: #FFFFFF;\n",
       "      --disabled-bg-color: #3B4455;\n",
       "      --disabled-fill-color: #666;\n",
       "  }\n",
       "\n",
       "  .colab-df-quickchart {\n",
       "    background-color: var(--bg-color);\n",
       "    border: none;\n",
       "    border-radius: 50%;\n",
       "    cursor: pointer;\n",
       "    display: none;\n",
       "    fill: var(--fill-color);\n",
       "    height: 32px;\n",
       "    padding: 0;\n",
       "    width: 32px;\n",
       "  }\n",
       "\n",
       "  .colab-df-quickchart:hover {\n",
       "    background-color: var(--hover-bg-color);\n",
       "    box-shadow: 0 1px 2px rgba(60, 64, 67, 0.3), 0 1px 3px 1px rgba(60, 64, 67, 0.15);\n",
       "    fill: var(--button-hover-fill-color);\n",
       "  }\n",
       "\n",
       "  .colab-df-quickchart-complete:disabled,\n",
       "  .colab-df-quickchart-complete:disabled:hover {\n",
       "    background-color: var(--disabled-bg-color);\n",
       "    fill: var(--disabled-fill-color);\n",
       "    box-shadow: none;\n",
       "  }\n",
       "\n",
       "  .colab-df-spinner {\n",
       "    border: 2px solid var(--fill-color);\n",
       "    border-color: transparent;\n",
       "    border-bottom-color: var(--fill-color);\n",
       "    animation:\n",
       "      spin 1s steps(1) infinite;\n",
       "  }\n",
       "\n",
       "  @keyframes spin {\n",
       "    0% {\n",
       "      border-color: transparent;\n",
       "      border-bottom-color: var(--fill-color);\n",
       "      border-left-color: var(--fill-color);\n",
       "    }\n",
       "    20% {\n",
       "      border-color: transparent;\n",
       "      border-left-color: var(--fill-color);\n",
       "      border-top-color: var(--fill-color);\n",
       "    }\n",
       "    30% {\n",
       "      border-color: transparent;\n",
       "      border-left-color: var(--fill-color);\n",
       "      border-top-color: var(--fill-color);\n",
       "      border-right-color: var(--fill-color);\n",
       "    }\n",
       "    40% {\n",
       "      border-color: transparent;\n",
       "      border-right-color: var(--fill-color);\n",
       "      border-top-color: var(--fill-color);\n",
       "    }\n",
       "    60% {\n",
       "      border-color: transparent;\n",
       "      border-right-color: var(--fill-color);\n",
       "    }\n",
       "    80% {\n",
       "      border-color: transparent;\n",
       "      border-right-color: var(--fill-color);\n",
       "      border-bottom-color: var(--fill-color);\n",
       "    }\n",
       "    90% {\n",
       "      border-color: transparent;\n",
       "      border-bottom-color: var(--fill-color);\n",
       "    }\n",
       "  }\n",
       "</style>\n",
       "\n",
       "  <script>\n",
       "    async function quickchart(key) {\n",
       "      const quickchartButtonEl =\n",
       "        document.querySelector('#' + key + ' button');\n",
       "      quickchartButtonEl.disabled = true;  // To prevent multiple clicks.\n",
       "      quickchartButtonEl.classList.add('colab-df-spinner');\n",
       "      try {\n",
       "        const charts = await google.colab.kernel.invokeFunction(\n",
       "            'suggestCharts', [key], {});\n",
       "      } catch (error) {\n",
       "        console.error('Error during call to suggestCharts:', error);\n",
       "      }\n",
       "      quickchartButtonEl.classList.remove('colab-df-spinner');\n",
       "      quickchartButtonEl.classList.add('colab-df-quickchart-complete');\n",
       "    }\n",
       "    (() => {\n",
       "      let quickchartButtonEl =\n",
       "        document.querySelector('#df-935b989d-5db4-4509-848e-968287dd93c3 button');\n",
       "      quickchartButtonEl.style.display =\n",
       "        google.colab.kernel.accessAllowed ? 'block' : 'none';\n",
       "    })();\n",
       "  </script>\n",
       "</div>\n",
       "\n",
       "    </div>\n",
       "  </div>\n"
      ],
      "text/plain": [
       "     Rank             Title  Employees       Sector  Revenues  Profits\n",
       "12     13  General Electric     295000  Industrials    126661   8831.0\n",
       "242   243      Henry Schein      21000  Wholesalers     11572    506.8\n",
       "380   381   Leidos Holdings      32000   Technology      7043    244.0\n",
       "116   117            Tesoro       6308       Energy     24005    734.0\n",
       "360   361          Assurant      14700   Financials      7532    565.4"
      ]
     },
     "execution_count": 66,
     "metadata": {},
     "output_type": "execute_result"
    }
   ],
   "source": [
    "## used to get the amount of data in percentage\n",
    "sub_df.sample(frac=0.01)"
   ]
  },
  {
   "cell_type": "code",
   "execution_count": 67,
   "id": "21c03876",
   "metadata": {
    "colab": {
     "base_uri": "https://localhost:8080/"
    },
    "executionInfo": {
     "elapsed": 84,
     "status": "ok",
     "timestamp": 1731836516739,
     "user": {
      "displayName": "Akash Sharma",
      "userId": "17457304341170961774"
     },
     "user_tz": -330
    },
    "id": "dm2q09bkDIHy",
    "outputId": "0f28aac8-35fd-4273-d077-97134ed530da"
   },
   "outputs": [
    {
     "name": "stdout",
     "output_type": "stream",
     "text": [
      "23632.265714285713\n"
     ]
    }
   ],
   "source": [
    "df_sample= sub_df.sample(frac=0.70)\n",
    "mean2= df_sample['Revenues'].mean()\n",
    "print(mean2)"
   ]
  },
  {
   "cell_type": "code",
   "execution_count": 68,
   "id": "478d77b8",
   "metadata": {
    "colab": {
     "base_uri": "https://localhost:8080/"
    },
    "executionInfo": {
     "elapsed": 81,
     "status": "ok",
     "timestamp": 1731836516739,
     "user": {
      "displayName": "Akash Sharma",
      "userId": "17457304341170961774"
     },
     "user_tz": -330
    },
    "id": "HPovp4Z_D1id",
    "outputId": "90a66544-d330-46d4-8863-ad5e8e680f07"
   },
   "outputs": [
    {
     "name": "stdout",
     "output_type": "stream",
     "text": [
      "23632.265714285713\n"
     ]
    }
   ],
   "source": [
    "### fixing variables in sample functions\n",
    "df_sample1= sub_df.sample(frac=0.70, random_state=1)\n",
    "mean3= df_sample1['Revenues'].mean()\n",
    "print(mean2)"
   ]
  },
  {
   "cell_type": "code",
   "execution_count": 69,
   "id": "1776eb54",
   "metadata": {
    "colab": {
     "base_uri": "https://localhost:8080/"
    },
    "executionInfo": {
     "elapsed": 77,
     "status": "ok",
     "timestamp": 1731836516739,
     "user": {
      "displayName": "Akash Sharma",
      "userId": "17457304341170961774"
     },
     "user_tz": -330
    },
    "id": "JrCgMjInFlU8",
    "outputId": "708298a2-159d-4188-bdaf-ba98830d8a48"
   },
   "outputs": [
    {
     "name": "stdout",
     "output_type": "stream",
     "text": [
      "23645.334285714285\n"
     ]
    }
   ],
   "source": [
    "df_sample2= sub_df.sample(frac=0.70, random_state=2)\n",
    "mean4= df_sample2['Revenues'].mean()\n",
    "print(mean4)"
   ]
  },
  {
   "cell_type": "code",
   "execution_count": 70,
   "id": "56ebcc03",
   "metadata": {
    "colab": {
     "base_uri": "https://localhost:8080/"
    },
    "executionInfo": {
     "elapsed": 74,
     "status": "ok",
     "timestamp": 1731836516739,
     "user": {
      "displayName": "Akash Sharma",
      "userId": "17457304341170961774"
     },
     "user_tz": -330
    },
    "id": "iSOD6UoGFqTH",
    "outputId": "41f33435-ff5a-46a2-92b9-79ea16ca1a45"
   },
   "outputs": [
    {
     "name": "stdout",
     "output_type": "stream",
     "text": [
      "23645.334285714285\n"
     ]
    }
   ],
   "source": [
    "df_sample2= sub_df.sample(frac=0.70, random_state=2)\n",
    "mean5= df_sample2['Revenues'].mean()\n",
    "print(mean5)"
   ]
  },
  {
   "cell_type": "code",
   "execution_count": 71,
   "id": "3457ce4b",
   "metadata": {
    "colab": {
     "base_uri": "https://localhost:8080/",
     "height": 1000
    },
    "executionInfo": {
     "elapsed": 73,
     "status": "ok",
     "timestamp": 1731836516740,
     "user": {
      "displayName": "Akash Sharma",
      "userId": "17457304341170961774"
     },
     "user_tz": -330
    },
    "heading": "Data Loading and Exploration",
    "id": "MuYiE8SNF_J8",
    "outputId": "00d4808d-519d-45cc-e187-0e7c227d84b1"
   },
   "outputs": [
    {
     "data": {
      "application/vnd.google.colaboratory.intrinsic+json": {
       "summary": "{\n  \"name\": \"sub_df\",\n  \"rows\": 35,\n  \"fields\": [\n    {\n      \"column\": \"Rank\",\n      \"properties\": {\n        \"dtype\": \"number\",\n        \"std\": 142,\n        \"min\": 12,\n        \"max\": 480,\n        \"num_unique_values\": 35,\n        \"samples\": [\n          352,\n          306,\n          372\n        ],\n        \"semantic_type\": \"\",\n        \"description\": \"\"\n      }\n    },\n    {\n      \"column\": \"Title\",\n      \"properties\": {\n        \"dtype\": \"string\",\n        \"num_unique_values\": 35,\n        \"samples\": [\n          \"Zimmer Biomet Holdings\",\n          \"Public Service Enterprise Group\",\n          \"Masco\"\n        ],\n        \"semantic_type\": \"\",\n        \"description\": \"\"\n      }\n    },\n    {\n      \"column\": \"Employees\",\n      \"properties\": {\n        \"dtype\": \"number\",\n        \"std\": 75987,\n        \"min\": 1326,\n        \"max\": 341400,\n        \"num_unique_values\": 35,\n        \"samples\": [\n          18500,\n          13065,\n          26000\n        ],\n        \"semantic_type\": \"\",\n        \"description\": \"\"\n      }\n    },\n    {\n      \"column\": \"Sector\",\n      \"properties\": {\n        \"dtype\": \"category\",\n        \"num_unique_values\": 14,\n        \"samples\": [\n          \"Media\",\n          \"Chemicals\",\n          \"Health Care\"\n        ],\n        \"semantic_type\": \"\",\n        \"description\": \"\"\n      }\n    },\n    {\n      \"column\": \"Revenues\",\n      \"properties\": {\n        \"dtype\": \"number\",\n        \"std\": 31111,\n        \"min\": 5414,\n        \"max\": 135987,\n        \"num_unique_values\": 35,\n        \"samples\": [\n          7684,\n          9061,\n          7357\n        ],\n        \"semantic_type\": \"\",\n        \"description\": \"\"\n      }\n    },\n    {\n      \"column\": \"Profits\",\n      \"properties\": {\n        \"dtype\": \"number\",\n        \"std\": 3913.767773444636,\n        \"min\": -1721.0,\n        \"max\": 19478.0,\n        \"num_unique_values\": 35,\n        \"samples\": [\n          305.9,\n          887.0,\n          491.0\n        ],\n        \"semantic_type\": \"\",\n        \"description\": \"\"\n      }\n    }\n  ]\n}",
       "type": "dataframe"
      },
      "text/html": [
       "\n",
       "  <div id=\"df-253ff18a-2b6a-48cc-8701-0c5a0c5bcb77\" class=\"colab-df-container\">\n",
       "    <div>\n",
       "<style scoped>\n",
       "    .dataframe tbody tr th:only-of-type {\n",
       "        vertical-align: middle;\n",
       "    }\n",
       "\n",
       "    .dataframe tbody tr th {\n",
       "        vertical-align: top;\n",
       "    }\n",
       "\n",
       "    .dataframe thead th {\n",
       "        text-align: right;\n",
       "    }\n",
       "</style>\n",
       "<table border=\"1\" class=\"dataframe\">\n",
       "  <thead>\n",
       "    <tr style=\"text-align: right;\">\n",
       "      <th></th>\n",
       "      <th>Rank</th>\n",
       "      <th>Title</th>\n",
       "      <th>Employees</th>\n",
       "      <th>Sector</th>\n",
       "      <th>Revenues</th>\n",
       "      <th>Profits</th>\n",
       "    </tr>\n",
       "  </thead>\n",
       "  <tbody>\n",
       "    <tr>\n",
       "      <th>129</th>\n",
       "      <td>130</td>\n",
       "      <td>Community Health Systems</td>\n",
       "      <td>108000</td>\n",
       "      <td>Health Care</td>\n",
       "      <td>21374</td>\n",
       "      <td>-1721.0</td>\n",
       "    </tr>\n",
       "    <tr>\n",
       "      <th>260</th>\n",
       "      <td>261</td>\n",
       "      <td>Group 1 Automotive</td>\n",
       "      <td>13500</td>\n",
       "      <td>Retailing</td>\n",
       "      <td>10888</td>\n",
       "      <td>147.1</td>\n",
       "    </tr>\n",
       "    <tr>\n",
       "      <th>246</th>\n",
       "      <td>247</td>\n",
       "      <td>Core-Mark Holding</td>\n",
       "      <td>7688</td>\n",
       "      <td>Wholesalers</td>\n",
       "      <td>11507</td>\n",
       "      <td>54.2</td>\n",
       "    </tr>\n",
       "    <tr>\n",
       "      <th>467</th>\n",
       "      <td>468</td>\n",
       "      <td>NetApp</td>\n",
       "      <td>12030</td>\n",
       "      <td>Technology</td>\n",
       "      <td>5546</td>\n",
       "      <td>229.0</td>\n",
       "    </tr>\n",
       "    <tr>\n",
       "      <th>348</th>\n",
       "      <td>349</td>\n",
       "      <td>Western Refining</td>\n",
       "      <td>7134</td>\n",
       "      <td>Energy</td>\n",
       "      <td>7743</td>\n",
       "      <td>124.9</td>\n",
       "    </tr>\n",
       "    <tr>\n",
       "      <th>83</th>\n",
       "      <td>84</td>\n",
       "      <td>Allstate</td>\n",
       "      <td>43275</td>\n",
       "      <td>Financials</td>\n",
       "      <td>36534</td>\n",
       "      <td>1877.0</td>\n",
       "    </tr>\n",
       "    <tr>\n",
       "      <th>258</th>\n",
       "      <td>259</td>\n",
       "      <td>Jacobs Engineering Group</td>\n",
       "      <td>49350</td>\n",
       "      <td>Engineering &amp; Construction</td>\n",
       "      <td>10964</td>\n",
       "      <td>210.5</td>\n",
       "    </tr>\n",
       "    <tr>\n",
       "      <th>479</th>\n",
       "      <td>480</td>\n",
       "      <td>Delek US Holdings</td>\n",
       "      <td>1326</td>\n",
       "      <td>Energy</td>\n",
       "      <td>5414</td>\n",
       "      <td>-153.7</td>\n",
       "    </tr>\n",
       "    <tr>\n",
       "      <th>200</th>\n",
       "      <td>201</td>\n",
       "      <td>Waste Management</td>\n",
       "      <td>41200</td>\n",
       "      <td>Business Services</td>\n",
       "      <td>13609</td>\n",
       "      <td>1182.0</td>\n",
       "    </tr>\n",
       "    <tr>\n",
       "      <th>115</th>\n",
       "      <td>116</td>\n",
       "      <td>Raytheon</td>\n",
       "      <td>63000</td>\n",
       "      <td>Aerospace &amp; Defense</td>\n",
       "      <td>24069</td>\n",
       "      <td>2211.0</td>\n",
       "    </tr>\n",
       "    <tr>\n",
       "      <th>26</th>\n",
       "      <td>27</td>\n",
       "      <td>Alphabet</td>\n",
       "      <td>72053</td>\n",
       "      <td>Technology</td>\n",
       "      <td>90272</td>\n",
       "      <td>19478.0</td>\n",
       "    </tr>\n",
       "    <tr>\n",
       "      <th>53</th>\n",
       "      <td>54</td>\n",
       "      <td>Pfizer</td>\n",
       "      <td>96500</td>\n",
       "      <td>Health Care</td>\n",
       "      <td>52824</td>\n",
       "      <td>7215.0</td>\n",
       "    </tr>\n",
       "    <tr>\n",
       "      <th>37</th>\n",
       "      <td>38</td>\n",
       "      <td>Target</td>\n",
       "      <td>323000</td>\n",
       "      <td>Retailing</td>\n",
       "      <td>69495</td>\n",
       "      <td>2737.0</td>\n",
       "    </tr>\n",
       "    <tr>\n",
       "      <th>307</th>\n",
       "      <td>306</td>\n",
       "      <td>Public Service Enterprise Group</td>\n",
       "      <td>13065</td>\n",
       "      <td>Energy</td>\n",
       "      <td>9061</td>\n",
       "      <td>887.0</td>\n",
       "    </tr>\n",
       "    <tr>\n",
       "      <th>11</th>\n",
       "      <td>12</td>\n",
       "      <td>Amazon.com</td>\n",
       "      <td>341400</td>\n",
       "      <td>Technology</td>\n",
       "      <td>135987</td>\n",
       "      <td>2371.0</td>\n",
       "    </tr>\n",
       "    <tr>\n",
       "      <th>102</th>\n",
       "      <td>103</td>\n",
       "      <td>World Fuel Services</td>\n",
       "      <td>5000</td>\n",
       "      <td>Energy</td>\n",
       "      <td>27016</td>\n",
       "      <td>126.5</td>\n",
       "    </tr>\n",
       "    <tr>\n",
       "      <th>277</th>\n",
       "      <td>278</td>\n",
       "      <td>Occidental Petroleum</td>\n",
       "      <td>11000</td>\n",
       "      <td>Energy</td>\n",
       "      <td>10398</td>\n",
       "      <td>-574.0</td>\n",
       "    </tr>\n",
       "    <tr>\n",
       "      <th>387</th>\n",
       "      <td>388</td>\n",
       "      <td>R.R. Donnelley &amp; Sons</td>\n",
       "      <td>44360</td>\n",
       "      <td>Media</td>\n",
       "      <td>6896</td>\n",
       "      <td>-495.9</td>\n",
       "    </tr>\n",
       "    <tr>\n",
       "      <th>427</th>\n",
       "      <td>428</td>\n",
       "      <td>Alleghany</td>\n",
       "      <td>3420</td>\n",
       "      <td>Financials</td>\n",
       "      <td>6131</td>\n",
       "      <td>456.9</td>\n",
       "    </tr>\n",
       "    <tr>\n",
       "      <th>241</th>\n",
       "      <td>242</td>\n",
       "      <td>First Data</td>\n",
       "      <td>24000</td>\n",
       "      <td>Business Services</td>\n",
       "      <td>11584</td>\n",
       "      <td>420.0</td>\n",
       "    </tr>\n",
       "    <tr>\n",
       "      <th>125</th>\n",
       "      <td>126</td>\n",
       "      <td>Aflac</td>\n",
       "      <td>10212</td>\n",
       "      <td>Financials</td>\n",
       "      <td>22559</td>\n",
       "      <td>2659.0</td>\n",
       "    </tr>\n",
       "    <tr>\n",
       "      <th>452</th>\n",
       "      <td>453</td>\n",
       "      <td>Clorox</td>\n",
       "      <td>8000</td>\n",
       "      <td>Household Products</td>\n",
       "      <td>5761</td>\n",
       "      <td>648.0</td>\n",
       "    </tr>\n",
       "    <tr>\n",
       "      <th>375</th>\n",
       "      <td>376</td>\n",
       "      <td>Kindred Healthcare</td>\n",
       "      <td>76650</td>\n",
       "      <td>Health Care</td>\n",
       "      <td>7227</td>\n",
       "      <td>-664.2</td>\n",
       "    </tr>\n",
       "    <tr>\n",
       "      <th>364</th>\n",
       "      <td>365</td>\n",
       "      <td>PPL</td>\n",
       "      <td>12689</td>\n",
       "      <td>Energy</td>\n",
       "      <td>7517</td>\n",
       "      <td>1902.0</td>\n",
       "    </tr>\n",
       "    <tr>\n",
       "      <th>371</th>\n",
       "      <td>372</td>\n",
       "      <td>Masco</td>\n",
       "      <td>26000</td>\n",
       "      <td>Household Products</td>\n",
       "      <td>7357</td>\n",
       "      <td>491.0</td>\n",
       "    </tr>\n",
       "    <tr>\n",
       "      <th>235</th>\n",
       "      <td>236</td>\n",
       "      <td>Sherwin-Williams</td>\n",
       "      <td>42550</td>\n",
       "      <td>Chemicals</td>\n",
       "      <td>11856</td>\n",
       "      <td>1132.7</td>\n",
       "    </tr>\n",
       "    <tr>\n",
       "      <th>351</th>\n",
       "      <td>352</td>\n",
       "      <td>Zimmer Biomet Holdings</td>\n",
       "      <td>18500</td>\n",
       "      <td>Health Care</td>\n",
       "      <td>7684</td>\n",
       "      <td>305.9</td>\n",
       "    </tr>\n",
       "    <tr>\n",
       "      <th>253</th>\n",
       "      <td>254</td>\n",
       "      <td>Celgene</td>\n",
       "      <td>7132</td>\n",
       "      <td>Health Care</td>\n",
       "      <td>11229</td>\n",
       "      <td>1999.2</td>\n",
       "    </tr>\n",
       "    <tr>\n",
       "      <th>368</th>\n",
       "      <td>369</td>\n",
       "      <td>Hershey</td>\n",
       "      <td>17140</td>\n",
       "      <td>Food, Beverages &amp; Tobacco</td>\n",
       "      <td>7440</td>\n",
       "      <td>720.0</td>\n",
       "    </tr>\n",
       "    <tr>\n",
       "      <th>19</th>\n",
       "      <td>20</td>\n",
       "      <td>Fannie Mae</td>\n",
       "      <td>7000</td>\n",
       "      <td>Financials</td>\n",
       "      <td>107162</td>\n",
       "      <td>12313.0</td>\n",
       "    </tr>\n",
       "    <tr>\n",
       "      <th>60</th>\n",
       "      <td>61</td>\n",
       "      <td>HP</td>\n",
       "      <td>49000</td>\n",
       "      <td>Technology</td>\n",
       "      <td>48238</td>\n",
       "      <td>2496.0</td>\n",
       "    </tr>\n",
       "    <tr>\n",
       "      <th>274</th>\n",
       "      <td>275</td>\n",
       "      <td>Praxair</td>\n",
       "      <td>26498</td>\n",
       "      <td>Chemicals</td>\n",
       "      <td>10534</td>\n",
       "      <td>1500.0</td>\n",
       "    </tr>\n",
       "    <tr>\n",
       "      <th>282</th>\n",
       "      <td>283</td>\n",
       "      <td>Autoliv</td>\n",
       "      <td>65900</td>\n",
       "      <td>Motor Vehicles &amp; Parts</td>\n",
       "      <td>10074</td>\n",
       "      <td>567.1</td>\n",
       "    </tr>\n",
       "    <tr>\n",
       "      <th>377</th>\n",
       "      <td>378</td>\n",
       "      <td>Alliance Data Systems</td>\n",
       "      <td>17000</td>\n",
       "      <td>Business Services</td>\n",
       "      <td>7138</td>\n",
       "      <td>515.8</td>\n",
       "    </tr>\n",
       "    <tr>\n",
       "      <th>98</th>\n",
       "      <td>99</td>\n",
       "      <td>Travelers Cos.</td>\n",
       "      <td>30900</td>\n",
       "      <td>Financials</td>\n",
       "      <td>27625</td>\n",
       "      <td>3014.0</td>\n",
       "    </tr>\n",
       "  </tbody>\n",
       "</table>\n",
       "</div>\n",
       "    <div class=\"colab-df-buttons\">\n",
       "\n",
       "  <div class=\"colab-df-container\">\n",
       "    <button class=\"colab-df-convert\" onclick=\"convertToInteractive('df-253ff18a-2b6a-48cc-8701-0c5a0c5bcb77')\"\n",
       "            title=\"Convert this dataframe to an interactive table.\"\n",
       "            style=\"display:none;\">\n",
       "\n",
       "  <svg xmlns=\"http://www.w3.org/2000/svg\" height=\"24px\" viewBox=\"0 -960 960 960\">\n",
       "    <path d=\"M120-120v-720h720v720H120Zm60-500h600v-160H180v160Zm220 220h160v-160H400v160Zm0 220h160v-160H400v160ZM180-400h160v-160H180v160Zm440 0h160v-160H620v160ZM180-180h160v-160H180v160Zm440 0h160v-160H620v160Z\"/>\n",
       "  </svg>\n",
       "    </button>\n",
       "\n",
       "  <style>\n",
       "    .colab-df-container {\n",
       "      display:flex;\n",
       "      gap: 12px;\n",
       "    }\n",
       "\n",
       "    .colab-df-convert {\n",
       "      background-color: #E8F0FE;\n",
       "      border: none;\n",
       "      border-radius: 50%;\n",
       "      cursor: pointer;\n",
       "      display: none;\n",
       "      fill: #1967D2;\n",
       "      height: 32px;\n",
       "      padding: 0 0 0 0;\n",
       "      width: 32px;\n",
       "    }\n",
       "\n",
       "    .colab-df-convert:hover {\n",
       "      background-color: #E2EBFA;\n",
       "      box-shadow: 0px 1px 2px rgba(60, 64, 67, 0.3), 0px 1px 3px 1px rgba(60, 64, 67, 0.15);\n",
       "      fill: #174EA6;\n",
       "    }\n",
       "\n",
       "    .colab-df-buttons div {\n",
       "      margin-bottom: 4px;\n",
       "    }\n",
       "\n",
       "    [theme=dark] .colab-df-convert {\n",
       "      background-color: #3B4455;\n",
       "      fill: #D2E3FC;\n",
       "    }\n",
       "\n",
       "    [theme=dark] .colab-df-convert:hover {\n",
       "      background-color: #434B5C;\n",
       "      box-shadow: 0px 1px 3px 1px rgba(0, 0, 0, 0.15);\n",
       "      filter: drop-shadow(0px 1px 2px rgba(0, 0, 0, 0.3));\n",
       "      fill: #FFFFFF;\n",
       "    }\n",
       "  </style>\n",
       "\n",
       "    <script>\n",
       "      const buttonEl =\n",
       "        document.querySelector('#df-253ff18a-2b6a-48cc-8701-0c5a0c5bcb77 button.colab-df-convert');\n",
       "      buttonEl.style.display =\n",
       "        google.colab.kernel.accessAllowed ? 'block' : 'none';\n",
       "\n",
       "      async function convertToInteractive(key) {\n",
       "        const element = document.querySelector('#df-253ff18a-2b6a-48cc-8701-0c5a0c5bcb77');\n",
       "        const dataTable =\n",
       "          await google.colab.kernel.invokeFunction('convertToInteractive',\n",
       "                                                    [key], {});\n",
       "        if (!dataTable) return;\n",
       "\n",
       "        const docLinkHtml = 'Like what you see? Visit the ' +\n",
       "          '<a target=\"_blank\" href=https://colab.research.google.com/notebooks/data_table.ipynb>data table notebook</a>'\n",
       "          + ' to learn more about interactive tables.';\n",
       "        element.innerHTML = '';\n",
       "        dataTable['output_type'] = 'display_data';\n",
       "        await google.colab.output.renderOutput(dataTable, element);\n",
       "        const docLink = document.createElement('div');\n",
       "        docLink.innerHTML = docLinkHtml;\n",
       "        element.appendChild(docLink);\n",
       "      }\n",
       "    </script>\n",
       "  </div>\n",
       "\n",
       "\n",
       "<div id=\"df-ec274f42-d050-4277-9179-46514a7548d1\">\n",
       "  <button class=\"colab-df-quickchart\" onclick=\"quickchart('df-ec274f42-d050-4277-9179-46514a7548d1')\"\n",
       "            title=\"Suggest charts\"\n",
       "            style=\"display:none;\">\n",
       "\n",
       "<svg xmlns=\"http://www.w3.org/2000/svg\" height=\"24px\"viewBox=\"0 0 24 24\"\n",
       "     width=\"24px\">\n",
       "    <g>\n",
       "        <path d=\"M19 3H5c-1.1 0-2 .9-2 2v14c0 1.1.9 2 2 2h14c1.1 0 2-.9 2-2V5c0-1.1-.9-2-2-2zM9 17H7v-7h2v7zm4 0h-2V7h2v10zm4 0h-2v-4h2v4z\"/>\n",
       "    </g>\n",
       "</svg>\n",
       "  </button>\n",
       "\n",
       "<style>\n",
       "  .colab-df-quickchart {\n",
       "      --bg-color: #E8F0FE;\n",
       "      --fill-color: #1967D2;\n",
       "      --hover-bg-color: #E2EBFA;\n",
       "      --hover-fill-color: #174EA6;\n",
       "      --disabled-fill-color: #AAA;\n",
       "      --disabled-bg-color: #DDD;\n",
       "  }\n",
       "\n",
       "  [theme=dark] .colab-df-quickchart {\n",
       "      --bg-color: #3B4455;\n",
       "      --fill-color: #D2E3FC;\n",
       "      --hover-bg-color: #434B5C;\n",
       "      --hover-fill-color: #FFFFFF;\n",
       "      --disabled-bg-color: #3B4455;\n",
       "      --disabled-fill-color: #666;\n",
       "  }\n",
       "\n",
       "  .colab-df-quickchart {\n",
       "    background-color: var(--bg-color);\n",
       "    border: none;\n",
       "    border-radius: 50%;\n",
       "    cursor: pointer;\n",
       "    display: none;\n",
       "    fill: var(--fill-color);\n",
       "    height: 32px;\n",
       "    padding: 0;\n",
       "    width: 32px;\n",
       "  }\n",
       "\n",
       "  .colab-df-quickchart:hover {\n",
       "    background-color: var(--hover-bg-color);\n",
       "    box-shadow: 0 1px 2px rgba(60, 64, 67, 0.3), 0 1px 3px 1px rgba(60, 64, 67, 0.15);\n",
       "    fill: var(--button-hover-fill-color);\n",
       "  }\n",
       "\n",
       "  .colab-df-quickchart-complete:disabled,\n",
       "  .colab-df-quickchart-complete:disabled:hover {\n",
       "    background-color: var(--disabled-bg-color);\n",
       "    fill: var(--disabled-fill-color);\n",
       "    box-shadow: none;\n",
       "  }\n",
       "\n",
       "  .colab-df-spinner {\n",
       "    border: 2px solid var(--fill-color);\n",
       "    border-color: transparent;\n",
       "    border-bottom-color: var(--fill-color);\n",
       "    animation:\n",
       "      spin 1s steps(1) infinite;\n",
       "  }\n",
       "\n",
       "  @keyframes spin {\n",
       "    0% {\n",
       "      border-color: transparent;\n",
       "      border-bottom-color: var(--fill-color);\n",
       "      border-left-color: var(--fill-color);\n",
       "    }\n",
       "    20% {\n",
       "      border-color: transparent;\n",
       "      border-left-color: var(--fill-color);\n",
       "      border-top-color: var(--fill-color);\n",
       "    }\n",
       "    30% {\n",
       "      border-color: transparent;\n",
       "      border-left-color: var(--fill-color);\n",
       "      border-top-color: var(--fill-color);\n",
       "      border-right-color: var(--fill-color);\n",
       "    }\n",
       "    40% {\n",
       "      border-color: transparent;\n",
       "      border-right-color: var(--fill-color);\n",
       "      border-top-color: var(--fill-color);\n",
       "    }\n",
       "    60% {\n",
       "      border-color: transparent;\n",
       "      border-right-color: var(--fill-color);\n",
       "    }\n",
       "    80% {\n",
       "      border-color: transparent;\n",
       "      border-right-color: var(--fill-color);\n",
       "      border-bottom-color: var(--fill-color);\n",
       "    }\n",
       "    90% {\n",
       "      border-color: transparent;\n",
       "      border-bottom-color: var(--fill-color);\n",
       "    }\n",
       "  }\n",
       "</style>\n",
       "\n",
       "  <script>\n",
       "    async function quickchart(key) {\n",
       "      const quickchartButtonEl =\n",
       "        document.querySelector('#' + key + ' button');\n",
       "      quickchartButtonEl.disabled = true;  // To prevent multiple clicks.\n",
       "      quickchartButtonEl.classList.add('colab-df-spinner');\n",
       "      try {\n",
       "        const charts = await google.colab.kernel.invokeFunction(\n",
       "            'suggestCharts', [key], {});\n",
       "      } catch (error) {\n",
       "        console.error('Error during call to suggestCharts:', error);\n",
       "      }\n",
       "      quickchartButtonEl.classList.remove('colab-df-spinner');\n",
       "      quickchartButtonEl.classList.add('colab-df-quickchart-complete');\n",
       "    }\n",
       "    (() => {\n",
       "      let quickchartButtonEl =\n",
       "        document.querySelector('#df-ec274f42-d050-4277-9179-46514a7548d1 button');\n",
       "      quickchartButtonEl.style.display =\n",
       "        google.colab.kernel.accessAllowed ? 'block' : 'none';\n",
       "    })();\n",
       "  </script>\n",
       "</div>\n",
       "\n",
       "    </div>\n",
       "  </div>\n"
      ],
      "text/plain": [
       "     Rank                            Title  Employees  \\\n",
       "129   130         Community Health Systems     108000   \n",
       "260   261               Group 1 Automotive      13500   \n",
       "246   247                Core-Mark Holding       7688   \n",
       "467   468                           NetApp      12030   \n",
       "348   349                 Western Refining       7134   \n",
       "83     84                         Allstate      43275   \n",
       "258   259         Jacobs Engineering Group      49350   \n",
       "479   480                Delek US Holdings       1326   \n",
       "200   201                 Waste Management      41200   \n",
       "115   116                         Raytheon      63000   \n",
       "26     27                         Alphabet      72053   \n",
       "53     54                           Pfizer      96500   \n",
       "37     38                           Target     323000   \n",
       "307   306  Public Service Enterprise Group      13065   \n",
       "11     12                       Amazon.com     341400   \n",
       "102   103              World Fuel Services       5000   \n",
       "277   278             Occidental Petroleum      11000   \n",
       "387   388            R.R. Donnelley & Sons      44360   \n",
       "427   428                        Alleghany       3420   \n",
       "241   242                       First Data      24000   \n",
       "125   126                            Aflac      10212   \n",
       "452   453                           Clorox       8000   \n",
       "375   376               Kindred Healthcare      76650   \n",
       "364   365                              PPL      12689   \n",
       "371   372                            Masco      26000   \n",
       "235   236                 Sherwin-Williams      42550   \n",
       "351   352           Zimmer Biomet Holdings      18500   \n",
       "253   254                          Celgene       7132   \n",
       "368   369                          Hershey      17140   \n",
       "19     20                       Fannie Mae       7000   \n",
       "60     61                               HP      49000   \n",
       "274   275                          Praxair      26498   \n",
       "282   283                          Autoliv      65900   \n",
       "377   378            Alliance Data Systems      17000   \n",
       "98     99                   Travelers Cos.      30900   \n",
       "\n",
       "                         Sector  Revenues  Profits  \n",
       "129                 Health Care     21374  -1721.0  \n",
       "260                   Retailing     10888    147.1  \n",
       "246                 Wholesalers     11507     54.2  \n",
       "467                  Technology      5546    229.0  \n",
       "348                      Energy      7743    124.9  \n",
       "83                   Financials     36534   1877.0  \n",
       "258  Engineering & Construction     10964    210.5  \n",
       "479                      Energy      5414   -153.7  \n",
       "200           Business Services     13609   1182.0  \n",
       "115         Aerospace & Defense     24069   2211.0  \n",
       "26                   Technology     90272  19478.0  \n",
       "53                  Health Care     52824   7215.0  \n",
       "37                    Retailing     69495   2737.0  \n",
       "307                      Energy      9061    887.0  \n",
       "11                   Technology    135987   2371.0  \n",
       "102                      Energy     27016    126.5  \n",
       "277                      Energy     10398   -574.0  \n",
       "387                       Media      6896   -495.9  \n",
       "427                  Financials      6131    456.9  \n",
       "241           Business Services     11584    420.0  \n",
       "125                  Financials     22559   2659.0  \n",
       "452          Household Products      5761    648.0  \n",
       "375                 Health Care      7227   -664.2  \n",
       "364                      Energy      7517   1902.0  \n",
       "371          Household Products      7357    491.0  \n",
       "235                   Chemicals     11856   1132.7  \n",
       "351                 Health Care      7684    305.9  \n",
       "253                 Health Care     11229   1999.2  \n",
       "368   Food, Beverages & Tobacco      7440    720.0  \n",
       "19                   Financials    107162  12313.0  \n",
       "60                   Technology     48238   2496.0  \n",
       "274                   Chemicals     10534   1500.0  \n",
       "282      Motor Vehicles & Parts     10074    567.1  \n",
       "377           Business Services      7138    515.8  \n",
       "98                   Financials     27625   3014.0  "
      ]
     },
     "execution_count": 71,
     "metadata": {},
     "output_type": "execute_result"
    }
   ],
   "source": [
    "\"\"\"Select 70 % random rows from the dataset and condider this as a sample. calculate mean of this sample with respect to profit column. repeat the process 5 times\n",
    "   Comute the difference between actual mean and each of the sample mean seperately,tabulate your observations.\"\"\"\n",
    "\n",
    "\n",
    "sub_df.sample(frac =0.070)"
   ]
  },
  {
   "cell_type": "code",
   "execution_count": 73,
   "id": "7975cae3",
   "metadata": {
    "colab": {
     "base_uri": "https://localhost:8080/"
    },
    "executionInfo": {
     "elapsed": 68,
     "status": "ok",
     "timestamp": 1731836516740,
     "user": {
      "displayName": "Akash Sharma",
      "userId": "17457304341170961774"
     },
     "user_tz": -330
    },
    "id": "yA3If9Lc0tJj",
    "outputId": "c5a1ac61-8de5-4b0e-a87e-b751c73b29b2"
   },
   "outputs": [
    {
     "name": "stdout",
     "output_type": "stream",
     "text": [
      "1927.3748571428573\n"
     ]
    }
   ],
   "source": [
    "sam1=  sub_df.sample(frac =0.70)\n",
    "mean_pro2= sam1[\"Profits\"].mean()\n",
    "print(mean_pro2)"
   ]
  },
  {
   "cell_type": "code",
   "execution_count": 74,
   "id": "c22724fa",
   "metadata": {
    "colab": {
     "base_uri": "https://localhost:8080/"
    },
    "executionInfo": {
     "elapsed": 66,
     "status": "ok",
     "timestamp": 1731836516740,
     "user": {
      "displayName": "Akash Sharma",
      "userId": "17457304341170961774"
     },
     "user_tz": -330
    },
    "id": "6JlPu5Wu0zAo",
    "outputId": "9cd8c371-7b56-4a5f-c752-982b997b9cb4"
   },
   "outputs": [
    {
     "name": "stdout",
     "output_type": "stream",
     "text": [
      "1950.4405714285713\n"
     ]
    }
   ],
   "source": [
    "df_sam3= sub_df.sample(frac =0.70,)\n",
    "mean_pro3= df_sam3[\"Profits\"].mean()\n",
    "print(mean_pro3)"
   ]
  },
  {
   "cell_type": "code",
   "execution_count": 75,
   "id": "65dad5b2",
   "metadata": {
    "colab": {
     "base_uri": "https://localhost:8080/"
    },
    "executionInfo": {
     "elapsed": 64,
     "status": "ok",
     "timestamp": 1731836516740,
     "user": {
      "displayName": "Akash Sharma",
      "userId": "17457304341170961774"
     },
     "user_tz": -330
    },
    "id": "R8ha8g4Z03yW",
    "outputId": "8f2c0440-775d-4b50-c161-9550a016112d"
   },
   "outputs": [
    {
     "name": "stdout",
     "output_type": "stream",
     "text": [
      "1584.4942857142855\n"
     ]
    }
   ],
   "source": [
    "df_sam4= sub_df.sample(frac =0.070)\n",
    "mean_pro4= df_sam4[\"Profits\"].mean()\n",
    "print(mean_pro4)"
   ]
  },
  {
   "cell_type": "code",
   "execution_count": 76,
   "id": "aabde8e5",
   "metadata": {
    "colab": {
     "base_uri": "https://localhost:8080/"
    },
    "executionInfo": {
     "elapsed": 63,
     "status": "ok",
     "timestamp": 1731836516742,
     "user": {
      "displayName": "Akash Sharma",
      "userId": "17457304341170961774"
     },
     "user_tz": -330
    },
    "id": "G2fJoimw1Cis",
    "outputId": "4c7cbb89-547c-43e3-a996-f08d5216a9b0"
   },
   "outputs": [
    {
     "name": "stdout",
     "output_type": "stream",
     "text": [
      "1469.0457142857142\n"
     ]
    }
   ],
   "source": [
    "df_sam5= sub_df.sample(frac =0.070)\n",
    "mean_pro5= df_sam5[\"Profits\"].mean()\n",
    "print(mean_pro5)"
   ]
  },
  {
   "cell_type": "code",
   "execution_count": 77,
   "id": "99c7bfa4",
   "metadata": {
    "colab": {
     "base_uri": "https://localhost:8080/"
    },
    "executionInfo": {
     "elapsed": 62,
     "status": "ok",
     "timestamp": 1731836516743,
     "user": {
      "displayName": "Akash Sharma",
      "userId": "17457304341170961774"
     },
     "user_tz": -330
    },
    "id": "w0CLnCuj1MkQ",
    "outputId": "cb48b93a-c2a5-4b41-ca4c-2d89412260ed"
   },
   "outputs": [
    {
     "name": "stdout",
     "output_type": "stream",
     "text": [
      "1641.1399999999999\n"
     ]
    }
   ],
   "source": [
    "df_sam6= sub_df.sample(frac =0.070)\n",
    "mean_pro6= df_sam6[\"Profits\"].mean()\n",
    "print(mean_pro6)"
   ]
  },
  {
   "cell_type": "code",
   "execution_count": 82,
   "id": "889f080c",
   "metadata": {
    "executionInfo": {
     "elapsed": 51,
     "status": "ok",
     "timestamp": 1731836516746,
     "user": {
      "displayName": "Akash Sharma",
      "userId": "17457304341170961774"
     },
     "user_tz": -330
    },
    "id": "mUWgoKc51e86"
   },
   "outputs": [],
   "source": [
    "### lower and upper limit\n",
    "#lower limit = q1 - 1.5(iqr)\n",
    "#upper limit = q3 + 1.5(iqr)"
   ]
  },
  {
   "cell_type": "code",
   "execution_count": 83,
   "id": "dffdffcd",
   "metadata": {
    "colab": {
     "base_uri": "https://localhost:8080/"
    },
    "executionInfo": {
     "elapsed": 51,
     "status": "ok",
     "timestamp": 1731836516746,
     "user": {
      "displayName": "Akash Sharma",
      "userId": "17457304341170961774"
     },
     "user_tz": -330
    },
    "id": "l_qADOWqHcD5",
    "outputId": "612c1d81-203b-48d1-bc63-ca50f9d2a79c"
   },
   "outputs": [
    {
     "name": "stdout",
     "output_type": "stream",
     "text": [
      "45645.625\n",
      "-15795.375\n"
     ]
    }
   ],
   "source": [
    "upper_limit = q3 + 1.5*iqr\n",
    "print(upper_limit)\n",
    "lower_limit = q1 - 1.5*iqr\n",
    "print(lower_limit)"
   ]
  },
  {
   "cell_type": "markdown",
   "id": "f549c44b",
   "metadata": {
    "id": "UQT_aflrLJqK"
   },
   "source": [
    "#***OUTLIERS***"
   ]
  },
  {
   "cell_type": "code",
   "execution_count": 85,
   "id": "c3fca811",
   "metadata": {
    "colab": {
     "base_uri": "https://localhost:8080/"
    },
    "executionInfo": {
     "elapsed": 47,
     "status": "ok",
     "timestamp": 1731836516747,
     "user": {
      "displayName": "Akash Sharma",
      "userId": "17457304341170961774"
     },
     "user_tz": -330
    },
    "id": "Z27oU5QtPb7-",
    "outputId": "410c9f5b-edf4-4c10-9544-cb9b47ff8758"
   },
   "outputs": [
    {
     "name": "stdout",
     "output_type": "stream",
     "text": [
      "1535.0500000000002\n"
     ]
    }
   ],
   "source": [
    "iqr_profit = sub_df['Profits'].quantile(0.75)-sub_df['Profits'].quantile(0.25)\n",
    "print(iqr_profit)"
   ]
  },
  {
   "cell_type": "code",
   "execution_count": 86,
   "id": "0ba27717",
   "metadata": {
    "colab": {
     "base_uri": "https://localhost:8080/"
    },
    "executionInfo": {
     "elapsed": 44,
     "status": "ok",
     "timestamp": 1731836516747,
     "user": {
      "displayName": "Akash Sharma",
      "userId": "17457304341170961774"
     },
     "user_tz": -330
    },
    "id": "gVQXXxDDPbhZ",
    "outputId": "e68ef417-6543-4187-e374-22395f76777a"
   },
   "outputs": [
    {
     "name": "stdout",
     "output_type": "stream",
     "text": [
      "4073.3500000000004\n"
     ]
    }
   ],
   "source": [
    "upper_limit_profit = sub_df['Profits'].quantile(0.75)+1.5*iqr_profit\n",
    "print(upper_limit_profit)"
   ]
  },
  {
   "cell_type": "code",
   "execution_count": 87,
   "id": "d646f424",
   "metadata": {
    "colab": {
     "base_uri": "https://localhost:8080/"
    },
    "executionInfo": {
     "elapsed": 40,
     "status": "ok",
     "timestamp": 1731836516747,
     "user": {
      "displayName": "Akash Sharma",
      "userId": "17457304341170961774"
     },
     "user_tz": -330
    },
    "id": "YkGo_t31KSry",
    "outputId": "6363a75c-873c-48fe-8ad3-065764752147"
   },
   "outputs": [
    {
     "name": "stdout",
     "output_type": "stream",
     "text": [
      "Outliers Rows\n",
      "     Rank               Title  Employees       Sector  Revenues  Profits\n",
      "0       1             Walmart    2300000    Retailing    485873  13643.0\n",
      "1       2  Berkshire Hathaway     367700   Financials    223604  24074.0\n",
      "2       3               Apple     116000   Technology    215639  45687.0\n",
      "3       4         Exxon Mobil      72700       Energy    205004   7840.0\n",
      "5       6  UnitedHealth Group     230000  Health Care    184840   7017.0\n",
      "..    ...                 ...        ...          ...       ...      ...\n",
      "284   285        Baker Hughes      33000       Energy      9841  -2738.0\n",
      "297   298             Corning      40700  Industrials      9390   3695.0\n",
      "309   310                eBay      12600   Technology      8979   7266.0\n",
      "342   343   Chesapeake Energy       3300       Energy      7872  -4401.0\n",
      "343   344  Anadarko Petroleum       4500       Energy      7869  -3071.0\n",
      "\n",
      "[80 rows x 6 columns]\n"
     ]
    }
   ],
   "source": [
    "outliers_profits = sub_df[((sub_df['Profits'])>(sub_df['Profits'].quantile(0.75))+((sub_df['Profits'].quantile(0.75))-(sub_df['Profits'].quantile(0.25))))|\n",
    "                 ((sub_df['Profits'])<(sub_df['Profits'].quantile(0.25))-1.5*(sub_df['Profits'].quantile(0.75))-(sub_df['Profits'].quantile(0.25)))]\n",
    "print(\"Outliers Rows\")\n",
    "print(outliers_profits)"
   ]
  }
 ],
 "metadata": {
  "colab": {
   "provenance": []
  },
  "kernelspec": {
   "display_name": "Python 3 (ipykernel)",
   "language": "python",
   "name": "python3"
  },
  "language_info": {
   "codemirror_mode": {
    "name": "ipython",
    "version": 3
   },
   "file_extension": ".py",
   "mimetype": "text/x-python",
   "name": "python",
   "nbconvert_exporter": "python",
   "pygments_lexer": "ipython3",
   "version": "3.12.4"
  }
 },
 "nbformat": 4,
 "nbformat_minor": 5
}
