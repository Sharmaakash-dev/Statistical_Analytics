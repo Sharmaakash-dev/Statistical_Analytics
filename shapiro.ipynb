{
 "cells": [
  {
   "cell_type": "code",
   "execution_count": 6,
   "metadata": {},
   "outputs": [],
   "source": [
    "from scipy.stats import shapiro as sp"
   ]
  },
  {
   "cell_type": "code",
   "execution_count": 7,
   "metadata": {},
   "outputs": [
    {
     "name": "stdout",
     "output_type": "stream",
     "text": [
      "stats = 0.9780016294384769\n",
      "p-value = 0.9492885624975852\n",
      "The data is normally distributed\n"
     ]
    }
   ],
   "source": [
    "data =[20,10,30,40,50,60, 70, ]\n",
    "\n",
    "# perform the shapiro - wilk - test\n",
    "\n",
    "stats , p  = shapiro(data)  # sp(data) with use import shapiro as ' sp ' \n",
    "\n",
    "print('stats =' , stats)\n",
    "print('p-value =' , p)\n",
    "\n",
    "if p > 0.05 :\n",
    "    print(\"The data is normally distributed\")\n",
    "else:\n",
    "    print(\"The data is not normally distributed\")"
   ]
  },
  {
   "cell_type": "code",
   "execution_count": 8,
   "metadata": {},
   "outputs": [],
   "source": [
    "from scipy.stats import normaltest as nt\n",
    "import  numpy as np"
   ]
  },
  {
   "cell_type": "code",
   "execution_count": 21,
   "metadata": {},
   "outputs": [
    {
     "name": "stdout",
     "output_type": "stream",
     "text": [
      "stats = 1.7004056883060088\n",
      "p-value = 0.42732824212143383\n",
      "\n",
      " NormaltestResult(statistic=1.7004056883060088, pvalue=0.42732824212143383) \n",
      "\n",
      "The data is normally distributed\n"
     ]
    },
    {
     "name": "stderr",
     "output_type": "stream",
     "text": [
      "c:\\Users\\Tinku\\anaconda3\\Lib\\site-packages\\scipy\\stats\\_axis_nan_policy.py:531: UserWarning: kurtosistest only valid for n>=20 ... continuing anyway, n=8\n",
      "  res = hypotest_fun_out(*samples, **kwds)\n"
     ]
    }
   ],
   "source": [
    "from scipy.stats import normaltest \n",
    "import  numpy as np\n",
    "\n",
    "data = [10,20,30,40,50,60,70,80]\n",
    "\n",
    "# perform the d'agostino and pearson k^2  test\n",
    "stats , p  =  normaltest(data)\n",
    "\n",
    "print('stats =' , stats)\n",
    "print('p-value =' , p)\n",
    "\n",
    "# \n",
    "h =  normaltest(data)\n",
    "print('\\n',h , '\\n')\n",
    "\n",
    "\n",
    "if p > 0.05 :\n",
    "    print(\"The data is normally distributed\")\n",
    "\n",
    "else:\n",
    "    print(\"The data is not normally distributed\")\n",
    "\n"
   ]
  },
  {
   "cell_type": "code",
   "execution_count": 24,
   "metadata": {},
   "outputs": [
    {
     "name": "stdout",
     "output_type": "stream",
     "text": [
      "corelation - r - 1.0\n",
      "p value - 0.0\n",
      "The data is not normally distributed\n"
     ]
    }
   ],
   "source": [
    "import numpy as np \n",
    "from scipy.stats import pearsonr\n",
    "\n",
    "x  = [1,2,3,4,5]\n",
    "y = [2,4,6,8,10]\n",
    "\n",
    "# pearson corelation \n",
    "\n",
    "r , p  = pearsonr(x, y)\n",
    "\n",
    "print('corelation - r -' , r )\n",
    "print('p value -' , p )\n",
    "\n",
    "\n",
    "if p > 0.05 :\n",
    "    print(\"The data is normally distributed\")\n",
    "\n",
    "else:\n",
    "    print(\"The data is not normally distributed\")\n"
   ]
  },
  {
   "cell_type": "code",
   "execution_count": 28,
   "metadata": {},
   "outputs": [
    {
     "name": "stdout",
     "output_type": "stream",
     "text": [
      "corelation - r - 1.0\n",
      "p value - 0.0\n",
      "The data is not normally distributed\n"
     ]
    }
   ],
   "source": [
    "import numpy as np \n",
    "from scipy.stats import spearmanr\n",
    "\n",
    "x  = [1,2,3,4,5,6 ,7]\n",
    "y = [2,4,6,8,10,12,14]\n",
    "\n",
    "# pearson corelation \n",
    "\n",
    "r , p  = spearmanr(x, y)\n",
    "\n",
    "print('corelation - r -' , r )\n",
    "print('p value -' , p )\n",
    "\n",
    "\n",
    "if p > 0.05 :\n",
    "    print(\"The data is normally distributed\")\n",
    "\n",
    "else:\n",
    "    print(\"The data is not normally distributed\")\n"
   ]
  },
  {
   "cell_type": "code",
   "execution_count": null,
   "metadata": {},
   "outputs": [],
   "source": []
  },
  {
   "cell_type": "code",
   "execution_count": null,
   "metadata": {},
   "outputs": [],
   "source": []
  },
  {
   "cell_type": "code",
   "execution_count": null,
   "metadata": {},
   "outputs": [],
   "source": []
  },
  {
   "cell_type": "code",
   "execution_count": null,
   "metadata": {},
   "outputs": [],
   "source": []
  },
  {
   "cell_type": "code",
   "execution_count": null,
   "metadata": {},
   "outputs": [],
   "source": []
  },
  {
   "cell_type": "code",
   "execution_count": null,
   "metadata": {},
   "outputs": [],
   "source": []
  },
  {
   "cell_type": "code",
   "execution_count": null,
   "metadata": {},
   "outputs": [],
   "source": []
  },
  {
   "cell_type": "code",
   "execution_count": null,
   "metadata": {},
   "outputs": [],
   "source": []
  },
  {
   "cell_type": "code",
   "execution_count": null,
   "metadata": {},
   "outputs": [],
   "source": []
  },
  {
   "cell_type": "code",
   "execution_count": null,
   "metadata": {},
   "outputs": [],
   "source": []
  },
  {
   "cell_type": "code",
   "execution_count": null,
   "metadata": {},
   "outputs": [],
   "source": []
  },
  {
   "cell_type": "code",
   "execution_count": null,
   "metadata": {},
   "outputs": [],
   "source": []
  },
  {
   "cell_type": "code",
   "execution_count": null,
   "metadata": {},
   "outputs": [],
   "source": []
  },
  {
   "cell_type": "code",
   "execution_count": null,
   "metadata": {},
   "outputs": [],
   "source": []
  },
  {
   "cell_type": "code",
   "execution_count": null,
   "metadata": {},
   "outputs": [],
   "source": []
  }
 ],
 "metadata": {
  "kernelspec": {
   "display_name": "Python 3",
   "language": "python",
   "name": "python3"
  },
  "language_info": {
   "codemirror_mode": {
    "name": "ipython",
    "version": 3
   },
   "file_extension": ".py",
   "mimetype": "text/x-python",
   "name": "python",
   "nbconvert_exporter": "python",
   "pygments_lexer": "ipython3",
   "version": "3.12.4"
  }
 },
 "nbformat": 4,
 "nbformat_minor": 2
}
